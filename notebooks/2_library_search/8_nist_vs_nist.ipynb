{
 "cells": [
  {
   "cell_type": "code",
   "execution_count": 1,
   "metadata": {},
   "outputs": [],
   "source": [
    "import pandas as pd\n",
    "import re\n",
    "from tqdm import tqdm\n",
    "import numpy as np\n",
    "from matplotlib import pyplot as plt\n",
    "import itertools\n",
    "\n",
    "from ms_entropy.file_io.msp_file import read_one_spectrum\n",
    "import sys\n",
    "from rdkit import Chem, DataStructs\n",
    "import functools\n",
    "\n",
    "sys.path.append(\"../../src/ms_similarity_metrics/\")\n",
    "from create_spectrum import smile2inchi\n"
   ]
  },
  {
   "cell_type": "code",
   "execution_count": 2,
   "metadata": {},
   "outputs": [],
   "source": [
    "from rdkit import RDLogger\n",
    "RDLogger.DisableLog('rdApp.info')   "
   ]
  },
  {
   "cell_type": "code",
   "execution_count": 3,
   "metadata": {},
   "outputs": [],
   "source": [
    "QUERY_DIR = '../../data/mod_cosine_queries/'\n",
    "QUERY_PATH = 's3://enveda-data-user/chloe.engler/cosine_similarity/modified_cosine_queries/nist_vs_nist/'\n",
    "DATA_DIR = '../../data/'\n",
    "\n",
    "UNWEIGHTED_FILE = 'nist_v_nist_10_ppm_2'\n",
    "WEIGHTED_FILE = 'weighted_nist_v_nist_10_ppm_2'"
   ]
  },
  {
   "attachments": {},
   "cell_type": "markdown",
   "metadata": {},
   "source": [
    "# Get queries"
   ]
  },
  {
   "cell_type": "code",
   "execution_count": 4,
   "metadata": {},
   "outputs": [
    {
     "name": "stdout",
     "output_type": "stream",
     "text": [
      "(402400, 6)\n",
      "(354600, 6)\n"
     ]
    }
   ],
   "source": [
    "# Get the NIST23 queries\n",
    "queries = pd.read_csv(f'{QUERY_PATH}{UNWEIGHTED_FILE}.csv', index_col=0)\n",
    "weighted_queries = pd.read_csv(f'{QUERY_PATH}{WEIGHTED_FILE}.csv', index_col=0)\n",
    "# queries = pd.read_csv(f'{QUERY_DIR}{UNWEIGHTED_FILE}.csv', index_col=0)\n",
    "# weighted_queries = pd.read_csv(f'{QUERY_DIR}{WEIGHTED_FILE}.csv', index_col=0)\n",
    "print(queries.shape), print(weighted_queries.shape)\n",
    "\n",
    "# Filter the queries to only include queries in both the weighted and unweighted queries\n",
    "queries = queries[queries['wout_identifier'].isin(weighted_queries['wout_identifier'])]\n",
    "weighted_queries = weighted_queries[weighted_queries['wout_identifier'].isin(queries['wout_identifier'])]"
   ]
  },
  {
   "cell_type": "code",
   "execution_count": 5,
   "metadata": {},
   "outputs": [
    {
     "name": "stderr",
     "output_type": "stream",
     "text": [
      "100%|██████████| 354600/354600 [00:28<00:00, 12546.14it/s]\n",
      "100%|██████████| 354600/354600 [00:31<00:00, 11417.78it/s]\n"
     ]
    }
   ],
   "source": [
    "# Reformat the library_spectra_matches column to a list of tuples\n",
    "all_matches = {}\n",
    "for query in tqdm(queries.index.values):\n",
    "    matches = []\n",
    "    non_decimal = re.compile(r'[^\\d.]+')\n",
    "\n",
    "    test = queries.loc[query]['library_spectra_matches'].replace(\"'\", \"\").replace(')', '').split('(')[1:]\n",
    "    for pair in test:\n",
    "        matches.append((pair.split(',')[0], float(non_decimal.sub('', pair.split(',')[1]))))\n",
    "\n",
    "    all_matches[query] = matches\n",
    "queries['library_spectra_matches'] = all_matches\n",
    "\n",
    "#Reformat the library_spectra_matches column to a list of tuples for the weighted queries\n",
    "all_weighted_matches = {}\n",
    "for query in tqdm(weighted_queries.index.values):\n",
    "    matches = []\n",
    "    non_decimal = re.compile(r'[^\\d.]+')\n",
    "\n",
    "    test = weighted_queries.loc[query]['library_spectra_matches'].replace(\"'\", \"\").replace(')', '').split('(')[1:]\n",
    "    for pair in test:\n",
    "        matches.append((pair.split(',')[0], float(non_decimal.sub('', pair.split(',')[1]))))\n",
    "    all_weighted_matches[query] = matches\n",
    "weighted_queries['library_spectra_matches'] = all_weighted_matches\n"
   ]
  },
  {
   "attachments": {},
   "cell_type": "markdown",
   "metadata": {},
   "source": [
    "# Get NIST23 data"
   ]
  },
  {
   "cell_type": "code",
   "execution_count": 6,
   "metadata": {},
   "outputs": [
    {
     "name": "stderr",
     "output_type": "stream",
     "text": [
      "1934658it [03:08, 10266.64it/s]\n"
     ]
    }
   ],
   "source": [
    "# Get NIST23 library\n",
    "# Get data from s3://enveda-data-user/chloe.engler/cosine_similarity/NIST_data/NIST23-HR-MSMS.MSP\n",
    "spectra_list = []\n",
    "for i,spectrum in tqdm(enumerate(read_one_spectrum(f'{DATA_DIR}NIST23-HR-MSMS.MSP'))):\n",
    "    spectra_list.append(spectrum)"
   ]
  },
  {
   "cell_type": "code",
   "execution_count": 7,
   "metadata": {},
   "outputs": [],
   "source": [
    "# Create NIST dataframe\n",
    "nist_df = pd.DataFrame(spectra_list)\n",
    "nist_df = nist_df[nist_df['precursor_type'] == '[M+H]+' ]"
   ]
  },
  {
   "cell_type": "code",
   "execution_count": 8,
   "metadata": {},
   "outputs": [],
   "source": [
    "def create_identifier(x):\n",
    "    if not pd.isna(x['cas#']):\n",
    "        return str(x['index']) + '_' + x['cas#']\n",
    "    else:\n",
    "        return str(x['index']) + '_' + x['nist#']"
   ]
  },
  {
   "cell_type": "code",
   "execution_count": 9,
   "metadata": {},
   "outputs": [],
   "source": [
    "\n",
    "nist_df = nist_df.reset_index(drop=False)\n",
    "nist_df['indentifier'] = nist_df.apply(lambda x: create_identifier(x), axis=1)\n",
    "nist_df.set_index('indentifier', inplace=True)"
   ]
  },
  {
   "attachments": {},
   "cell_type": "markdown",
   "metadata": {},
   "source": [
    "# Get smiles"
   ]
  },
  {
   "cell_type": "code",
   "execution_count": 10,
   "metadata": {},
   "outputs": [
    {
     "name": "stderr",
     "output_type": "stream",
     "text": [
      "100%|██████████| 567631/567631 [00:04<00:00, 134186.22it/s]\n"
     ]
    }
   ],
   "source": [
    "# Get nist smiles dict\n",
    "nist_smiles_dict = {}\n",
    "for index in tqdm(nist_df.index.values):\n",
    "    nist_smiles_dict[index] = nist_df.loc[index,'smiles']"
   ]
  },
  {
   "cell_type": "code",
   "execution_count": 11,
   "metadata": {},
   "outputs": [
    {
     "name": "stderr",
     "output_type": "stream",
     "text": [
      "100%|██████████| 354600/354600 [00:27<00:00, 13114.61it/s]\n",
      "100%|██████████| 354600/354600 [00:19<00:00, 18374.04it/s]\n"
     ]
    }
   ],
   "source": [
    "# Get wout smiles for unweighted queries\n",
    "for i in tqdm(queries.index.values):\n",
    "    wout_id = queries.loc[i, 'wout_identifier']\n",
    "    queries.loc[i, 'wout_smiles'] = nist_smiles_dict[wout_id]\n",
    "\n",
    "# Get wout smiles for weighted queries\n",
    "for i in tqdm(queries.index.values):\n",
    "    wout_id = queries.loc[i, 'wout_identifier']\n",
    "    weighted_queries.loc[i, 'wout_smiles'] = nist_smiles_dict[wout_id]"
   ]
  },
  {
   "attachments": {},
   "cell_type": "markdown",
   "metadata": {},
   "source": [
    "# Look at number of matches"
   ]
  },
  {
   "cell_type": "code",
   "execution_count": 12,
   "metadata": {},
   "outputs": [
    {
     "data": {
      "image/png": "[encoded data removed]",
      "text/plain": [
       "<Figure size 640x480 with 2 Axes>"
      ]
     },
     "metadata": {},
     "output_type": "display_data"
    }
   ],
   "source": [
    "# Set initial variables\n",
    "f, (ax1, ax2) = plt.subplots(1, 2, sharey=True, sharex=True)\n",
    "\n",
    "# Plot number of matches per query\n",
    "num_matches = queries.library_spectra_matches.apply(lambda x: len(x))\n",
    "ax1.hist(num_matches, bins=30, color='darkseagreen')\n",
    "ax1.set_title('Unweighted')\n",
    "\n",
    "# Plot number of matches per weighted query\n",
    "num_matches = weighted_queries.library_spectra_matches.apply(lambda x: len(x))\n",
    "ax2.hist(num_matches, bins=30, color='darkseagreen')\n",
    "ax2.set_title('Weighted')\n",
    "\n",
    "# Show plot\n",
    "plt.suptitle('Number of matches per query')\n",
    "plt.show()"
   ]
  },
  {
   "attachments": {},
   "cell_type": "markdown",
   "metadata": {},
   "source": [
    "# Get inchikeys"
   ]
  },
  {
   "cell_type": "code",
   "execution_count": 13,
   "metadata": {},
   "outputs": [
    {
     "name": "stderr",
     "output_type": "stream",
     "text": [
      "100%|██████████| 354600/354600 [00:35<00:00, 9891.14it/s] \n",
      "100%|██████████| 354600/354600 [00:45<00:00, 7841.38it/s] \n"
     ]
    }
   ],
   "source": [
    "# Get NIST23 partial inchikeys\n",
    "inchi_dict = {}\n",
    "for i in tqdm(queries.index.values):\n",
    "    inchi_list = []\n",
    "    for pair in queries.loc[i, 'library_spectra_matches']:\n",
    "        index = pair[0]\n",
    "        inchi_list.append(nist_df.loc[index,'inchikey'][:14])\n",
    "    inchi_dict[i] = inchi_list\n",
    "queries['nist_inchis'] = queries.index.map(inchi_dict)\n",
    "\n",
    "# Get NIST23 partial inchikeys for weighted queries\n",
    "weighted_inchi_dict = {}\n",
    "for i in tqdm(weighted_queries.index.values):\n",
    "    inchi_list = []\n",
    "    for pair in weighted_queries.loc[i, 'library_spectra_matches']:\n",
    "        index = pair[0]\n",
    "        inchi_list.append(nist_df.loc[index,'inchikey'][:14])\n",
    "    weighted_inchi_dict[i] = inchi_list\n",
    "weighted_queries['nist_inchis'] = queries.index.map(weighted_inchi_dict)"
   ]
  },
  {
   "cell_type": "code",
   "execution_count": 14,
   "metadata": {},
   "outputs": [
    {
     "name": "stderr",
     "output_type": "stream",
     "text": [
      "  5%|▌         | 19400/354600 [00:13<03:56, 1415.88it/s][02:23:43] Explicit valence for atom # 0 N, 4, is greater than permitted\n",
      "[02:23:43] Explicit valence for atom # 0 N, 4, is greater than permitted\n",
      "[02:23:43] Explicit valence for atom # 0 N, 4, is greater than permitted\n",
      "[02:23:43] Explicit valence for atom # 0 N, 4, is greater than permitted\n",
      "[02:23:43] Explicit valence for atom # 0 N, 4, is greater than permitted\n",
      "[02:23:43] Explicit valence for atom # 0 N, 4, is greater than permitted\n",
      "[02:23:43] Explicit valence for atom # 0 N, 4, is greater than permitted\n",
      "[02:23:43] Explicit valence for atom # 0 N, 4, is greater than permitted\n",
      "[02:23:43] Explicit valence for atom # 0 N, 4, is greater than permitted\n",
      "[02:23:43] Explicit valence for atom # 0 N, 4, is greater than permitted\n",
      "  7%|▋         | 25407/354600 [00:17<03:20, 1642.07it/s][02:23:47] Explicit valence for atom # 11 O, 3, is greater than permitted\n",
      "[02:23:47] Explicit valence for atom # 11 O, 3, is greater than permitted\n",
      "[02:23:47] Explicit valence for atom # 11 O, 3, is greater than permitted\n",
      "[02:23:47] Explicit valence for atom # 11 O, 3, is greater than permitted\n",
      "[02:23:47] Explicit valence for atom # 11 O, 3, is greater than permitted\n",
      "[02:23:47] Explicit valence for atom # 11 O, 3, is greater than permitted\n",
      "[02:23:47] Explicit valence for atom # 11 O, 3, is greater than permitted\n",
      "[02:23:47] Explicit valence for atom # 11 O, 3, is greater than permitted\n",
      "[02:23:47] Explicit valence for atom # 11 O, 3, is greater than permitted\n",
      "[02:23:47] Explicit valence for atom # 11 O, 3, is greater than permitted\n",
      "[02:23:47] Explicit valence for atom # 11 O, 3, is greater than permitted\n",
      "[02:23:47] Explicit valence for atom # 11 O, 3, is greater than permitted\n",
      "[02:23:47] Explicit valence for atom # 11 O, 3, is greater than permitted\n",
      "[02:23:47] Explicit valence for atom # 11 O, 3, is greater than permitted\n",
      "[02:23:47] Explicit valence for atom # 11 O, 3, is greater than permitted\n",
      " 22%|██▏       | 78411/354600 [00:54<02:42, 1701.14it/s][02:24:24] Explicit valence for atom # 0 O, 3, is greater than permitted\n",
      "[02:24:24] Explicit valence for atom # 0 O, 3, is greater than permitted\n",
      "[02:24:24] Explicit valence for atom # 0 O, 3, is greater than permitted\n",
      "[02:24:24] Explicit valence for atom # 0 O, 3, is greater than permitted\n",
      "[02:24:24] Explicit valence for atom # 0 O, 3, is greater than permitted\n",
      "[02:24:24] Explicit valence for atom # 0 O, 3, is greater than permitted\n",
      "[02:24:24] Explicit valence for atom # 0 O, 3, is greater than permitted\n",
      "[02:24:24] Explicit valence for atom # 0 O, 3, is greater than permitted\n",
      "[02:24:24] Explicit valence for atom # 0 O, 3, is greater than permitted\n",
      "[02:24:24] Explicit valence for atom # 0 O, 3, is greater than permitted\n",
      "[02:24:24] Explicit valence for atom # 0 O, 3, is greater than permitted\n",
      "[02:24:24] Explicit valence for atom # 0 O, 3, is greater than permitted\n",
      " 59%|█████▊    | 207761/354600 [02:14<01:18, 1877.11it/s][02:25:44] WARNING: not removing hydrogen atom without neighbors\n",
      "[02:25:44] Explicit valence for atom # 9 O, 3, is greater than permitted\n",
      "100%|██████████| 354600/354600 [03:46<00:00, 1566.71it/s]\n",
      "  5%|▌         | 19350/354600 [00:12<04:00, 1393.15it/s][02:27:28] Explicit valence for atom # 0 N, 4, is greater than permitted\n",
      "[02:27:28] Explicit valence for atom # 0 N, 4, is greater than permitted\n",
      "[02:27:28] Explicit valence for atom # 0 N, 4, is greater than permitted\n",
      "[02:27:28] Explicit valence for atom # 0 N, 4, is greater than permitted\n",
      "[02:27:28] Explicit valence for atom # 0 N, 4, is greater than permitted\n",
      "[02:27:28] Explicit valence for atom # 0 N, 4, is greater than permitted\n",
      "[02:27:28] Explicit valence for atom # 0 N, 4, is greater than permitted\n",
      "[02:27:28] Explicit valence for atom # 0 N, 4, is greater than permitted\n",
      "[02:27:28] Explicit valence for atom # 0 N, 4, is greater than permitted\n",
      "[02:27:28] Explicit valence for atom # 0 N, 4, is greater than permitted\n",
      "  7%|▋         | 25290/354600 [00:15<03:13, 1705.53it/s][02:27:32] Explicit valence for atom # 11 O, 3, is greater than permitted\n",
      "[02:27:32] Explicit valence for atom # 11 O, 3, is greater than permitted\n",
      "[02:27:32] Explicit valence for atom # 11 O, 3, is greater than permitted\n",
      "[02:27:32] Explicit valence for atom # 11 O, 3, is greater than permitted\n",
      "[02:27:32] Explicit valence for atom # 11 O, 3, is greater than permitted\n",
      "[02:27:32] Explicit valence for atom # 11 O, 3, is greater than permitted\n",
      "[02:27:32] Explicit valence for atom # 11 O, 3, is greater than permitted\n",
      "[02:27:32] Explicit valence for atom # 11 O, 3, is greater than permitted\n",
      "[02:27:32] Explicit valence for atom # 11 O, 3, is greater than permitted\n",
      "[02:27:32] Explicit valence for atom # 11 O, 3, is greater than permitted\n",
      "[02:27:32] Explicit valence for atom # 11 O, 3, is greater than permitted\n",
      "[02:27:32] Explicit valence for atom # 11 O, 3, is greater than permitted\n",
      "[02:27:32] Explicit valence for atom # 11 O, 3, is greater than permitted\n",
      "[02:27:32] Explicit valence for atom # 11 O, 3, is greater than permitted\n",
      "[02:27:32] Explicit valence for atom # 11 O, 3, is greater than permitted\n",
      " 22%|██▏       | 78460/354600 [00:53<02:42, 1697.19it/s][02:28:09] Explicit valence for atom # 0 O, 3, is greater than permitted\n",
      "[02:28:09] Explicit valence for atom # 0 O, 3, is greater than permitted\n",
      "[02:28:09] Explicit valence for atom # 0 O, 3, is greater than permitted\n",
      "[02:28:09] Explicit valence for atom # 0 O, 3, is greater than permitted\n",
      "[02:28:09] Explicit valence for atom # 0 O, 3, is greater than permitted\n",
      "[02:28:09] Explicit valence for atom # 0 O, 3, is greater than permitted\n",
      "[02:28:09] Explicit valence for atom # 0 O, 3, is greater than permitted\n",
      "[02:28:09] Explicit valence for atom # 0 O, 3, is greater than permitted\n",
      "[02:28:09] Explicit valence for atom # 0 O, 3, is greater than permitted\n",
      "[02:28:09] Explicit valence for atom # 0 O, 3, is greater than permitted\n",
      "[02:28:09] Explicit valence for atom # 0 O, 3, is greater than permitted\n",
      "[02:28:09] Explicit valence for atom # 0 O, 3, is greater than permitted\n",
      " 59%|█████▊    | 207756/354600 [02:14<01:18, 1872.63it/s][02:29:31] WARNING: not removing hydrogen atom without neighbors\n",
      "[02:29:31] Explicit valence for atom # 9 O, 3, is greater than permitted\n",
      "100%|██████████| 354600/354600 [03:46<00:00, 1565.10it/s]\n"
     ]
    }
   ],
   "source": [
    "# Get wout partial inchikeys for queries\n",
    "for i in tqdm(queries.index.values):\n",
    "    inchi = smile2inchi(queries.loc[i, 'wout_smiles'])\n",
    "    if inchi is None:\n",
    "        queries.loc[i, 'wout_inchi'] = np.nan\n",
    "    else:   \n",
    "        queries.loc[i, 'wout_inchi'] = inchi[:14]\n",
    "\n",
    "# Get wout partial inchikeys for weighted queries\n",
    "for i in tqdm(weighted_queries.index.values):\n",
    "    inchi = smile2inchi(weighted_queries.loc[i, 'wout_smiles'])\n",
    "    if inchi is None:\n",
    "        weighted_queries.loc[i, 'wout_inchi'] = np.nan\n",
    "    else:   \n",
    "        weighted_queries.loc[i, 'wout_inchi'] = inchi[:14]"
   ]
  },
  {
   "attachments": {},
   "cell_type": "markdown",
   "metadata": {},
   "source": [
    "# Look at exact matches"
   ]
  },
  {
   "attachments": {},
   "cell_type": "markdown",
   "metadata": {},
   "source": [
    "### Look at ranks of exact matches"
   ]
  },
  {
   "cell_type": "code",
   "execution_count": 15,
   "metadata": {},
   "outputs": [
    {
     "name": "stderr",
     "output_type": "stream",
     "text": [
      "  0%|          | 0/354600 [00:00<?, ?it/s]/tmp/ipykernel_1209357/3679891818.py:4: FutureWarning: elementwise comparison failed; returning scalar instead, but in the future will perform elementwise comparison\n",
      "  exact_matches = np.where(np.array(list(queries.loc[i, 'nist_inchis'])) == queries.loc[i, 'wout_inchi'])[0]\n",
      "100%|██████████| 354600/354600 [00:07<00:00, 50179.30it/s]\n",
      "  0%|          | 0/354600 [00:00<?, ?it/s]/tmp/ipykernel_1209357/3679891818.py:11: FutureWarning: elementwise comparison failed; returning scalar instead, but in the future will perform elementwise comparison\n",
      "  exact_matches = np.where(np.array(list(weighted_queries.loc[i, 'nist_inchis'])) == weighted_queries.loc[i, 'wout_inchi'])[0]\n",
      "100%|██████████| 354600/354600 [00:07<00:00, 48959.77it/s]\n"
     ]
    }
   ],
   "source": [
    "# Get indexes of exact matches for queries\n",
    "all_matches = {}\n",
    "for i in tqdm(queries.index.values):\n",
    "    exact_matches = np.where(np.array(list(queries.loc[i, 'nist_inchis'])) == queries.loc[i, 'wout_inchi'])[0]\n",
    "    all_matches[i] = exact_matches\n",
    "queries['exact_matches'] = queries.index.map(all_matches)\n",
    "\n",
    "# Get indexes of exact matches for weighted queries\n",
    "all_matches_weighted = {}\n",
    "for i in tqdm(weighted_queries.index.values):\n",
    "    exact_matches = np.where(np.array(list(weighted_queries.loc[i, 'nist_inchis'])) == weighted_queries.loc[i, 'wout_inchi'])[0]\n",
    "    all_matches_weighted[i] = exact_matches\n",
    "weighted_queries['exact_matches'] = queries.index.map(all_matches_weighted)\n",
    "\n",
    "\n"
   ]
  },
  {
   "cell_type": "code",
   "execution_count": 16,
   "metadata": {},
   "outputs": [],
   "source": [
    "# Get all ranks of exact matches\n",
    "all_ranks = list(itertools.chain(*list(queries['exact_matches'])))\n",
    "all_ranks_weighted = list(itertools.chain(*list(weighted_queries['exact_matches'])))\n",
    "\n",
    "# Get highest rank of exact matches for each query\n",
    "all_rank_1 = [x[0] for x in queries['exact_matches'] if len(x) > 0]\n",
    "all_rank_1_weighted = [x[0] for x in weighted_queries['exact_matches'] if len(x) > 0]"
   ]
  },
  {
   "cell_type": "code",
   "execution_count": 17,
   "metadata": {},
   "outputs": [
    {
     "data": {
      "image/png": "[encoded data removed]",
      "text/plain": [
       "<Figure size 640x480 with 2 Axes>"
      ]
     },
     "metadata": {},
     "output_type": "display_data"
    },
    {
     "name": "stdout",
     "output_type": "stream",
     "text": [
      "Median unweighted rank:  4.0\n",
      "Median weighted rank:  4.0\n"
     ]
    }
   ],
   "source": [
    "# Set initial variables\n",
    "f, (ax1, ax2) = plt.subplots(1,2, sharey=True)\n",
    "\n",
    "# Plot rank of exact matches\n",
    "_,bins,_ = ax1.hist(all_ranks, bins=15, color='darkseagreen')\n",
    "ax1.set_title('Unweighted')\n",
    "ax1.set_xlabel('Rank')\n",
    "\n",
    "# Plot rank of exact matches for weighted queries\n",
    "ax2.hist(all_ranks_weighted, bins=bins, color='darkseagreen')\n",
    "ax2.set_title('Weighted')\n",
    "ax2.set_xlabel('Rank')\n",
    "\n",
    "# Show plot\n",
    "plt.suptitle('Rank of exact inchikey matches')\n",
    "plt.tight_layout()\n",
    "#plt.savefig('../figures/rank_modified_cosine.png', dpi=400)\n",
    "plt.show()\n",
    "\n",
    "print('Median unweighted rank: ', np.median(all_ranks))\n",
    "print('Median weighted rank: ', np.median(all_ranks_weighted))"
   ]
  },
  {
   "cell_type": "code",
   "execution_count": 18,
   "metadata": {},
   "outputs": [
    {
     "data": {
      "image/png": "[encoded data removed]",
      "text/plain": [
       "<Figure size 640x480 with 2 Axes>"
      ]
     },
     "metadata": {},
     "output_type": "display_data"
    },
    {
     "name": "stdout",
     "output_type": "stream",
     "text": [
      "Median unweighted top rank:  0.0\n",
      "Median weighted top rank:  0.0\n"
     ]
    }
   ],
   "source": [
    "# Set initial variables\n",
    "f, (ax1, ax2) = plt.subplots(1,2, sharey=True)\n",
    "\n",
    "# Plot highest rank of exact matches\n",
    "_,bins,_ = ax1.hist(all_rank_1, bins=5, color='darkseagreen')\n",
    "ax1.set_title('Unweighted')\n",
    "ax1.set_xlabel('Rank')\n",
    "\n",
    "# Plot highest rank of exact matches for weighted queries\n",
    "ax2.hist(all_rank_1_weighted, bins=bins, color='darkseagreen')\n",
    "ax2.set_title('Weighted')\n",
    "ax2.set_xlabel('Rank')\n",
    "\n",
    "# Show plot\n",
    "plt.suptitle('Rank of exact inchikey matches')\n",
    "plt.tight_layout()\n",
    "plt.show()\n",
    "\n",
    "print('Median unweighted top rank: ', np.median(all_rank_1))\n",
    "print('Median weighted top rank: ', np.median(all_rank_1_weighted))"
   ]
  },
  {
   "attachments": {},
   "cell_type": "markdown",
   "metadata": {},
   "source": [
    "#### Look at the percent of queries with an exact match in the top n matches"
   ]
  },
  {
   "cell_type": "code",
   "execution_count": 19,
   "metadata": {},
   "outputs": [
    {
     "data": {
      "image/png": "[encoded data removed]",
      "text/plain": [
       "<Figure size 1000x500 with 1 Axes>"
      ]
     },
     "metadata": {},
     "output_type": "display_data"
    }
   ],
   "source": [
    "# Create data frame\n",
    "exact_matches_top_n = pd.DataFrame(columns=['unweighted', 'weighted'], \n",
    "                                   index=['top_1', 'top_5', 'top_10', 'top_50'])\n",
    "n_vals = [1, 5, 10, 50]\n",
    "\n",
    "# Get percent of queries with exact match in top 5\n",
    "for n in n_vals:\n",
    "    exact_matches_top_n.loc[f'top_{n}', 'unweighted'] = queries.loc[queries['exact_matches'].apply(lambda x: min(x) \\\n",
    "                                                        if len(x) > 0 else np.nan)<n].shape[0] / queries.shape[0]\n",
    "    exact_matches_top_n.loc[f'top_{n}', 'weighted'] =  weighted_queries.loc[weighted_queries['exact_matches'].apply(lambda x: min(x) \\\n",
    "                                                        if len(x) > 0 else np.nan)<n].shape[0] / weighted_queries.shape[0]\n",
    "\n",
    "# Create bar plot\n",
    "exact_matches_top_n.plot.bar(figsize=(10,5), rot=0, color=['lightgreen', 'mediumseagreen'])\n",
    "plt.title('Percent of queries with exact match in top n results')\n",
    "plt.ylabel('Percent of queries')\n",
    "plt.xlabel('n')\n",
    "plt.show()\n"
   ]
  },
  {
   "cell_type": "markdown",
   "metadata": {},
   "source": [
    "# Non-exact match retrival"
   ]
  },
  {
   "cell_type": "code",
   "execution_count": 20,
   "metadata": {},
   "outputs": [],
   "source": [
    "@functools.lru_cache\n",
    "def _smiles_to_mol(smiles):\n",
    "    try:\n",
    "        return Chem.MolFromSmiles(smiles)\n",
    "    except:\n",
    "        return None\n",
    "@functools.lru_cache\n",
    "def tanimoto(smiles1, smiles2):\n",
    "    mol1, mol2 = _smiles_to_mol(smiles1), _smiles_to_mol(smiles2)\n",
    "    if mol1 is None or mol2 is None:\n",
    "        return np.nan\n",
    "    fp1, fp2 = Chem.RDKFingerprint(mol1), Chem.RDKFingerprint(mol2)\n",
    "    return DataStructs.TanimotoSimilarity(fp1, fp2)"
   ]
  },
  {
   "cell_type": "code",
   "execution_count": 21,
   "metadata": {},
   "outputs": [
    {
     "name": "stderr",
     "output_type": "stream",
     "text": [
      "100%|██████████| 354600/354600 [02:07<00:00, 2770.46it/s]\n",
      "100%|██████████| 354600/354600 [02:10<00:00, 2713.16it/s]\n"
     ]
    }
   ],
   "source": [
    "# Get NIST23 smiles for queries\n",
    "all_smiles_dict = {}\n",
    "for i in tqdm(queries.index.values):\n",
    "    current_matches = queries.loc[i, 'library_spectra_matches']\n",
    "    if len(current_matches) == 0:\n",
    "        all_smiles_dict[i] = []\n",
    "    else:\n",
    "        nist_indexes = [x for x in np.array(queries.loc[i, 'library_spectra_matches'])[:,0]][:10]\n",
    "        smiles_list = nist_df.loc[nist_indexes, 'smiles'].values\n",
    "        all_smiles_dict[i] = smiles_list\n",
    "queries[f'top_10_smiles'] = queries.index.map(all_smiles_dict)\n",
    "\n",
    "# Get NIST23 smiles for weighted queries\n",
    "all_weighted_smiles_dict = {}\n",
    "for i in tqdm(weighted_queries.index.values):\n",
    "    current_matches = weighted_queries.loc[i, 'library_spectra_matches']\n",
    "    if len(current_matches) == 0:\n",
    "        all_weighted_smiles_dict[i] = []\n",
    "    else:\n",
    "        nist_indexes = [x for x in np.array(weighted_queries.loc[i, 'library_spectra_matches'])[:,0]][:10]\n",
    "        smiles_list = nist_df.loc[nist_indexes, 'smiles'].values\n",
    "        all_weighted_smiles_dict[i] = smiles_list\n",
    "weighted_queries[f'top_10_smiles'] = weighted_queries.index.map(all_weighted_smiles_dict)"
   ]
  },
  {
   "cell_type": "code",
   "execution_count": 22,
   "metadata": {},
   "outputs": [
    {
     "name": "stderr",
     "output_type": "stream",
     "text": [
      "  5%|▌         | 19340/354600 [00:08<03:43, 1497.04it/s][02:36:14] Explicit valence for atom # 0 N, 4, is greater than permitted\n",
      "  7%|▋         | 25109/354600 [00:10<01:36, 3428.02it/s][02:36:16] Explicit valence for atom # 11 O, 3, is greater than permitted\n",
      " 22%|██▏       | 78151/354600 [00:43<01:31, 3006.84it/s][02:36:49] Explicit valence for atom # 0 O, 3, is greater than permitted\n",
      "100%|██████████| 354600/354600 [02:23<00:00, 2476.70it/s]\n",
      "  5%|▌         | 19374/354600 [00:08<03:43, 1502.40it/s][02:38:38] Explicit valence for atom # 0 N, 4, is greater than permitted\n",
      "  7%|▋         | 25070/354600 [00:10<01:33, 3510.52it/s][02:38:40] Explicit valence for atom # 11 O, 3, is greater than permitted\n",
      " 22%|██▏       | 78026/354600 [00:45<01:35, 2893.50it/s][02:39:15] Explicit valence for atom # 0 O, 3, is greater than permitted\n",
      "100%|██████████| 354600/354600 [02:28<00:00, 2383.29it/s]\n"
     ]
    }
   ],
   "source": [
    "# Get dictionary of tanimoto scores\n",
    "all_tanimotos = {}\n",
    "\n",
    "# Get tanimoto scores for queries\n",
    "for i in tqdm(queries.index.values):\n",
    "    tanimotos = []\n",
    "    query_smiles = queries.loc[i, 'wout_smiles']\n",
    "    if len(queries.loc[i, f'top_10_smiles']) != 0:\n",
    "        for library_smiles in queries.loc[i, f'top_10_smiles']:\n",
    "            tanimotos.append(tanimoto(query_smiles, library_smiles))\n",
    "        all_tanimotos[i] = [x for x in tanimotos if not pd.isna(x)]\n",
    "    else:\n",
    "        all_tanimotos[i] = []\n",
    "queries[f'top_10_tanimoto'] = queries.index.map(all_tanimotos)\n",
    "\n",
    "# Get dictionary of tanimoto scores\n",
    "all_weighted_tanimotos = {}\n",
    "\n",
    "# Get tanimoto scores for queries\n",
    "for i in tqdm(weighted_queries.index.values):\n",
    "    tanimotos = []\n",
    "    query_smiles = weighted_queries.loc[i, 'wout_smiles']\n",
    "    if len(weighted_queries.loc[i, f'top_10_smiles']) != 0:\n",
    "        for library_smiles in weighted_queries.loc[i, f'top_10_smiles']:\n",
    "            tanimotos.append(tanimoto(query_smiles, library_smiles))\n",
    "        all_weighted_tanimotos[i] = [x for x in tanimotos if not pd.isna(x)]\n",
    "    else:\n",
    "        all_weighted_tanimotos[i] = []\n",
    "weighted_queries[f'top_10_tanimoto'] = weighted_queries.index.map(all_weighted_tanimotos)\n"
   ]
  },
  {
   "cell_type": "code",
   "execution_count": 23,
   "metadata": {},
   "outputs": [
    {
     "data": {
      "image/png": "[encoded data removed]",
      "text/plain": [
       "<Figure size 1000x500 with 1 Axes>"
      ]
     },
     "metadata": {},
     "output_type": "display_data"
    }
   ],
   "source": [
    "# Create data frame\n",
    "average_tanimoto_top_n = pd.DataFrame(columns=['unweighted', 'weighted'], \n",
    "                                      index=['top_1', 'top_5', 'top_10'])\n",
    "n_vals = [1, 5, 10]\n",
    "\n",
    "# Calculate average tanimoto score for top n results\n",
    "for i in n_vals:\n",
    "    average_tanimoto_top_n.loc['unweighted', f'top_{n}'] = np.mean(list(itertools.chain.from_iterable([x[:n] for x in queries['top_10_tanimoto'] if len(x) > 0])))\n",
    "    average_tanimoto_top_n.loc['weighted', f'top_{n}'] = np.mean(list(itertools.chain.from_iterable([x[:n] for x in weighted_queries['top_10_tanimoto'] if len(x) > 0])))\n",
    "\n",
    "# Create bar plot\n",
    "exact_matches_top_n.plot.bar(figsize=(10,5), rot=0, color=['lightgreen', 'mediumseagreen'])\n",
    "plt.title('Average tanimoto score in top n results')\n",
    "plt.ylabel('Average tanimoto score')\n",
    "plt.xlabel('n')\n",
    "plt.show()"
   ]
  },
  {
   "attachments": {},
   "cell_type": "markdown",
   "metadata": {},
   "source": [
    "# Look at AUC scores"
   ]
  },
  {
   "cell_type": "code",
   "execution_count": 24,
   "metadata": {},
   "outputs": [
    {
     "name": "stderr",
     "output_type": "stream",
     "text": [
      "  1%|          | 3571/354600 [00:02<03:06, 1885.40it/s]"
     ]
    },
    {
     "name": "stderr",
     "output_type": "stream",
     "text": [
      "100%|██████████| 354600/354600 [02:51<00:00, 2063.08it/s]\n",
      "100%|██████████| 354600/354600 [03:06<00:00, 1902.79it/s]\n"
     ]
    }
   ],
   "source": [
    "from sklearn.metrics import roc_curve, auc\n",
    "\n",
    "no_matches = 0\n",
    "\n",
    "# Get AUC scores for queries\n",
    "for index in tqdm(queries.index.values):\n",
    "    if len(np.array(list(queries.loc[index,'library_spectra_matches']))) != 0:\n",
    "        prob = np.array(list(queries.loc[index,'library_spectra_matches']))[:,1].astype('float')\n",
    "        y_true = np.zeros(len(prob))\n",
    "        y_true[queries.loc[index,f'exact_matches']] = 1\n",
    "\n",
    "        # check if there arent any 1.0s in y_true\n",
    "        if np.sum(y_true) == 0:\n",
    "            queries.loc[index, f'auc'] = 0\n",
    "        # check if all values are 1.0\n",
    "        elif np.sum(y_true) == len(y_true):\n",
    "            queries.loc[index, f'auc'] = 1\n",
    "        else:\n",
    "            fpr, tpr, thresholds = roc_curve(y_true, prob)\n",
    "            queries.loc[index, f'auc'] = auc(fpr, tpr)\n",
    "    else:\n",
    "        no_matches += 1\n",
    "        queries.loc[index, f'auc'] = np.nan\n",
    "\n",
    "# Get AUC scores for weighted queries\n",
    "for index in tqdm(weighted_queries.index.values):\n",
    "    if len(np.array(list(weighted_queries.loc[index,'library_spectra_matches']))) != 0:\n",
    "        prob = np.array(list(weighted_queries.loc[index,'library_spectra_matches']))[:,1].astype('float')\n",
    "        y_true = np.zeros(len(prob))\n",
    "        y_true[weighted_queries.loc[index,f'exact_matches']] = 1\n",
    "\n",
    "        # check if there arent any 1.0s in y_true\n",
    "        if np.sum(y_true) == 0:\n",
    "            weighted_queries.loc[index, f'auc'] = 0\n",
    "        # check if all values are 1.0\n",
    "        elif np.sum(y_true) == len(y_true):\n",
    "            weighted_queries.loc[index, f'auc'] = 1\n",
    "        else:\n",
    "            fpr, tpr, thresholds = roc_curve(y_true, prob)\n",
    "            weighted_queries.loc[index, f'auc'] = auc(fpr, tpr)\n",
    "    else:\n",
    "        weighted_queries.loc[index, f'auc'] = np.nan"
   ]
  },
  {
   "cell_type": "code",
   "execution_count": 25,
   "metadata": {},
   "outputs": [
    {
     "data": {
      "image/png": "[encoded data removed]",
      "text/plain": [
       "<Figure size 640x480 with 2 Axes>"
      ]
     },
     "metadata": {},
     "output_type": "display_data"
    }
   ],
   "source": [
    "# Set initial variables\n",
    "f, (ax1, ax2) = plt.subplots(1, 2, sharey=True)\n",
    "\n",
    "# Plot AUC scores for queries\n",
    "ax1.hist(queries[f'auc'], bins=30)\n",
    "ax1.set_title(f'Unweighted AUC')\n",
    "ax1.set_xlabel('AUC')\n",
    "\n",
    "# Plot AUC scores for weighted queries\n",
    "ax2.hist(weighted_queries[f'auc'], bins=30)\n",
    "ax2.set_title(f'Weighted AUC')\n",
    "ax2.set_xlabel('AUC')\n",
    "\n",
    "# Show plot\n",
    "plt.tight_layout()\n",
    "plt.show()"
   ]
  },
  {
   "cell_type": "code",
   "execution_count": null,
   "metadata": {},
   "outputs": [],
   "source": []
  },
  {
   "cell_type": "code",
   "execution_count": null,
   "metadata": {},
   "outputs": [],
   "source": []
  },
  {
   "cell_type": "code",
   "execution_count": null,
   "metadata": {},
   "outputs": [],
   "source": []
  },
  {
   "cell_type": "code",
   "execution_count": null,
   "metadata": {},
   "outputs": [],
   "source": []
  },
  {
   "cell_type": "code",
   "execution_count": null,
   "metadata": {},
   "outputs": [],
   "source": []
  }
 ],
 "metadata": {
  "kernelspec": {
   "display_name": ".venv",
   "language": "python",
   "name": "python3"
  },
  "language_info": {
   "codemirror_mode": {
    "name": "ipython",
    "version": 3
   },
   "file_extension": ".py",
   "mimetype": "text/x-python",
   "name": "python",
   "nbconvert_exporter": "python",
   "pygments_lexer": "ipython3",
   "version": "3.9.16"
  },
  "orig_nbformat": 4
 },
 "nbformat": 4,
 "nbformat_minor": 2
}
