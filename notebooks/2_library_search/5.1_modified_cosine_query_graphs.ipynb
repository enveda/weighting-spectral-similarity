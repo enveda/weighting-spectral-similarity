{
 "cells": [
  {
   "cell_type": "code",
   "execution_count": 3,
   "metadata": {},
   "outputs": [],
   "source": [
    "import pandas as pd\n",
    "import numpy as np\n",
    "from matplotlib import pyplot as plt\n",
    "import itertools\n",
    "\n",
    "import sys\n",
    "\n",
    "sys.path.append(\"../../src/ms_similarity_metrics/\")\n",
    "from reformat_columns import reformat_columns\n"
   ]
  },
  {
   "cell_type": "code",
   "execution_count": 7,
   "metadata": {},
   "outputs": [],
   "source": [
    "QUERY_DIR = '../../data/mod_cosine_queries/'\n",
    "QUERY_PATH = 's3://enveda-data-user/chloe.engler/cosine_similarity/modified_cosine_queries/'\n",
    "DATA_DIR = '../../data/'\n",
    "\n",
    "UNWEIGHTED_FILE = 'no_weights/filtered_10_ppm'\n",
    "WEIGHTED_FILE = 'our_weights/weighted_filtered_10_ppm'\n"
   ]
  },
  {
   "attachments": {},
   "cell_type": "markdown",
   "metadata": {},
   "source": [
    "# Get queries"
   ]
  },
  {
   "cell_type": "code",
   "execution_count": 8,
   "metadata": {},
   "outputs": [
    {
     "name": "stdout",
     "output_type": "stream",
     "text": [
      "(25437, 13)\n",
      "(25437, 13)\n"
     ]
    }
   ],
   "source": [
    "# Get the NIST23 queries\n",
    "queries = pd.read_csv(f'{QUERY_PATH}{UNWEIGHTED_FILE}_with_stats.csv', index_col=0)\n",
    "weighted_queries = pd.read_csv(f'{QUERY_PATH}{WEIGHTED_FILE}_with_stats.csv', index_col=0)\n",
    "# queries = pd.read_csv(f'{QUERY_DIR}{UNWEIGHTED_FILE}_with_stats.csv', index_col=0)\n",
    "# weighted_queries = pd.read_csv(f'{QUERY_DIR}{WEIGHTED_FILE}_with_stats.csv', index_col=0)\n",
    "print(queries.shape), print(weighted_queries.shape)\n",
    "\n",
    "# Filter the queries to only include queries in both the weighted and unweighted queries\n",
    "queries = queries[queries['wout_identifier'].isin(weighted_queries['wout_identifier'])]\n",
    "weighted_queries = weighted_queries[weighted_queries['wout_identifier'].isin(queries['wout_identifier'])]"
   ]
  },
  {
   "cell_type": "code",
   "execution_count": 9,
   "metadata": {},
   "outputs": [
    {
     "name": "stderr",
     "output_type": "stream",
     "text": [
      "100%|██████████| 25437/25437 [00:04<00:00, 5807.87it/s]\n",
      "100%|██████████| 25437/25437 [00:00<00:00, 37492.77it/s]\n",
      "100%|██████████| 25437/25437 [00:00<00:00, 44549.25it/s]\n",
      "100%|██████████| 25437/25437 [00:00<00:00, 30950.56it/s]\n",
      "100%|██████████| 25437/25437 [00:00<00:00, 27113.02it/s]\n",
      "100%|██████████| 25437/25437 [00:04<00:00, 5770.63it/s]\n",
      "100%|██████████| 25437/25437 [00:00<00:00, 52480.64it/s]\n",
      "100%|██████████| 25437/25437 [00:00<00:00, 42707.77it/s]\n",
      "100%|██████████| 25437/25437 [00:00<00:00, 36104.31it/s]\n",
      "100%|██████████| 25437/25437 [00:00<00:00, 26077.14it/s]\n"
     ]
    }
   ],
   "source": [
    "# Reformat columns in the query dataframe\n",
    "queries = reformat_columns(['library_spectra_matches', \n",
    "                            'exact_matches', \n",
    "                            'nist_inchis', \n",
    "                            'smiles', \n",
    "                            'tanimoto'],\n",
    "                            query_type='modified_cosine',\n",
    "                            query_df=queries)\n",
    "queries['tanimoto'] = queries['tanimoto'].apply(lambda x: x.astype(float))\n",
    "\n",
    "# Reformat columns in the weightd query dataframe\n",
    "weighted_queries = reformat_columns(['library_spectra_matches', \n",
    "                                    'exact_matches', \n",
    "                                    'nist_inchis', \n",
    "                                    'smiles', \n",
    "                                    'tanimoto'],\n",
    "                                    query_type='modified_cosine',\n",
    "                                    query_df=weighted_queries)"
   ]
  },
  {
   "cell_type": "code",
   "execution_count": 10,
   "metadata": {},
   "outputs": [],
   "source": [
    "# # Reformat the library_spectra_matches column to a list of tuples\n",
    "# all_matches = {}\n",
    "# for query in tqdm(queries.index.values):\n",
    "#     matches = []\n",
    "#     non_decimal = re.compile(r'[^\\d.]+')\n",
    "\n",
    "#     test = queries.loc[query]['library_spectra_matches'].replace(\"'\", \"\").replace(')', '').split('(')[1:]\n",
    "#     for pair in test:\n",
    "#         matches.append((pair.split(',')[0], float(non_decimal.sub('', pair.split(',')[1]))))\n",
    "\n",
    "#     all_matches[query] = matches\n",
    "# queries['library_spectra_matches'] = all_matches\n",
    "\n",
    "# #Reformat the library_spectra_matches column to a list of tuples for the weighted queries\n",
    "# all_weighted_matches = {}\n",
    "# for query in tqdm(weighted_queries.index.values):\n",
    "#     matches = []\n",
    "#     non_decimal = re.compile(r'[^\\d.]+')\n",
    "\n",
    "#     test = weighted_queries.loc[query]['library_spectra_matches'].replace(\"'\", \"\").replace(')', '').split('(')[1:]\n",
    "#     for pair in test:\n",
    "#         matches.append((pair.split(',')[0], float(non_decimal.sub('', pair.split(',')[1]))))\n",
    "#     all_weighted_matches[query] = matches\n",
    "# weighted_queries['library_spectra_matches'] = all_weighted_matches\n"
   ]
  },
  {
   "cell_type": "code",
   "execution_count": 11,
   "metadata": {},
   "outputs": [],
   "source": [
    "# exact_matches = {}\n",
    "# for query in tqdm(queries.index.values):\n",
    "#     exact_matches[query] = np.array(queries.loc[query, 'exact_matches'].replace('[', '')\\\n",
    "#         .replace(']','').split()).astype(int)\n",
    "# queries['exact_matches'] = queries.index.map(exact_matches)\n",
    "\n",
    "# weighted_exact_matches = {}\n",
    "# for query in tqdm(weighted_queries.index.values):\n",
    "#     weighted_exact_matches[query] = np.array(weighted_queries.loc[query, 'exact_matches'].replace('[', '')\\\n",
    "#         .replace(']','').split()).astype(int)\n",
    "# weighted_queries['exact_matches'] = weighted_queries.index.map(weighted_exact_matches)\n"
   ]
  },
  {
   "attachments": {},
   "cell_type": "markdown",
   "metadata": {},
   "source": [
    "# Look at number of matches"
   ]
  },
  {
   "cell_type": "code",
   "execution_count": 12,
   "metadata": {},
   "outputs": [
    {
     "data": {
      "image/png": "[encoded data removed]",
      "text/plain": [
       "<Figure size 432x288 with 2 Axes>"
      ]
     },
     "metadata": {
      "needs_background": "light"
     },
     "output_type": "display_data"
    }
   ],
   "source": [
    "# Set initial variables\n",
    "f, (ax1, ax2) = plt.subplots(1, 2, sharey=True, sharex=True)\n",
    "\n",
    "# Plot number of matches per query\n",
    "num_matches = queries.library_spectra_matches.apply(lambda x: len(x))\n",
    "ax1.hist(num_matches, bins=30, color='darkseagreen')\n",
    "ax1.set_title('Unweighted')\n",
    "\n",
    "# Plot number of matches per weighted query\n",
    "num_matches = weighted_queries.library_spectra_matches.apply(lambda x: len(x))\n",
    "ax2.hist(num_matches, bins=30, color='darkseagreen')\n",
    "ax2.set_title('Weighted')\n",
    "\n",
    "# Show plot\n",
    "plt.suptitle('Number of matches per query')\n",
    "plt.show()"
   ]
  },
  {
   "attachments": {},
   "cell_type": "markdown",
   "metadata": {},
   "source": [
    "# Look at exact matches"
   ]
  },
  {
   "attachments": {},
   "cell_type": "markdown",
   "metadata": {},
   "source": [
    "### Look at ranks of exact matches"
   ]
  },
  {
   "cell_type": "code",
   "execution_count": 13,
   "metadata": {},
   "outputs": [],
   "source": [
    "# Get all ranks of exact matches\n",
    "all_ranks = list(itertools.chain(*list(queries['exact_matches'])))\n",
    "all_ranks_weighted = list(itertools.chain(*list(weighted_queries['exact_matches'])))\n",
    "\n",
    "# Get highest rank of exact matches for each query\n",
    "all_rank_1 = [x[0] for x in queries['exact_matches'] if len(x) > 0]\n",
    "all_rank_1_weighted = [x[0] for x in weighted_queries['exact_matches'] if len(x) > 0]"
   ]
  },
  {
   "cell_type": "code",
   "execution_count": 14,
   "metadata": {},
   "outputs": [
    {
     "data": {
      "image/png": "[encoded data removed]",
      "text/plain": [
       "<Figure size 432x288 with 2 Axes>"
      ]
     },
     "metadata": {
      "needs_background": "light"
     },
     "output_type": "display_data"
    },
    {
     "name": "stdout",
     "output_type": "stream",
     "text": [
      "Median unweighted rank:  6.0\n",
      "Median weighted rank:  6.0\n"
     ]
    }
   ],
   "source": [
    "# Set initial variables\n",
    "f, (ax1, ax2) = plt.subplots(1,2, sharey=True)\n",
    "\n",
    "# Plot rank of exact matches\n",
    "_,bins,_ = ax1.hist(all_ranks, bins=15, color='darkseagreen')\n",
    "ax1.set_title('Unweighted')\n",
    "ax1.set_xlabel('Rank')\n",
    "\n",
    "# Plot rank of exact matches for weighted queries\n",
    "ax2.hist(all_ranks_weighted, bins=bins, color='darkseagreen')\n",
    "ax2.set_title('Weighted')\n",
    "ax2.set_xlabel('Rank')\n",
    "\n",
    "# Show plot\n",
    "plt.suptitle('Rank of exact inchikey matches')\n",
    "plt.tight_layout()\n",
    "#plt.savefig('../figures/rank_modified_cosine.png', dpi=400)\n",
    "plt.show()\n",
    "\n",
    "print('Median unweighted rank: ', np.median(all_ranks))\n",
    "print('Median weighted rank: ', np.median(all_ranks_weighted))"
   ]
  },
  {
   "cell_type": "code",
   "execution_count": 15,
   "metadata": {},
   "outputs": [
    {
     "data": {
      "image/png": "[encoded data removed]",
      "text/plain": [
       "<Figure size 432x288 with 2 Axes>"
      ]
     },
     "metadata": {
      "needs_background": "light"
     },
     "output_type": "display_data"
    },
    {
     "name": "stdout",
     "output_type": "stream",
     "text": [
      "Median unweighted top rank:  0.0\n",
      "Median weighted top rank:  0.0\n"
     ]
    }
   ],
   "source": [
    "# Set initial variables\n",
    "f, (ax1, ax2) = plt.subplots(1,2, sharey=True)\n",
    "\n",
    "# Plot highest rank of exact matches\n",
    "_,bins,_ = ax1.hist(all_rank_1, bins=5, color='darkseagreen')\n",
    "ax1.set_title('Unweighted')\n",
    "ax1.set_xlabel('Rank')\n",
    "\n",
    "# Plot highest rank of exact matches for weighted queries\n",
    "ax2.hist(all_rank_1_weighted, bins=bins, color='darkseagreen')\n",
    "ax2.set_title('Weighted')\n",
    "ax2.set_xlabel('Rank')\n",
    "\n",
    "# Show plot\n",
    "plt.suptitle('Rank of exact inchikey matches')\n",
    "plt.tight_layout()\n",
    "plt.show()\n",
    "\n",
    "print('Median unweighted top rank: ', np.median(all_rank_1))\n",
    "print('Median weighted top rank: ', np.median(all_rank_1_weighted))"
   ]
  },
  {
   "attachments": {},
   "cell_type": "markdown",
   "metadata": {},
   "source": [
    "#### Look at the percent of queries with an exact match in the top n matches"
   ]
  },
  {
   "cell_type": "code",
   "execution_count": 16,
   "metadata": {},
   "outputs": [
    {
     "data": {
      "image/png": "[encoded data removed]",
      "text/plain": [
       "<Figure size 720x360 with 1 Axes>"
      ]
     },
     "metadata": {
      "needs_background": "light"
     },
     "output_type": "display_data"
    }
   ],
   "source": [
    "# Create data frame\n",
    "exact_matches_top_n = pd.DataFrame(columns=['unweighted', 'weighted'], \n",
    "                                   index=['top_1', 'top_5', 'top_10', 'top_50'])\n",
    "n_vals = [1, 5, 10, 50]\n",
    "\n",
    "# Get percent of queries with exact match in top 5\n",
    "for n in n_vals:\n",
    "    exact_matches_top_n.loc[f'top_{n}', 'unweighted'] = queries.loc[queries['exact_matches'].apply(lambda x: min(x) \\\n",
    "                                                        if len(x) > 0 else np.nan)<n].shape[0] / queries.shape[0]\n",
    "    exact_matches_top_n.loc[f'top_{n}', 'weighted'] =  weighted_queries.loc[weighted_queries['exact_matches'].apply(lambda x: min(x) \\\n",
    "                                                        if len(x) > 0 else np.nan)<n].shape[0] / weighted_queries.shape[0]\n",
    "\n",
    "# Create bar plot\n",
    "exact_matches_top_n.plot.bar(figsize=(10,5), rot=0, color=['lightgreen', 'mediumseagreen', 'darkgreen'])\n",
    "plt.title('Percent of queries with exact match in top n results')\n",
    "plt.ylabel('Percent of queries')\n",
    "plt.xlabel('n')\n",
    "plt.show()\n"
   ]
  },
  {
   "cell_type": "markdown",
   "metadata": {},
   "source": [
    "# Non-exact match retrival"
   ]
  },
  {
   "cell_type": "code",
   "execution_count": 17,
   "metadata": {},
   "outputs": [
    {
     "data": {
      "image/png": "[encoded data removed]",
      "text/plain": [
       "<Figure size 720x360 with 1 Axes>"
      ]
     },
     "metadata": {
      "needs_background": "light"
     },
     "output_type": "display_data"
    }
   ],
   "source": [
    "# Create data frame\n",
    "average_tanimoto_top_n = pd.DataFrame(columns=['unweighted', 'weighted'], \n",
    "                                      index=['top_1', 'top_5', 'top_10'])\n",
    "n_vals = [1, 5, 10]\n",
    "\n",
    "# Calculate average tanimoto score for top n results\n",
    "for i in n_vals:\n",
    "    average_tanimoto_top_n.loc['unweighted', f'top_{n}'] = np.mean(list(itertools.chain.from_iterable([x[:n] for x in queries['tanimoto'] if len(x) > 0])))\n",
    "    average_tanimoto_top_n.loc['weighted', f'top_{n}'] = np.mean(list(itertools.chain.from_iterable([x[:n] for x in weighted_queries['tanimoto'] if len(x) > 0])))\n",
    "\n",
    "# Create bar plot\n",
    "exact_matches_top_n.plot.bar(figsize=(10,5), rot=0, color=['lightgreen', 'mediumseagreen', 'darkgreen'])\n",
    "plt.title('Average tanimoto score in top n results')\n",
    "plt.ylabel('Average tanimoto score')\n",
    "plt.xlabel('n')\n",
    "plt.show()"
   ]
  },
  {
   "attachments": {},
   "cell_type": "markdown",
   "metadata": {},
   "source": [
    "# Look at AUC scores"
   ]
  },
  {
   "cell_type": "code",
   "execution_count": 13,
   "metadata": {},
   "outputs": [
    {
     "data": {
      "image/png": "[encoded data removed]",
      "text/plain": [
       "<Figure size 640x480 with 2 Axes>"
      ]
     },
     "metadata": {},
     "output_type": "display_data"
    }
   ],
   "source": [
    "# Set initial variables\n",
    "f, (ax1, ax2) = plt.subplots(1, 2, sharey=True)\n",
    "\n",
    "# Plot AUC scores for queries\n",
    "ax1.hist(queries[f'auc'], bins=30)\n",
    "ax1.set_title(f'Unweighted AUC')\n",
    "ax1.set_xlabel('AUC')\n",
    "\n",
    "# Plot AUC scores for weighted queries\n",
    "ax2.hist(weighted_queries[f'auc'], bins=30)\n",
    "ax2.set_title(f'Weighted AUC')\n",
    "ax2.set_xlabel('AUC')\n",
    "\n",
    "# Show plot\n",
    "plt.tight_layout()\n",
    "plt.show()"
   ]
  },
  {
   "cell_type": "code",
   "execution_count": 14,
   "metadata": {},
   "outputs": [
    {
     "name": "stdout",
     "output_type": "stream",
     "text": [
      "Length of queries: 25437\n",
      "Number of NaNs in queries:  1994\n",
      "Number of NaNs in weighted_queries:  2045\n"
     ]
    }
   ],
   "source": [
    "# number of NaNs in 'auc' column\n",
    "print(f'Length of queries: {len(queries)}')\n",
    "print('Number of NaNs in queries: ', len(queries[queries['auc'].isnull()]))\n",
    "print('Number of NaNs in weighted_queries: ', len(weighted_queries[weighted_queries['auc'].isnull()]))\n"
   ]
  },
  {
   "cell_type": "code",
   "execution_count": null,
   "metadata": {},
   "outputs": [],
   "source": []
  }
 ],
 "metadata": {
  "kernelspec": {
   "display_name": ".venv",
   "language": "python",
   "name": "python3"
  },
  "language_info": {
   "codemirror_mode": {
    "name": "ipython",
    "version": 3
   },
   "file_extension": ".py",
   "mimetype": "text/x-python",
   "name": "python",
   "nbconvert_exporter": "python",
   "pygments_lexer": "ipython3",
   "version": "3.9.12"
  },
  "orig_nbformat": 4
 },
 "nbformat": 4,
 "nbformat_minor": 2
}
