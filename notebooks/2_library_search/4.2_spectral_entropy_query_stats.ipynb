{
 "cells": [
  {
   "cell_type": "code",
   "execution_count": 1,
   "metadata": {},
   "outputs": [],
   "source": [
    "import pandas as pd\n",
    "import re\n",
    "from tqdm import tqdm\n",
    "import numpy as np\n",
    "import itertools\n",
    "from matplotlib import pyplot as plt\n",
    "\n",
    "from ms_entropy.file_io.msp_file import read_one_spectrum\n",
    "import numba as nb\n",
    "import pyteomics.mgf\n",
    "import sys\n",
    "import importlib\n",
    "import re\n",
    "\n",
    "sys.path.append(\"../../src/ms_similarity_metrics/\")\n",
    "from create_spectrum import smile2inchi\n",
    "importlib.reload(sys.modules['create_spectrum'])\n",
    "from create_spectrum import smile2inchi\n"
   ]
  },
  {
   "cell_type": "code",
   "execution_count": 29,
   "metadata": {},
   "outputs": [],
   "source": [
    "QUERY_DIR = '../../data/spec_entropy_queries/'\n",
    "QUERY_PATH = 's3://enveda-data-user/chloe.engler/cosine_similarity/spec_entropy_queries/'\n",
    "DATA_DIR = '../../data/'\n",
    "\n",
    "FILE = 'weighted_filtered_10_ppm'"
   ]
  },
  {
   "attachments": {},
   "cell_type": "markdown",
   "metadata": {},
   "source": [
    "# Get queries"
   ]
  },
  {
   "cell_type": "code",
   "execution_count": 30,
   "metadata": {},
   "outputs": [],
   "source": [
    "# List of metrics that were used in the queries\n",
    "metric_names = ['bhattacharya_2', 'manhattan', 'entropy']\n",
    "\n",
    "# Read in the queries\n",
    "# queries = pd.read_csv(f'{QUERY_PATH}{UNWEIGHTED_FILE}.csv', index_col=0)\n",
    "# weighted_queries = pd.read_csv(f'{QUERY_PATH}{WEIGHTED_FILE}.csv', index_col=0)\n",
    "queries = pd.read_csv(f'{QUERY_DIR}{FILE}.csv', index_col=0)"
   ]
  },
  {
   "cell_type": "code",
   "execution_count": 31,
   "metadata": {},
   "outputs": [
    {
     "name": "stderr",
     "output_type": "stream",
     "text": [
      "100%|██████████| 25437/25437 [00:03<00:00, 8148.34it/s] \n"
     ]
    }
   ],
   "source": [
    "# Reformat the library_spectra_matches column for the unweighted queries\n",
    "new_columns = {name:{} for name in metric_names}\n",
    "non_decimal = re.compile(r'[^\\d.]+')\n",
    "for query in tqdm(queries.index.values):\n",
    "    metric_scores = queries.loc[query,'library_spectra_matches'].split('{')[1].split('}')[0].split(']')[:-1]\n",
    "    for i in range(len(metric_scores)):\n",
    "        matches = []\n",
    "        current_query = metric_scores[i]\n",
    "        col_name = current_query.split(':')[0].replace(\"'\",'').replace(',','').strip()\n",
    "        current_query = current_query.split('[')[1]\n",
    "        current_query = current_query.replace(\"'\", \"\").replace(')', '').split('(')[1:]\n",
    "        for pair in current_query:\n",
    "            matches.append((pair.split(',')[0], float(non_decimal.sub('', pair.split(',')[1]))))\n",
    "        new_columns[col_name][query] = matches\n",
    "\n",
    "# Create new column for each metric\n",
    "for name in new_columns.keys():\n",
    "    queries[name] = queries.index.map(new_columns[name])\n"
   ]
  },
  {
   "attachments": {},
   "cell_type": "markdown",
   "metadata": {},
   "source": [
    "# Get NIST23 data"
   ]
  },
  {
   "cell_type": "code",
   "execution_count": 5,
   "metadata": {},
   "outputs": [
    {
     "name": "stderr",
     "output_type": "stream",
     "text": [
      "1934658it [03:07, 10302.96it/s]\n"
     ]
    }
   ],
   "source": [
    "# Get NIST23 library\n",
    "spectra_list = []\n",
    "for i,spectrum in tqdm(enumerate(read_one_spectrum(f'{DATA_DIR}NIST23-HR-MSMS.MSP'))):\n",
    "    spectra_list.append(spectrum)"
   ]
  },
  {
   "cell_type": "code",
   "execution_count": 6,
   "metadata": {},
   "outputs": [],
   "source": [
    "# Create NIST dataframe\n",
    "nist_df = pd.DataFrame(spectra_list)\n",
    "nist_df = nist_df[nist_df['precursor_type'] == '[M+H]+' ]"
   ]
  },
  {
   "attachments": {},
   "cell_type": "markdown",
   "metadata": {},
   "source": [
    "# Get Wout data"
   ]
  },
  {
   "cell_type": "code",
   "execution_count": 7,
   "metadata": {},
   "outputs": [],
   "source": [
    "# Profile spectra contain 0 intensity values.\n",
    "@nb.njit\n",
    "def is_centroid(intensity_array):\n",
    "    return np.all(intensity_array > 0)"
   ]
  },
  {
   "cell_type": "code",
   "execution_count": 10,
   "metadata": {},
   "outputs": [
    {
     "name": "stderr",
     "output_type": "stream",
     "text": [
      "495600it [01:59, 4140.34it/s] \n"
     ]
    }
   ],
   "source": [
    "# Read all spectra from the MGF.\n",
    "spectra = []\n",
    "\n",
    "# Download from https://zenodo.org/record/6829249/files/ALL_GNPS_NO_PROPOGATED.mgf?download=1\n",
    "filename = (f\"{DATA_DIR}ALL_GNPS_NO_PROPOGATED.mgf\")\n",
    "\n",
    "# Get wout spectra\n",
    "with pyteomics.mgf.MGF(filename) as f_in:\n",
    "    for spectrum_dict in tqdm(f_in):\n",
    "        spectra.append(spectrum_dict)"
   ]
  },
  {
   "cell_type": "code",
   "execution_count": 11,
   "metadata": {},
   "outputs": [
    {
     "data": {
      "text/html": [
       "<div>\n",
       "<style scoped>\n",
       "    .dataframe tbody tr th:only-of-type {\n",
       "        vertical-align: middle;\n",
       "    }\n",
       "\n",
       "    .dataframe tbody tr th {\n",
       "        vertical-align: top;\n",
       "    }\n",
       "\n",
       "    .dataframe thead th {\n",
       "        text-align: right;\n",
       "    }\n",
       "</style>\n",
       "<table border=\"1\" class=\"dataframe\">\n",
       "  <thead>\n",
       "    <tr style=\"text-align: right;\">\n",
       "      <th></th>\n",
       "      <th>m/z array</th>\n",
       "      <th>intensity array</th>\n",
       "      <th>charge array</th>\n",
       "      <th>pepmass</th>\n",
       "      <th>charge</th>\n",
       "      <th>mslevel</th>\n",
       "      <th>source_instrument</th>\n",
       "      <th>filename</th>\n",
       "      <th>seq</th>\n",
       "      <th>ionmode</th>\n",
       "      <th>...</th>\n",
       "      <th>pi</th>\n",
       "      <th>datacollector</th>\n",
       "      <th>smiles</th>\n",
       "      <th>inchi</th>\n",
       "      <th>inchiaux</th>\n",
       "      <th>pubmed</th>\n",
       "      <th>submituser</th>\n",
       "      <th>libraryquality</th>\n",
       "      <th>spectrumid</th>\n",
       "      <th>scans</th>\n",
       "    </tr>\n",
       "  </thead>\n",
       "  <tbody>\n",
       "    <tr>\n",
       "      <th>0</th>\n",
       "      <td>[289.286377, 295.545288, 298.489624, 317.32495...</td>\n",
       "      <td>[8068.0, 22507.0, 3925.0, 18742.0, 8604.0, 804...</td>\n",
       "      <td>[--, --, --, --, --, --, --, --, --, --, --, -...</td>\n",
       "      <td>(981.54, None)</td>\n",
       "      <td>[0+]</td>\n",
       "      <td>2</td>\n",
       "      <td>LC-ESI-qTof</td>\n",
       "      <td>130618_Ger_Jenia_WT-3-Des-MCLR_MH981.4-qb.1.1....</td>\n",
       "      <td>*..*</td>\n",
       "      <td>Positive</td>\n",
       "      <td>...</td>\n",
       "      <td>Gerwick</td>\n",
       "      <td>Jenia</td>\n",
       "      <td>CC(C)CC1NC(=O)C(C)NC(=O)C(=C)N(C)C(=O)CCC(NC(=...</td>\n",
       "      <td>N/A</td>\n",
       "      <td>N/A</td>\n",
       "      <td>N/A</td>\n",
       "      <td>mwang87</td>\n",
       "      <td>1</td>\n",
       "      <td>CCMSLIB00000001547</td>\n",
       "      <td>1</td>\n",
       "    </tr>\n",
       "    <tr>\n",
       "      <th>1</th>\n",
       "      <td>[278.049927, 278.957642, 281.258667, 291.99609...</td>\n",
       "      <td>[35793.0, 47593.0, 95495.0, 115278.0, 91752.0,...</td>\n",
       "      <td>[--, --, --, --, --, --, --, --, --, --, --, -...</td>\n",
       "      <td>(940.25, None)</td>\n",
       "      <td>[0+]</td>\n",
       "      <td>2</td>\n",
       "      <td>LC-ESI-qTof</td>\n",
       "      <td>20111105_Anada_Ger_HoiamideB_MH940_qb.1.1..mgf</td>\n",
       "      <td>*..*</td>\n",
       "      <td>Positive</td>\n",
       "      <td>...</td>\n",
       "      <td>Gerwick</td>\n",
       "      <td>Amanda</td>\n",
       "      <td>CCC[C@@H](C)[C@@H]([C@H](C)[C@@H]1[C@H]([C@H](...</td>\n",
       "      <td>InChI=1S/C45H73N5O10S3/c1-14-17-24(6)34(52)26(...</td>\n",
       "      <td>N/A</td>\n",
       "      <td>N/A</td>\n",
       "      <td>mwang87</td>\n",
       "      <td>1</td>\n",
       "      <td>CCMSLIB00000001548</td>\n",
       "      <td>1</td>\n",
       "    </tr>\n",
       "  </tbody>\n",
       "</table>\n",
       "<p>2 rows × 22 columns</p>\n",
       "</div>"
      ],
      "text/plain": [
       "                                           m/z array  \\\n",
       "0  [289.286377, 295.545288, 298.489624, 317.32495...   \n",
       "1  [278.049927, 278.957642, 281.258667, 291.99609...   \n",
       "\n",
       "                                     intensity array  \\\n",
       "0  [8068.0, 22507.0, 3925.0, 18742.0, 8604.0, 804...   \n",
       "1  [35793.0, 47593.0, 95495.0, 115278.0, 91752.0,...   \n",
       "\n",
       "                                        charge array         pepmass charge  \\\n",
       "0  [--, --, --, --, --, --, --, --, --, --, --, -...  (981.54, None)   [0+]   \n",
       "1  [--, --, --, --, --, --, --, --, --, --, --, -...  (940.25, None)   [0+]   \n",
       "\n",
       "  mslevel source_instrument  \\\n",
       "0       2       LC-ESI-qTof   \n",
       "1       2       LC-ESI-qTof   \n",
       "\n",
       "                                            filename   seq   ionmode  ...  \\\n",
       "0  130618_Ger_Jenia_WT-3-Des-MCLR_MH981.4-qb.1.1....  *..*  Positive  ...   \n",
       "1     20111105_Anada_Ger_HoiamideB_MH940_qb.1.1..mgf  *..*  Positive  ...   \n",
       "\n",
       "        pi datacollector                                             smiles  \\\n",
       "0  Gerwick         Jenia  CC(C)CC1NC(=O)C(C)NC(=O)C(=C)N(C)C(=O)CCC(NC(=...   \n",
       "1  Gerwick        Amanda  CCC[C@@H](C)[C@@H]([C@H](C)[C@@H]1[C@H]([C@H](...   \n",
       "\n",
       "                                               inchi inchiaux pubmed  \\\n",
       "0                                                N/A      N/A    N/A   \n",
       "1  InChI=1S/C45H73N5O10S3/c1-14-17-24(6)34(52)26(...      N/A    N/A   \n",
       "\n",
       "  submituser libraryquality          spectrumid scans  \n",
       "0    mwang87              1  CCMSLIB00000001547     1  \n",
       "1    mwang87              1  CCMSLIB00000001548     1  \n",
       "\n",
       "[2 rows x 22 columns]"
      ]
     },
     "execution_count": 11,
     "metadata": {},
     "output_type": "execute_result"
    }
   ],
   "source": [
    "# Create wout dataframe\n",
    "wout_df = pd.DataFrame(spectra)\n",
    "wout_df = pd.concat([wout_df.drop(['params'], axis=1), wout_df['params'].apply(pd.Series)], axis=1)\n",
    "wout_df.head(2)"
   ]
  },
  {
   "cell_type": "code",
   "execution_count": 12,
   "metadata": {},
   "outputs": [],
   "source": [
    "# Get wout metadata\n",
    "metadata = pd.read_csv(\n",
    "    'https://zenodo.org/record/6829249/files/gnps_libraries_metadata.csv?download=1'\n",
    ")\n",
    "metadata.set_index('id', inplace=True)"
   ]
  },
  {
   "cell_type": "code",
   "execution_count": 13,
   "metadata": {},
   "outputs": [],
   "source": [
    "wout_df = wout_df.set_index('spectrumid')"
   ]
  },
  {
   "attachments": {},
   "cell_type": "markdown",
   "metadata": {},
   "source": [
    "# Get library for each query spectra"
   ]
  },
  {
   "cell_type": "code",
   "execution_count": 32,
   "metadata": {},
   "outputs": [],
   "source": [
    "# Remove wout spectra from NIST\n",
    "queries['wout_library'] = list(metadata.loc[queries['wout_identifier'],'library'])\n",
    "queries = queries[queries['wout_library'] != 'GNPS-NIST14-MATCHES']"
   ]
  },
  {
   "attachments": {},
   "cell_type": "markdown",
   "metadata": {},
   "source": [
    "# Get smiles"
   ]
  },
  {
   "cell_type": "code",
   "execution_count": 33,
   "metadata": {},
   "outputs": [
    {
     "name": "stderr",
     "output_type": "stream",
     "text": [
      "100%|██████████| 567631/567631 [00:04<00:00, 133887.31it/s]\n",
      "100%|██████████| 495600/495600 [00:03<00:00, 133250.52it/s]\n"
     ]
    }
   ],
   "source": [
    "# Get nist smiles dict\n",
    "nist_smiles_dict = {}\n",
    "for index in tqdm(nist_df.index.values):\n",
    "    nist_smiles_dict[index] = nist_df.loc[index,'smiles']\n",
    "\n",
    "# Get wout smiles dict\n",
    "wout_smiles_dict = {}\n",
    "for index in tqdm(wout_df.index.values):\n",
    "    wout_smiles_dict[index] = wout_df.loc[index,'smiles']"
   ]
  },
  {
   "cell_type": "code",
   "execution_count": 34,
   "metadata": {},
   "outputs": [
    {
     "name": "stderr",
     "output_type": "stream",
     "text": [
      "100%|██████████| 25437/25437 [00:01<00:00, 13682.57it/s]\n"
     ]
    }
   ],
   "source": [
    "# Get wout smiles\n",
    "for i in tqdm(queries.index.values):\n",
    "    wout_id = queries.loc[i, 'wout_identifier']\n",
    "    queries.loc[i, 'wout_smiles'] = wout_smiles_dict[wout_id]"
   ]
  },
  {
   "attachments": {},
   "cell_type": "markdown",
   "metadata": {},
   "source": [
    "# Get inchikeys"
   ]
  },
  {
   "cell_type": "code",
   "execution_count": 35,
   "metadata": {},
   "outputs": [
    {
     "name": "stderr",
     "output_type": "stream",
     "text": [
      "  0%|          | 0/25437 [00:00<?, ?it/s]"
     ]
    },
    {
     "name": "stderr",
     "output_type": "stream",
     "text": [
      "100%|██████████| 25437/25437 [00:10<00:00, 2377.98it/s]\n"
     ]
    }
   ],
   "source": [
    "# Get NIST23 partial inchikeys for unweighted queries\n",
    "inchi_dict = {name:{} for name in metric_names}\n",
    "for i in tqdm(queries.index.values):\n",
    "    for name in metric_names:\n",
    "        inchi_list = []\n",
    "        for pair in queries.loc[i, name]:\n",
    "            index = int(pair[0].split('_')[0])\n",
    "            inchi_list.append(nist_df.loc[int(pair[0].split('_')[0]),'inchikey'][:14])\n",
    "        inchi_dict[name][i] = inchi_list\n",
    "for name in metric_names:\n",
    "    queries[f'{name}_inchis'] = queries.index.map(inchi_dict[name])"
   ]
  },
  {
   "cell_type": "code",
   "execution_count": 36,
   "metadata": {},
   "outputs": [
    {
     "name": "stderr",
     "output_type": "stream",
     "text": [
      "100%|██████████| 25437/25437 [00:18<00:00, 1342.32it/s]\n"
     ]
    }
   ],
   "source": [
    "# Get wout partial inchikeys for queries\n",
    "for i in tqdm(queries.index.values):\n",
    "    inchi = smile2inchi(queries.loc[i, 'wout_smiles'])\n",
    "    queries.loc[i, 'wout_inchi'] = inchi[:14]"
   ]
  },
  {
   "attachments": {},
   "cell_type": "markdown",
   "metadata": {},
   "source": [
    "# Look at exact matches"
   ]
  },
  {
   "cell_type": "code",
   "execution_count": 37,
   "metadata": {},
   "outputs": [
    {
     "name": "stderr",
     "output_type": "stream",
     "text": [
      "  0%|          | 0/25437 [00:00<?, ?it/s]/tmp/ipykernel_15817/462158960.py:5: FutureWarning: elementwise comparison failed; returning scalar instead, but in the future will perform elementwise comparison\n",
      "  exact_matches = np.where(np.array(list(queries.loc[i, f'{name}_inchis'])) == queries.loc[i, 'wout_inchi'])[0]\n",
      "100%|██████████| 25437/25437 [00:01<00:00, 15679.33it/s]\n"
     ]
    }
   ],
   "source": [
    "# Get indexes of exact matches for queries\n",
    "all_matches = {name:{} for name in metric_names}\n",
    "for i in tqdm(queries.index.values):\n",
    "    for name in metric_names:\n",
    "        exact_matches = np.where(np.array(list(queries.loc[i, f'{name}_inchis'])) == queries.loc[i, 'wout_inchi'])[0]\n",
    "        all_matches[name][i] = exact_matches\n",
    "for name in metric_names:\n",
    "    queries[f'{name}_exact_matches'] = queries.index.map(all_matches[name])\n"
   ]
  },
  {
   "cell_type": "code",
   "execution_count": 38,
   "metadata": {},
   "outputs": [
    {
     "name": "stderr",
     "output_type": "stream",
     "text": [
      "100%|██████████| 25437/25437 [12:55<00:00, 32.79it/s]\n"
     ]
    }
   ],
   "source": [
    "# Get percent of exact matches for queries\n",
    "nist_df['partial_inchikey'] = nist_df['inchikey'].str[:14]\n",
    "for i in tqdm(queries.index.values):\n",
    "    queries.loc[i, 'num_inchi_matches'] = len(nist_df[nist_df['partial_inchikey'] == queries.loc[i, 'wout_inchi']])\n",
    "    for name in metric_names:\n",
    "        queries.loc[i, f'{name}_percent_exact'] = len(queries.loc[i, f'{name}_exact_matches'])/queries.loc[i, 'num_inchi_matches']"
   ]
  },
  {
   "cell_type": "markdown",
   "metadata": {},
   "source": [
    "# Look at top n matches"
   ]
  },
  {
   "cell_type": "code",
   "execution_count": 39,
   "metadata": {},
   "outputs": [],
   "source": [
    "from rdkit import Chem, DataStructs\n",
    "import functools\n",
    "\n",
    "@functools.lru_cache\n",
    "def _smiles_to_mol(smiles):\n",
    "    try:\n",
    "        return Chem.MolFromSmiles(smiles)\n",
    "    except:\n",
    "        return None\n",
    "@functools.lru_cache\n",
    "def tanimoto(smiles1, smiles2):\n",
    "    mol1, mol2 = _smiles_to_mol(smiles1), _smiles_to_mol(smiles2)\n",
    "    if mol1 is None or mol2 is None:\n",
    "        return np.nan\n",
    "    fp1, fp2 = Chem.RDKFingerprint(mol1), Chem.RDKFingerprint(mol2)\n",
    "    return DataStructs.TanimotoSimilarity(fp1, fp2)"
   ]
  },
  {
   "cell_type": "code",
   "execution_count": 40,
   "metadata": {},
   "outputs": [
    {
     "name": "stderr",
     "output_type": "stream",
     "text": [
      "  0%|          | 0/25437 [00:00<?, ?it/s]"
     ]
    },
    {
     "name": "stderr",
     "output_type": "stream",
     "text": [
      "100%|██████████| 25437/25437 [00:20<00:00, 1221.85it/s]\n"
     ]
    }
   ],
   "source": [
    "# Get NIST23 smiles for queries\n",
    "all_smiles_dict = {name: {} for name in metric_names}\n",
    "for i in tqdm(queries.index.values):\n",
    "    for name in metric_names:\n",
    "        current_matches = queries.loc[i, name]\n",
    "        if len(current_matches) == 0:\n",
    "            all_smiles_dict[name][i] = []\n",
    "        else:\n",
    "            nist_indexes = [int(x.split('_')[0]) for x in np.array(queries.loc[i, name])[:,0]]\n",
    "            smiles_list = nist_df.loc[nist_indexes, 'smiles'].values\n",
    "            all_smiles_dict[name][i] = smiles_list\n",
    "\n",
    "for name in metric_names:\n",
    "    queries[f'{name}_smiles'] = queries.index.map(all_smiles_dict[name])"
   ]
  },
  {
   "cell_type": "code",
   "execution_count": 41,
   "metadata": {},
   "outputs": [
    {
     "name": "stderr",
     "output_type": "stream",
     "text": [
      "100%|██████████| 25437/25437 [02:19<00:00, 182.93it/s] \n"
     ]
    }
   ],
   "source": [
    "# Get dictionary of tanimoto scores\n",
    "all_tanimotos = {name:{} for name in metric_names}\n",
    "\n",
    "# Get tanimoto scores for queries\n",
    "for i in tqdm(queries.index.values):\n",
    "    for name in metric_names:\n",
    "        tanimotos = []\n",
    "        query_smiles = queries.loc[i, 'wout_smiles']\n",
    "        if len(queries.loc[i, f'{name}_smiles']) != 0:\n",
    "            for library_smiles in queries.loc[i, f'{name}_smiles']:\n",
    "                tanimotos.append(tanimoto(query_smiles, library_smiles))\n",
    "            all_tanimotos[name][i] = [x for x in tanimotos if not pd.isna(x)]\n",
    "        else:\n",
    "            all_tanimotos[name][i] = []\n",
    "for name in metric_names:\n",
    "    queries[f'{name}_tanimoto'] = queries.index.map(all_tanimotos[name])"
   ]
  },
  {
   "attachments": {},
   "cell_type": "markdown",
   "metadata": {},
   "source": [
    "# Look at AUC scores"
   ]
  },
  {
   "cell_type": "code",
   "execution_count": 42,
   "metadata": {},
   "outputs": [
    {
     "name": "stderr",
     "output_type": "stream",
     "text": [
      "100%|██████████| 25437/25437 [00:37<00:00, 674.18it/s] \n"
     ]
    }
   ],
   "source": [
    "from sklearn.metrics import roc_curve, auc\n",
    "\n",
    "no_matches = 0\n",
    "\n",
    "# Get AUC scores for queries\n",
    "for index in tqdm(queries.index.values):\n",
    "    for name in metric_names:\n",
    "        if len(np.array(list(queries.loc[index,name]))) != 0:\n",
    "            prob = np.array(list(queries.loc[index,name]))[:,1].astype('float')\n",
    "            y_true = np.zeros(len(prob))\n",
    "            y_true[queries.loc[index,f'{name}_exact_matches']] = 1\n",
    "\n",
    "            # check if there arent any 1.0s in y_true\n",
    "            if np.sum(y_true) == 0:\n",
    "                queries.loc[index, f'{name}_auc'] = 0\n",
    "            # check if all values are 1.0\n",
    "            elif np.sum(y_true) == len(y_true):\n",
    "                queries.loc[index, f'{name}_auc'] = 1\n",
    "            else:\n",
    "                fpr, tpr, thresholds = roc_curve(y_true, prob)\n",
    "                queries.loc[index, f'{name}_auc'] = auc(fpr, tpr)\n",
    "        else:\n",
    "            no_matches += 1\n",
    "            queries.loc[index, f'{name}_auc'] = np.nan"
   ]
  },
  {
   "cell_type": "code",
   "execution_count": 43,
   "metadata": {},
   "outputs": [],
   "source": [
    "queries.to_csv(f'{QUERY_PATH}{FILE}_with_stats.csv')\n",
    "queries.to_csv(f'{QUERY_DIR}{FILE}_with_stats.csv')"
   ]
  },
  {
   "cell_type": "code",
   "execution_count": null,
   "metadata": {},
   "outputs": [],
   "source": []
  }
 ],
 "metadata": {
  "kernelspec": {
   "display_name": ".venv",
   "language": "python",
   "name": "python3"
  },
  "language_info": {
   "codemirror_mode": {
    "name": "ipython",
    "version": 3
   },
   "file_extension": ".py",
   "mimetype": "text/x-python",
   "name": "python",
   "nbconvert_exporter": "python",
   "pygments_lexer": "ipython3",
   "version": "3.9.16"
  },
  "orig_nbformat": 4
 },
 "nbformat": 4,
 "nbformat_minor": 2
}
