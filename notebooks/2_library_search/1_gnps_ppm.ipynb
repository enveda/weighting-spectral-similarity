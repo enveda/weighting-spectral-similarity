{
 "cells": [
  {
   "cell_type": "markdown",
   "source": [
    "# Preparing GNPS data with different PPM windows"
   ],
   "metadata": {
    "collapsed": false
   }
  },
  {
   "cell_type": "code",
   "execution_count": 1,
   "metadata": {},
   "outputs": [],
   "source": [
    "from molmass import Formula\n",
    "import numba as nb\n",
    "import numpy as np\n",
    "import pyteomics.mgf\n",
    "from tqdm import tqdm\n",
    "import pandas as pd\n",
    "\n",
    "from rdkit import Chem\n",
    "from rdkit.Chem.rdMolDescriptors import CalcMolFormula\n",
    "import seaborn as sns\n",
    "import matplotlib.pyplot as plt\n",
    "# turn off rdkit logging\n",
    "from rdkit import RDLogger\n",
    "RDLogger.DisableLog('rdApp.*')"
   ]
  },
  {
   "cell_type": "markdown",
   "metadata": {},
   "source": [
    "# Get GNPS data"
   ]
  },
  {
   "cell_type": "code",
   "execution_count": 2,
   "metadata": {},
   "outputs": [],
   "source": [
    "# Profile spectra contain 0 intensity values.\n",
    "@nb.njit\n",
    "def is_centroid(intensity_array):\n",
    "    return np.all(intensity_array > 0)"
   ]
  },
  {
   "cell_type": "code",
   "execution_count": null,
   "metadata": {},
   "outputs": [],
   "source": [
    "# Read all spectra from the MGF.\n",
    "spectra = []\n",
    "\n",
    "# Download from https://zenodo.org/record/6829249/files/ALL_GNPS_NO_PROPOGATED.mgf?download=1\n",
    "filename = (\"../../data/ALL_GNPS_NO_PROPOGATED.mgf\")\n",
    "\n",
    "# Get wout spectra\n",
    "with pyteomics.mgf.MGF(filename) as f_in:\n",
    "    for spectrum_dict in tqdm(f_in):\n",
    "        spectra.append(spectrum_dict)"
   ]
  },
  {
   "cell_type": "code",
   "execution_count": 4,
   "metadata": {},
   "outputs": [
    {
     "data": {
      "text/html": [
       "<div>\n",
       "<style scoped>\n",
       "    .dataframe tbody tr th:only-of-type {\n",
       "        vertical-align: middle;\n",
       "    }\n",
       "\n",
       "    .dataframe tbody tr th {\n",
       "        vertical-align: top;\n",
       "    }\n",
       "\n",
       "    .dataframe thead th {\n",
       "        text-align: right;\n",
       "    }\n",
       "</style>\n",
       "<table border=\"1\" class=\"dataframe\">\n",
       "  <thead>\n",
       "    <tr style=\"text-align: right;\">\n",
       "      <th></th>\n",
       "      <th>m/z array</th>\n",
       "      <th>intensity array</th>\n",
       "      <th>charge array</th>\n",
       "      <th>pepmass</th>\n",
       "      <th>charge</th>\n",
       "      <th>mslevel</th>\n",
       "      <th>source_instrument</th>\n",
       "      <th>filename</th>\n",
       "      <th>seq</th>\n",
       "      <th>ionmode</th>\n",
       "      <th>...</th>\n",
       "      <th>pi</th>\n",
       "      <th>datacollector</th>\n",
       "      <th>smiles</th>\n",
       "      <th>inchi</th>\n",
       "      <th>inchiaux</th>\n",
       "      <th>pubmed</th>\n",
       "      <th>submituser</th>\n",
       "      <th>libraryquality</th>\n",
       "      <th>spectrumid</th>\n",
       "      <th>scans</th>\n",
       "    </tr>\n",
       "  </thead>\n",
       "  <tbody>\n",
       "    <tr>\n",
       "      <th>0</th>\n",
       "      <td>[289.286377, 295.545288, 298.489624, 317.32495...</td>\n",
       "      <td>[8068.0, 22507.0, 3925.0, 18742.0, 8604.0, 804...</td>\n",
       "      <td>[--, --, --, --, --, --, --, --, --, --, --, -...</td>\n",
       "      <td>(981.54, None)</td>\n",
       "      <td>[0+]</td>\n",
       "      <td>2</td>\n",
       "      <td>LC-ESI-qTof</td>\n",
       "      <td>130618_Ger_Jenia_WT-3-Des-MCLR_MH981.4-qb.1.1....</td>\n",
       "      <td>*..*</td>\n",
       "      <td>Positive</td>\n",
       "      <td>...</td>\n",
       "      <td>Gerwick</td>\n",
       "      <td>Jenia</td>\n",
       "      <td>CC(C)CC1NC(=O)C(C)NC(=O)C(=C)N(C)C(=O)CCC(NC(=...</td>\n",
       "      <td>N/A</td>\n",
       "      <td>N/A</td>\n",
       "      <td>N/A</td>\n",
       "      <td>mwang87</td>\n",
       "      <td>1</td>\n",
       "      <td>CCMSLIB00000001547</td>\n",
       "      <td>1</td>\n",
       "    </tr>\n",
       "    <tr>\n",
       "      <th>1</th>\n",
       "      <td>[278.049927, 278.957642, 281.258667, 291.99609...</td>\n",
       "      <td>[35793.0, 47593.0, 95495.0, 115278.0, 91752.0,...</td>\n",
       "      <td>[--, --, --, --, --, --, --, --, --, --, --, -...</td>\n",
       "      <td>(940.25, None)</td>\n",
       "      <td>[0+]</td>\n",
       "      <td>2</td>\n",
       "      <td>LC-ESI-qTof</td>\n",
       "      <td>20111105_Anada_Ger_HoiamideB_MH940_qb.1.1..mgf</td>\n",
       "      <td>*..*</td>\n",
       "      <td>Positive</td>\n",
       "      <td>...</td>\n",
       "      <td>Gerwick</td>\n",
       "      <td>Amanda</td>\n",
       "      <td>CCC[C@@H](C)[C@@H]([C@H](C)[C@@H]1[C@H]([C@H](...</td>\n",
       "      <td>InChI=1S/C45H73N5O10S3/c1-14-17-24(6)34(52)26(...</td>\n",
       "      <td>N/A</td>\n",
       "      <td>N/A</td>\n",
       "      <td>mwang87</td>\n",
       "      <td>1</td>\n",
       "      <td>CCMSLIB00000001548</td>\n",
       "      <td>1</td>\n",
       "    </tr>\n",
       "  </tbody>\n",
       "</table>\n",
       "<p>2 rows × 22 columns</p>\n",
       "</div>"
      ],
      "text/plain": [
       "                                           m/z array  \\\n",
       "0  [289.286377, 295.545288, 298.489624, 317.32495...   \n",
       "1  [278.049927, 278.957642, 281.258667, 291.99609...   \n",
       "\n",
       "                                     intensity array  \\\n",
       "0  [8068.0, 22507.0, 3925.0, 18742.0, 8604.0, 804...   \n",
       "1  [35793.0, 47593.0, 95495.0, 115278.0, 91752.0,...   \n",
       "\n",
       "                                        charge array         pepmass charge  \\\n",
       "0  [--, --, --, --, --, --, --, --, --, --, --, -...  (981.54, None)   [0+]   \n",
       "1  [--, --, --, --, --, --, --, --, --, --, --, -...  (940.25, None)   [0+]   \n",
       "\n",
       "  mslevel source_instrument  \\\n",
       "0       2       LC-ESI-qTof   \n",
       "1       2       LC-ESI-qTof   \n",
       "\n",
       "                                            filename   seq   ionmode  ...  \\\n",
       "0  130618_Ger_Jenia_WT-3-Des-MCLR_MH981.4-qb.1.1....  *..*  Positive  ...   \n",
       "1     20111105_Anada_Ger_HoiamideB_MH940_qb.1.1..mgf  *..*  Positive  ...   \n",
       "\n",
       "        pi datacollector                                             smiles  \\\n",
       "0  Gerwick         Jenia  CC(C)CC1NC(=O)C(C)NC(=O)C(=C)N(C)C(=O)CCC(NC(=...   \n",
       "1  Gerwick        Amanda  CCC[C@@H](C)[C@@H]([C@H](C)[C@@H]1[C@H]([C@H](...   \n",
       "\n",
       "                                               inchi inchiaux pubmed  \\\n",
       "0                                                N/A      N/A    N/A   \n",
       "1  InChI=1S/C45H73N5O10S3/c1-14-17-24(6)34(52)26(...      N/A    N/A   \n",
       "\n",
       "  submituser libraryquality          spectrumid scans  \n",
       "0    mwang87              1  CCMSLIB00000001547     1  \n",
       "1    mwang87              1  CCMSLIB00000001548     1  \n",
       "\n",
       "[2 rows x 22 columns]"
      ]
     },
     "execution_count": 4,
     "metadata": {},
     "output_type": "execute_result"
    }
   ],
   "source": [
    "# Create wout dataframe\n",
    "wout_df = pd.DataFrame(spectra)\n",
    "wout_df = pd.concat([wout_df.drop(['params'], axis=1), wout_df['params'].apply(pd.Series)], axis=1)\n",
    "wout_df.head(2)"
   ]
  },
  {
   "cell_type": "markdown",
   "metadata": {},
   "source": [
    "### Filter GNPS data"
   ]
  },
  {
   "cell_type": "code",
   "execution_count": 5,
   "metadata": {},
   "outputs": [],
   "source": [
    "# set parameters\n",
    "min_n_peaks = 6\n",
    "\n",
    "# Filter wout df using filters wout paper used\n",
    "wout_df.libraryquality = wout_df.libraryquality.astype(int)\n",
    "wout_df['pepmass'] = wout_df['pepmass'].apply(lambda x: x[0])\n",
    "wout_df = wout_df.loc[~pd.isna(wout_df.pepmass)]\n",
    "wout_df = wout_df.loc[wout_df.libraryquality <= 3]\n",
    "wout_df = wout_df.loc[wout_df.charge.apply(lambda x: x[0] in [0,1])]\n",
    "wout_df = wout_df.loc[wout_df.pepmass > 0]\n",
    "wout_df = wout_df.loc[wout_df['m/z array'].apply(lambda x: len(x)) >= min_n_peaks]\n",
    "wout_df = wout_df.loc[wout_df.ionmode == 'Positive']\n",
    "wout_df = wout_df.loc[wout_df['intensity array'].apply(is_centroid)]\n",
    "wout_df = wout_df.loc[wout_df.apply(lambda x: x.smiles != 'N/A'  or x.inchi != 'N/A', axis=1) ]\n",
    "\n",
    "# Only M+H adducts (one of the filters Wout used)\n",
    "wout_df = wout_df.loc[wout_df.name.apply(lambda x: x.rstrip().endswith(' M+H'))]"
   ]
  },
  {
   "cell_type": "code",
   "execution_count": 6,
   "metadata": {},
   "outputs": [],
   "source": [
    "# Get wout metadata\n",
    "metadata = pd.read_csv(\n",
    "    'https://zenodo.org/record/6829249/files/gnps_libraries_metadata.csv?download=1'\n",
    ")\n",
    "metadata.set_index('id', inplace=True)"
   ]
  },
  {
   "cell_type": "markdown",
   "metadata": {},
   "source": [
    "# Get molecular formulas"
   ]
  },
  {
   "cell_type": "code",
   "execution_count": 7,
   "metadata": {},
   "outputs": [
    {
     "name": "stderr",
     "output_type": "stream",
     "text": [
      "100%|██████████| 59165/59165 [00:08<00:00, 6985.34it/s]\n"
     ]
    }
   ],
   "source": [
    "for id_ in tqdm(wout_df.index.values):\n",
    "\n",
    "    # check if smiles is nan (to make the for loop faster)\n",
    "    if wout_df.loc[id_, 'smiles'] == 'N/A':\n",
    "        wout_df.loc[id_, 'formula'] = np.nan\n",
    "        continue\n",
    "\n",
    "    # calculate formula\n",
    "    try:\n",
    "        mol = Chem.MolFromSmiles(wout_df.loc[id_, 'smiles'])\n",
    "        formula = CalcMolFormula(mol)\n",
    "        wout_df.loc[id_, 'formula'] = formula\n",
    "    except:\n",
    "        wout_df.loc[id_, 'formula'] = np.nan"
   ]
  },
  {
   "cell_type": "code",
   "execution_count": 8,
   "metadata": {},
   "outputs": [],
   "source": [
    "# remove rows with formula as NaN\n",
    "wout_df.dropna(subset=['formula'], inplace=True)"
   ]
  },
  {
   "cell_type": "markdown",
   "metadata": {},
   "source": [
    "# Calculate theoretical masses"
   ]
  },
  {
   "cell_type": "code",
   "execution_count": 9,
   "metadata": {},
   "outputs": [
    {
     "name": "stderr",
     "output_type": "stream",
     "text": [
      "100%|██████████| 59048/59048 [00:04<00:00, 12198.23it/s]\n"
     ]
    }
   ],
   "source": [
    "# Calculate the theoretical mass of each spectra (based on formula)\n",
    "num_failed = 0\n",
    "for i in tqdm(wout_df.index.values):\n",
    "    try:\n",
    "        f = Formula(wout_df.loc[i, 'formula'])\n",
    "        wout_df.loc[i, 'monoisotopic_mass'] = f.monoisotopic_mass\n",
    "    except:\n",
    "        num_failed += 1\n",
    "        wout_df.loc[i, 'monoisotopic_mass'] = np.nan"
   ]
  },
  {
   "cell_type": "code",
   "execution_count": 10,
   "metadata": {},
   "outputs": [],
   "source": [
    "# remove rows with formula as NaN\n",
    "wout_df.dropna(subset=['monoisotopic_mass'], inplace=True)"
   ]
  },
  {
   "cell_type": "markdown",
   "metadata": {},
   "source": [
    "# Calculate ppm"
   ]
  },
  {
   "cell_type": "code",
   "execution_count": 14,
   "metadata": {},
   "outputs": [
    {
     "name": "stderr",
     "output_type": "stream",
     "text": [
      "100%|██████████| 57620/57620 [00:06<00:00, 8401.34it/s]\n"
     ]
    }
   ],
   "source": [
    "skipped = 0\n",
    "\n",
    "# Calculate the ppm for each spectra\n",
    "for i in tqdm(wout_df.index.values):\n",
    "    pepmass = wout_df.loc[i, 'pepmass'] \n",
    "\n",
    "    # Check if the formula and smiles contain a '+' sign (molecule is a cation)\n",
    "    if '+' in wout_df.loc[i,'formula'] and '+' in wout_df.loc[i, 'smiles']:\n",
    "        monoisotopic_mass = wout_df.loc[i, 'monoisotopic_mass']\n",
    "    else:\n",
    "        monoisotopic_mass = wout_df.loc[i, 'monoisotopic_mass'] + 1.007276 # proton mass\n",
    "\n",
    "    # Skip if the pepmass or monoisotopic_mass is NaN\n",
    "    if pd.isna(pepmass) or pd.isna(monoisotopic_mass):\n",
    "        skipped += 1\n",
    "        continue\n",
    "\n",
    "    # Calculate the ppm and mDa\n",
    "    ppm = ((pepmass - monoisotopic_mass) / monoisotopic_mass) * (10**6)\n",
    "    mDa = (pepmass - monoisotopic_mass) * 1000\n",
    "    wout_df.loc[i, 'ppm'] = ppm\n",
    "    wout_df.loc[i, 'monoisotopic_mass_diff'] = monoisotopic_mass - pepmass\n",
    "    wout_df.loc[i, 'mDa'] = mDa"
   ]
  },
  {
   "cell_type": "code",
   "execution_count": 56,
   "metadata": {},
   "outputs": [],
   "source": [
    "# Filter out spectra with high ppm's \n",
    "wout_df = wout_df.loc[abs(wout_df['ppm']) < 100]\n",
    "\n",
    "# Filter our cations\n",
    "wout_df = wout_df.loc[wout_df.formula.apply(lambda x: '+' not in x)]"
   ]
  },
  {
   "cell_type": "code",
   "execution_count": 62,
   "metadata": {},
   "outputs": [],
   "source": [
    "# make a new column with the ppm values and divide by 10**6\n",
    "# then make a new column with the rounded ppm values\n",
    "wout_df['difference_experimental_theoretical'] = wout_df['ppm'] / 10**6"
   ]
  },
  {
   "cell_type": "code",
   "execution_count": 63,
   "metadata": {},
   "outputs": [
    {
     "data": {
      "image/png": "[encoded data removed]",
      "text/plain": [
       "<Figure size 1000x500 with 1 Axes>"
      ]
     },
     "metadata": {},
     "output_type": "display_data"
    }
   ],
   "source": [
    "wout_df['difference_experimental_theoretical'].hist(bins=1000, figsize=(10, 5))\n",
    "plt.xlim(-0.01, 0.01)\n",
    "plt.xlabel('Difference theoretical and experimental m/z')\n",
    "plt.ylabel('Count')\n",
    "\n",
    "plt.show()"
   ]
  },
  {
   "cell_type": "code",
   "execution_count": 64,
   "metadata": {},
   "outputs": [],
   "source": [
    "subset = [\n",
    "    ppm\n",
    "    for ppm in wout_df['ppm']\n",
    "    if abs(ppm) < 2\n",
    "]"
   ]
  },
  {
   "cell_type": "code",
   "execution_count": 65,
   "metadata": {},
   "outputs": [
    {
     "name": "stdout",
     "output_type": "stream",
     "text": [
      "Percent of data with ppm < 2:  80.50680413934272\n"
     ]
    }
   ],
   "source": [
    "print('Percent of data with ppm < 2: ', (len(subset) / wout_df.shape[0]) * 100)"
   ]
  },
  {
   "cell_type": "code",
   "execution_count": 66,
   "metadata": {},
   "outputs": [
    {
     "name": "stderr",
     "output_type": "stream",
     "text": [
      "/Users/chloe/Desktop/weighted-mod-cosine-sim/.venv/lib/python3.9/site-packages/seaborn/axisgrid.py:118: UserWarning: The figure layout has changed to tight\n",
      "  self._figure.tight_layout(*args, **kwargs)\n",
      "/var/folders/42/5d8q8sxj7jl7qbzh9rsv75bw0000gn/T/ipykernel_32495/3951946479.py:22: UserWarning: The figure layout has changed to tight\n",
      "  plt.tight_layout()\n"
     ]
    },
    {
     "data": {
      "image/png": "[encoded data removed]",
      "text/plain": [
       "<Figure size 600x400 with 1 Axes>"
      ]
     },
     "metadata": {},
     "output_type": "display_data"
    }
   ],
   "source": [
    "# increase plot size\n",
    "plt.rcParams['figure.figsize'] = [10, 5]\n",
    "\n",
    "ax = sns.displot(\n",
    "    wout_df.ppm,\n",
    "    # type of plot\n",
    "    kind='hist',\n",
    "    bins=100,\n",
    "    kde=True,\n",
    "    color='blue',\n",
    "    alpha=0.5,\n",
    "    linewidth=0.5,\n",
    "    height=4,\n",
    "    aspect=1.5,\n",
    ")\n",
    "\n",
    "\n",
    "plt.xlabel('ppm')\n",
    "plt.ylabel('count')\n",
    "\n",
    "plt.suptitle('ppm distribution for Wout data')\n",
    "plt.tight_layout()\n",
    "plt.show()"
   ]
  },
  {
   "cell_type": "code",
   "execution_count": null,
   "metadata": {},
   "outputs": [],
   "source": [
    "wout_df = wout_df.set_index('spectrumid')\n",
    "wout_df.to_csv('../../data/wout_ppm.csv')"
   ]
  },
  {
   "cell_type": "code",
   "execution_count": null,
   "metadata": {},
   "outputs": [],
   "source": []
  }
 ],
 "metadata": {
  "kernelspec": {
   "display_name": ".venv",
   "language": "python",
   "name": "python3"
  },
  "language_info": {
   "codemirror_mode": {
    "name": "ipython",
    "version": 3
   },
   "file_extension": ".py",
   "mimetype": "text/x-python",
   "name": "python",
   "nbconvert_exporter": "python",
   "pygments_lexer": "ipython3",
   "version": "3.9.16"
  },
  "orig_nbformat": 4
 },
 "nbformat": 4,
 "nbformat_minor": 2
}
