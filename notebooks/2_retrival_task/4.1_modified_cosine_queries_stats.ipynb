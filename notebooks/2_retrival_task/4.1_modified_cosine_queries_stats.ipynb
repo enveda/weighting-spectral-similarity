{
 "cells": [
  {
   "cell_type": "code",
   "execution_count": 3,
   "metadata": {},
   "outputs": [],
   "source": [
    "import pandas as pd\n",
    "import re\n",
    "from tqdm import tqdm\n",
    "import numpy as np\n",
    "from matplotlib import pyplot as plt\n",
    "import itertools\n",
    "\n",
    "from ms_entropy.file_io.msp_file import read_one_spectrum\n",
    "import numba as nb\n",
    "import pyteomics.mgf\n",
    "import sys\n",
    "import importlib\n",
    "\n",
    "sys.path.append(\"../../src/ms_similarity_metrics/\")\n",
    "from create_spectrum import smile2inchi\n",
    "importlib.reload(sys.modules['create_spectrum'])\n",
    "from create_spectrum import smile2inchi\n"
   ]
  },
  {
   "cell_type": "code",
   "execution_count": null,
   "metadata": {},
   "outputs": [],
   "source": [
    "QUERY_DIR = '../../data/mod_cosine_queries/'\n",
    "QUERY_PATH = 's3://enveda-data-user/chloe.engler/cosine_similarity/modified_cosine_queries/'\n",
    "DATA_DIR = '../../data/'\n",
    "\n",
    "FILE = 'our_weights/weighted_query_no_ppm'\n"
   ]
  },
  {
   "attachments": {},
   "cell_type": "markdown",
   "metadata": {},
   "source": [
    "# Get queries"
   ]
  },
  {
   "cell_type": "code",
   "execution_count": 40,
   "metadata": {},
   "outputs": [
    {
     "name": "stdout",
     "output_type": "stream",
     "text": [
      "(29985, 3)\n"
     ]
    }
   ],
   "source": [
    "# Get the NIST23 queries\n",
    "# queries = pd.read_csv(f'{QUERY_PATH}{FILE}.csv', index_col=0)\n",
    "queries = pd.read_csv(f'{QUERY_DIR}{FILE}.csv', index_col=0)\n",
    "print(queries.shape)"
   ]
  },
  {
   "cell_type": "code",
   "execution_count": 41,
   "metadata": {},
   "outputs": [
    {
     "name": "stderr",
     "output_type": "stream",
     "text": [
      "100%|██████████| 29985/29985 [01:09<00:00, 432.39it/s] \n"
     ]
    }
   ],
   "source": [
    "# Reformat the library_spectra_matches column to a list of tuples\n",
    "all_matches = {}\n",
    "for query in tqdm(queries.index.values):\n",
    "    matches = []\n",
    "    non_decimal = re.compile(r'[^\\d.]+')\n",
    "\n",
    "    test = queries.loc[query]['library_spectra_matches'].replace(\"'\", \"\").replace(')', '').split('(')[1:]\n",
    "    for pair in test:\n",
    "        matches.append((pair.split(',')[0], float(non_decimal.sub('', pair.split(',')[1]))))\n",
    "\n",
    "    all_matches[query] = matches\n",
    "queries['library_spectra_matches'] = all_matches\n"
   ]
  },
  {
   "attachments": {},
   "cell_type": "markdown",
   "metadata": {},
   "source": [
    "# Get NIST23 data"
   ]
  },
  {
   "cell_type": "code",
   "execution_count": 10,
   "metadata": {},
   "outputs": [
    {
     "name": "stderr",
     "output_type": "stream",
     "text": [
      "1934658it [03:08, 10242.35it/s]\n"
     ]
    }
   ],
   "source": [
    "# Get NIST23 library\n",
    "# Get data from s3://enveda-data-user/chloe.engler/cosine_similarity/NIST_data/NIST23-HR-MSMS.MSP\n",
    "spectra_list = []\n",
    "for i,spectrum in tqdm(enumerate(read_one_spectrum(f'{DATA_DIR}NIST23-HR-MSMS.MSP'))):\n",
    "    spectra_list.append(spectrum)"
   ]
  },
  {
   "cell_type": "code",
   "execution_count": 11,
   "metadata": {},
   "outputs": [],
   "source": [
    "# Create NIST dataframe\n",
    "nist_df = pd.DataFrame(spectra_list)\n",
    "nist_df = nist_df[nist_df['precursor_type'] == '[M+H]+' ]"
   ]
  },
  {
   "attachments": {},
   "cell_type": "markdown",
   "metadata": {},
   "source": [
    "# Get Wout data"
   ]
  },
  {
   "cell_type": "code",
   "execution_count": 12,
   "metadata": {},
   "outputs": [],
   "source": [
    "# Profile spectra contain 0 intensity values.\n",
    "@nb.njit\n",
    "def is_centroid(intensity_array):\n",
    "    return np.all(intensity_array > 0)"
   ]
  },
  {
   "cell_type": "code",
   "execution_count": 13,
   "metadata": {},
   "outputs": [
    {
     "name": "stderr",
     "output_type": "stream",
     "text": [
      "495600it [01:57, 4213.24it/s] \n"
     ]
    }
   ],
   "source": [
    "# Read all spectra from the MGF.\n",
    "spectra = []\n",
    "\n",
    "# Download from https://zenodo.org/record/6829249/files/ALL_GNPS_NO_PROPOGATED.mgf?download=1\n",
    "filename = (f\"{DATA_DIR}ALL_GNPS_NO_PROPOGATED.mgf\")\n",
    "\n",
    "# Get wout spectra\n",
    "with pyteomics.mgf.MGF(filename) as f_in:\n",
    "    for spectrum_dict in tqdm(f_in):\n",
    "        spectra.append(spectrum_dict)"
   ]
  },
  {
   "cell_type": "code",
   "execution_count": 14,
   "metadata": {},
   "outputs": [
    {
     "data": {
      "text/html": [
       "<div>\n",
       "<style scoped>\n",
       "    .dataframe tbody tr th:only-of-type {\n",
       "        vertical-align: middle;\n",
       "    }\n",
       "\n",
       "    .dataframe tbody tr th {\n",
       "        vertical-align: top;\n",
       "    }\n",
       "\n",
       "    .dataframe thead th {\n",
       "        text-align: right;\n",
       "    }\n",
       "</style>\n",
       "<table border=\"1\" class=\"dataframe\">\n",
       "  <thead>\n",
       "    <tr style=\"text-align: right;\">\n",
       "      <th></th>\n",
       "      <th>m/z array</th>\n",
       "      <th>intensity array</th>\n",
       "      <th>charge array</th>\n",
       "      <th>pepmass</th>\n",
       "      <th>charge</th>\n",
       "      <th>mslevel</th>\n",
       "      <th>source_instrument</th>\n",
       "      <th>filename</th>\n",
       "      <th>seq</th>\n",
       "      <th>ionmode</th>\n",
       "      <th>...</th>\n",
       "      <th>name</th>\n",
       "      <th>pi</th>\n",
       "      <th>datacollector</th>\n",
       "      <th>smiles</th>\n",
       "      <th>inchi</th>\n",
       "      <th>inchiaux</th>\n",
       "      <th>pubmed</th>\n",
       "      <th>submituser</th>\n",
       "      <th>libraryquality</th>\n",
       "      <th>scans</th>\n",
       "    </tr>\n",
       "    <tr>\n",
       "      <th>spectrumid</th>\n",
       "      <th></th>\n",
       "      <th></th>\n",
       "      <th></th>\n",
       "      <th></th>\n",
       "      <th></th>\n",
       "      <th></th>\n",
       "      <th></th>\n",
       "      <th></th>\n",
       "      <th></th>\n",
       "      <th></th>\n",
       "      <th></th>\n",
       "      <th></th>\n",
       "      <th></th>\n",
       "      <th></th>\n",
       "      <th></th>\n",
       "      <th></th>\n",
       "      <th></th>\n",
       "      <th></th>\n",
       "      <th></th>\n",
       "      <th></th>\n",
       "      <th></th>\n",
       "    </tr>\n",
       "  </thead>\n",
       "  <tbody>\n",
       "    <tr>\n",
       "      <th>CCMSLIB00000001547</th>\n",
       "      <td>[289.286377, 295.545288, 298.489624, 317.32495...</td>\n",
       "      <td>[8068.0, 22507.0, 3925.0, 18742.0, 8604.0, 804...</td>\n",
       "      <td>[--, --, --, --, --, --, --, --, --, --, --, -...</td>\n",
       "      <td>(981.54, None)</td>\n",
       "      <td>[0+]</td>\n",
       "      <td>2</td>\n",
       "      <td>LC-ESI-qTof</td>\n",
       "      <td>130618_Ger_Jenia_WT-3-Des-MCLR_MH981.4-qb.1.1....</td>\n",
       "      <td>*..*</td>\n",
       "      <td>Positive</td>\n",
       "      <td>...</td>\n",
       "      <td>3-Des-Microcystein_LR M+H</td>\n",
       "      <td>Gerwick</td>\n",
       "      <td>Jenia</td>\n",
       "      <td>CC(C)CC1NC(=O)C(C)NC(=O)C(=C)N(C)C(=O)CCC(NC(=...</td>\n",
       "      <td>N/A</td>\n",
       "      <td>N/A</td>\n",
       "      <td>N/A</td>\n",
       "      <td>mwang87</td>\n",
       "      <td>1</td>\n",
       "      <td>1</td>\n",
       "    </tr>\n",
       "    <tr>\n",
       "      <th>CCMSLIB00000001548</th>\n",
       "      <td>[278.049927, 278.957642, 281.258667, 291.99609...</td>\n",
       "      <td>[35793.0, 47593.0, 95495.0, 115278.0, 91752.0,...</td>\n",
       "      <td>[--, --, --, --, --, --, --, --, --, --, --, -...</td>\n",
       "      <td>(940.25, None)</td>\n",
       "      <td>[0+]</td>\n",
       "      <td>2</td>\n",
       "      <td>LC-ESI-qTof</td>\n",
       "      <td>20111105_Anada_Ger_HoiamideB_MH940_qb.1.1..mgf</td>\n",
       "      <td>*..*</td>\n",
       "      <td>Positive</td>\n",
       "      <td>...</td>\n",
       "      <td>Hoiamide B M+H</td>\n",
       "      <td>Gerwick</td>\n",
       "      <td>Amanda</td>\n",
       "      <td>CCC[C@@H](C)[C@@H]([C@H](C)[C@@H]1[C@H]([C@H](...</td>\n",
       "      <td>InChI=1S/C45H73N5O10S3/c1-14-17-24(6)34(52)26(...</td>\n",
       "      <td>N/A</td>\n",
       "      <td>N/A</td>\n",
       "      <td>mwang87</td>\n",
       "      <td>1</td>\n",
       "      <td>1</td>\n",
       "    </tr>\n",
       "  </tbody>\n",
       "</table>\n",
       "<p>2 rows × 21 columns</p>\n",
       "</div>"
      ],
      "text/plain": [
       "                                                            m/z array  \\\n",
       "spectrumid                                                              \n",
       "CCMSLIB00000001547  [289.286377, 295.545288, 298.489624, 317.32495...   \n",
       "CCMSLIB00000001548  [278.049927, 278.957642, 281.258667, 291.99609...   \n",
       "\n",
       "                                                      intensity array  \\\n",
       "spectrumid                                                              \n",
       "CCMSLIB00000001547  [8068.0, 22507.0, 3925.0, 18742.0, 8604.0, 804...   \n",
       "CCMSLIB00000001548  [35793.0, 47593.0, 95495.0, 115278.0, 91752.0,...   \n",
       "\n",
       "                                                         charge array  \\\n",
       "spectrumid                                                              \n",
       "CCMSLIB00000001547  [--, --, --, --, --, --, --, --, --, --, --, -...   \n",
       "CCMSLIB00000001548  [--, --, --, --, --, --, --, --, --, --, --, -...   \n",
       "\n",
       "                           pepmass charge mslevel source_instrument  \\\n",
       "spectrumid                                                            \n",
       "CCMSLIB00000001547  (981.54, None)   [0+]       2       LC-ESI-qTof   \n",
       "CCMSLIB00000001548  (940.25, None)   [0+]       2       LC-ESI-qTof   \n",
       "\n",
       "                                                             filename   seq  \\\n",
       "spectrumid                                                                    \n",
       "CCMSLIB00000001547  130618_Ger_Jenia_WT-3-Des-MCLR_MH981.4-qb.1.1....  *..*   \n",
       "CCMSLIB00000001548     20111105_Anada_Ger_HoiamideB_MH940_qb.1.1..mgf  *..*   \n",
       "\n",
       "                     ionmode  ...                       name       pi  \\\n",
       "spectrumid                    ...                                       \n",
       "CCMSLIB00000001547  Positive  ...  3-Des-Microcystein_LR M+H  Gerwick   \n",
       "CCMSLIB00000001548  Positive  ...             Hoiamide B M+H  Gerwick   \n",
       "\n",
       "                   datacollector  \\\n",
       "spectrumid                         \n",
       "CCMSLIB00000001547         Jenia   \n",
       "CCMSLIB00000001548        Amanda   \n",
       "\n",
       "                                                               smiles  \\\n",
       "spectrumid                                                              \n",
       "CCMSLIB00000001547  CC(C)CC1NC(=O)C(C)NC(=O)C(=C)N(C)C(=O)CCC(NC(=...   \n",
       "CCMSLIB00000001548  CCC[C@@H](C)[C@@H]([C@H](C)[C@@H]1[C@H]([C@H](...   \n",
       "\n",
       "                                                                inchi  \\\n",
       "spectrumid                                                              \n",
       "CCMSLIB00000001547                                                N/A   \n",
       "CCMSLIB00000001548  InChI=1S/C45H73N5O10S3/c1-14-17-24(6)34(52)26(...   \n",
       "\n",
       "                   inchiaux pubmed submituser libraryquality scans  \n",
       "spectrumid                                                          \n",
       "CCMSLIB00000001547      N/A    N/A    mwang87              1     1  \n",
       "CCMSLIB00000001548      N/A    N/A    mwang87              1     1  \n",
       "\n",
       "[2 rows x 21 columns]"
      ]
     },
     "execution_count": 14,
     "metadata": {},
     "output_type": "execute_result"
    }
   ],
   "source": [
    "# Create wout dataframe\n",
    "wout_df = pd.DataFrame(spectra)\n",
    "wout_df = pd.concat([wout_df.drop(['params'], axis=1), wout_df['params'].apply(pd.Series)], axis=1)\n",
    "wout_df = wout_df.set_index('spectrumid')\n",
    "wout_df.head(2)"
   ]
  },
  {
   "cell_type": "code",
   "execution_count": 15,
   "metadata": {},
   "outputs": [],
   "source": [
    "# Get wout metadata\n",
    "metadata = pd.read_csv(\n",
    "    'https://zenodo.org/record/6829249/files/gnps_libraries_metadata.csv?download=1'\n",
    ")\n",
    "metadata.set_index('id', inplace=True)"
   ]
  },
  {
   "attachments": {},
   "cell_type": "markdown",
   "metadata": {},
   "source": [
    "# Get library for each query spectra"
   ]
  },
  {
   "cell_type": "code",
   "execution_count": 42,
   "metadata": {},
   "outputs": [],
   "source": [
    "# Remove any query spectra that came from the NIST library\n",
    "queries['wout_library'] = list(metadata.loc[queries['wout_identifier'],'library'])\n",
    "queries = queries[queries['wout_library'] != 'GNPS-NIST14-MATCHES']"
   ]
  },
  {
   "attachments": {},
   "cell_type": "markdown",
   "metadata": {},
   "source": [
    "# Get smiles"
   ]
  },
  {
   "cell_type": "code",
   "execution_count": 43,
   "metadata": {},
   "outputs": [
    {
     "name": "stderr",
     "output_type": "stream",
     "text": [
      "  0%|          | 0/567631 [00:00<?, ?it/s]"
     ]
    },
    {
     "name": "stderr",
     "output_type": "stream",
     "text": [
      "100%|██████████| 567631/567631 [00:04<00:00, 132433.70it/s]\n",
      "100%|██████████| 495600/495600 [00:03<00:00, 126625.74it/s]\n"
     ]
    }
   ],
   "source": [
    "# Get nist smiles dict\n",
    "nist_smiles_dict = {}\n",
    "for index in tqdm(nist_df.index.values):\n",
    "    nist_smiles_dict[index] = nist_df.loc[index,'smiles']\n",
    "\n",
    "# Get wout smiles dict\n",
    "wout_smiles_dict = {}\n",
    "for current_id in tqdm(wout_df.index.values):\n",
    "    wout_smiles_dict[current_id] = wout_df.loc[current_id,'smiles']"
   ]
  },
  {
   "cell_type": "code",
   "execution_count": 44,
   "metadata": {},
   "outputs": [
    {
     "name": "stderr",
     "output_type": "stream",
     "text": [
      "100%|██████████| 27430/27430 [00:02<00:00, 13670.67it/s]\n"
     ]
    }
   ],
   "source": [
    "# Get wout smiles for unweighted queries\n",
    "for i in tqdm(queries.index.values):\n",
    "    wout_id = queries.loc[i, 'wout_identifier']\n",
    "    queries.loc[i, 'wout_smiles'] = wout_smiles_dict[wout_id]"
   ]
  },
  {
   "attachments": {},
   "cell_type": "markdown",
   "metadata": {},
   "source": [
    "# Get inchikeys"
   ]
  },
  {
   "cell_type": "code",
   "execution_count": 45,
   "metadata": {},
   "outputs": [
    {
     "name": "stderr",
     "output_type": "stream",
     "text": [
      "100%|██████████| 27430/27430 [04:48<00:00, 94.99it/s] \n"
     ]
    }
   ],
   "source": [
    "# Get NIST23 partial inchikeys\n",
    "inchi_dict = {}\n",
    "for i in tqdm(queries.index.values):\n",
    "    inchi_list = []\n",
    "    for pair in queries.loc[i, 'library_spectra_matches']:\n",
    "        index = int(pair[0].split('_')[0])\n",
    "        inchi_list.append(nist_df.loc[int(pair[0].split('_')[0]),'inchikey'][:14])\n",
    "    inchi_dict[i] = inchi_list\n",
    "queries['nist_inchis'] = queries.index.map(inchi_dict)"
   ]
  },
  {
   "cell_type": "code",
   "execution_count": 46,
   "metadata": {},
   "outputs": [
    {
     "name": "stderr",
     "output_type": "stream",
     "text": [
      "100%|██████████| 27430/27430 [00:20<00:00, 1307.53it/s]\n"
     ]
    }
   ],
   "source": [
    "# Get wout partial inchikeys for queries\n",
    "for i in tqdm(queries.index.values):\n",
    "    inchi = smile2inchi(queries.loc[i, 'wout_smiles'])\n",
    "    queries.loc[i, 'wout_inchi'] = inchi[:14]"
   ]
  },
  {
   "attachments": {},
   "cell_type": "markdown",
   "metadata": {},
   "source": [
    "# Get number of exact matches and ranks"
   ]
  },
  {
   "cell_type": "code",
   "execution_count": 47,
   "metadata": {},
   "outputs": [
    {
     "name": "stderr",
     "output_type": "stream",
     "text": [
      "  0%|          | 0/27430 [00:00<?, ?it/s]/tmp/ipykernel_756874/2414298623.py:4: FutureWarning: elementwise comparison failed; returning scalar instead, but in the future will perform elementwise comparison\n",
      "  exact_matches = np.where(np.array(list(queries.loc[i, 'nist_inchis'])) == queries.loc[i, 'wout_inchi'])[0]\n",
      "100%|██████████| 27430/27430 [00:04<00:00, 5512.59it/s]\n"
     ]
    }
   ],
   "source": [
    "# Get indexes of exact matches for queries\n",
    "all_matches = {}\n",
    "for i in tqdm(queries.index.values):\n",
    "    exact_matches = np.where(np.array(list(queries.loc[i, 'nist_inchis'])) == queries.loc[i, 'wout_inchi'])[0]\n",
    "    all_matches[i] = exact_matches\n",
    "queries['exact_matches'] = queries.index.map(all_matches)\n",
    "\n",
    "\n"
   ]
  },
  {
   "cell_type": "markdown",
   "metadata": {},
   "source": [
    "# Non-exact match retrival"
   ]
  },
  {
   "cell_type": "code",
   "execution_count": 48,
   "metadata": {},
   "outputs": [],
   "source": [
    "from rdkit import Chem, DataStructs\n",
    "import functools\n",
    "\n",
    "@functools.lru_cache\n",
    "def _smiles_to_mol(smiles):\n",
    "    try:\n",
    "        return Chem.MolFromSmiles(smiles)\n",
    "    except:\n",
    "        return None\n",
    "@functools.lru_cache\n",
    "def tanimoto(smiles1, smiles2):\n",
    "    mol1, mol2 = _smiles_to_mol(smiles1), _smiles_to_mol(smiles2)\n",
    "    if mol1 is None or mol2 is None:\n",
    "        return np.nan\n",
    "    fp1, fp2 = Chem.RDKFingerprint(mol1), Chem.RDKFingerprint(mol2)\n",
    "    return DataStructs.TanimotoSimilarity(fp1, fp2)"
   ]
  },
  {
   "cell_type": "code",
   "execution_count": 49,
   "metadata": {},
   "outputs": [
    {
     "name": "stderr",
     "output_type": "stream",
     "text": [
      "100%|██████████| 27430/27430 [01:21<00:00, 338.34it/s]\n"
     ]
    }
   ],
   "source": [
    "# Get NIST23 smiles for queries\n",
    "all_smiles_dict = {}\n",
    "for i in tqdm(queries.index.values):\n",
    "    current_matches = queries.loc[i, 'library_spectra_matches']\n",
    "    if len(current_matches) == 0:\n",
    "        all_smiles_dict[i] = []\n",
    "    else:\n",
    "        nist_indexes = [int(x.split('_')[0]) for x in np.array(queries.loc[i, 'library_spectra_matches'])[:,0]]\n",
    "        smiles_list = nist_df.loc[nist_indexes, 'smiles'].values\n",
    "        all_smiles_dict[i] = smiles_list\n",
    "queries[f'smiles'] = queries.index.map(all_smiles_dict)"
   ]
  },
  {
   "cell_type": "code",
   "execution_count": 50,
   "metadata": {},
   "outputs": [
    {
     "name": "stderr",
     "output_type": "stream",
     "text": [
      "  0%|          | 0/27430 [00:00<?, ?it/s]"
     ]
    },
    {
     "name": "stderr",
     "output_type": "stream",
     "text": [
      "  0%|          | 44/27430 [00:59<5:15:17,  1.45it/s] [17:04:41] Explicit valence for atom # 11 O, 3, is greater than permitted\n",
      "  0%|          | 50/27430 [01:29<13:32:17,  1.78s/it]\n"
     ]
    },
    {
     "ename": "KeyboardInterrupt",
     "evalue": "",
     "output_type": "error",
     "traceback": [
      "\u001b[0;31m---------------------------------------------------------------------------\u001b[0m",
      "\u001b[0;31mKeyboardInterrupt\u001b[0m                         Traceback (most recent call last)",
      "Cell \u001b[0;32mIn[50], line 10\u001b[0m\n\u001b[1;32m      8\u001b[0m \u001b[39mif\u001b[39;00m \u001b[39mlen\u001b[39m(queries\u001b[39m.\u001b[39mloc[i, \u001b[39mf\u001b[39m\u001b[39m'\u001b[39m\u001b[39msmiles\u001b[39m\u001b[39m'\u001b[39m]) \u001b[39m!=\u001b[39m \u001b[39m0\u001b[39m:\n\u001b[1;32m      9\u001b[0m     \u001b[39mfor\u001b[39;00m library_smiles \u001b[39min\u001b[39;00m queries\u001b[39m.\u001b[39mloc[i, \u001b[39mf\u001b[39m\u001b[39m'\u001b[39m\u001b[39msmiles\u001b[39m\u001b[39m'\u001b[39m]:\n\u001b[0;32m---> 10\u001b[0m         tanimotos\u001b[39m.\u001b[39mappend(tanimoto(query_smiles, library_smiles))\n\u001b[1;32m     11\u001b[0m     all_tanimotos[i] \u001b[39m=\u001b[39m [x \u001b[39mfor\u001b[39;00m x \u001b[39min\u001b[39;00m tanimotos \u001b[39mif\u001b[39;00m \u001b[39mnot\u001b[39;00m pd\u001b[39m.\u001b[39misna(x)]\n\u001b[1;32m     12\u001b[0m \u001b[39melse\u001b[39;00m:\n",
      "Cell \u001b[0;32mIn[48], line 15\u001b[0m, in \u001b[0;36mtanimoto\u001b[0;34m(smiles1, smiles2)\u001b[0m\n\u001b[1;32m     13\u001b[0m \u001b[39mif\u001b[39;00m mol1 \u001b[39mis\u001b[39;00m \u001b[39mNone\u001b[39;00m \u001b[39mor\u001b[39;00m mol2 \u001b[39mis\u001b[39;00m \u001b[39mNone\u001b[39;00m:\n\u001b[1;32m     14\u001b[0m     \u001b[39mreturn\u001b[39;00m np\u001b[39m.\u001b[39mnan\n\u001b[0;32m---> 15\u001b[0m fp1, fp2 \u001b[39m=\u001b[39m Chem\u001b[39m.\u001b[39mRDKFingerprint(mol1), Chem\u001b[39m.\u001b[39;49mRDKFingerprint(mol2)\n\u001b[1;32m     16\u001b[0m \u001b[39mreturn\u001b[39;00m DataStructs\u001b[39m.\u001b[39mTanimotoSimilarity(fp1, fp2)\n",
      "\u001b[0;31mKeyboardInterrupt\u001b[0m: "
     ]
    }
   ],
   "source": [
    "# Get dictionary of tanimoto scores\n",
    "all_tanimotos = {}\n",
    "\n",
    "# Get tanimoto scores for queries\n",
    "for i in tqdm(queries.index.values):\n",
    "    tanimotos = []\n",
    "    query_smiles = queries.loc[i, 'wout_smiles']\n",
    "    if len(queries.loc[i, f'smiles']) != 0:\n",
    "        for library_smiles in queries.loc[i, f'smiles']:\n",
    "            tanimotos.append(tanimoto(query_smiles, library_smiles))\n",
    "        all_tanimotos[i] = [x for x in tanimotos if not pd.isna(x)]\n",
    "    else:\n",
    "        all_tanimotos[i] = []\n",
    "queries[f'tanimoto'] = queries.index.map(all_tanimotos)"
   ]
  },
  {
   "attachments": {},
   "cell_type": "markdown",
   "metadata": {},
   "source": [
    "# Get AUC scores"
   ]
  },
  {
   "cell_type": "code",
   "execution_count": null,
   "metadata": {},
   "outputs": [
    {
     "name": "stderr",
     "output_type": "stream",
     "text": [
      "100%|██████████| 25437/25437 [00:12<00:00, 1999.74it/s]\n"
     ]
    }
   ],
   "source": [
    "from sklearn.metrics import roc_curve, auc\n",
    "\n",
    "no_matches = 0\n",
    "\n",
    "# Get AUC scores for queries\n",
    "for index in tqdm(queries.index.values):\n",
    "    if len(np.array(list(queries.loc[index,'library_spectra_matches']))) != 0:\n",
    "        prob = np.array(list(queries.loc[index,'library_spectra_matches']))[:,1].astype('float')\n",
    "        y_true = np.zeros(len(prob))\n",
    "        y_true[queries.loc[index,f'exact_matches']] = 1\n",
    "\n",
    "        # check if there arent any 1.0s in y_true\n",
    "        if np.sum(y_true) == 0:\n",
    "            queries.loc[index, f'auc'] = 0\n",
    "        # check if all values are 1.0\n",
    "        elif np.sum(y_true) == len(y_true):\n",
    "            queries.loc[index, f'auc'] = 1\n",
    "        else:\n",
    "            fpr, tpr, thresholds = roc_curve(y_true, prob)\n",
    "            queries.loc[index, f'auc'] = auc(fpr, tpr)\n",
    "    else:\n",
    "        no_matches += 1\n",
    "        queries.loc[index, f'auc'] = np.nan\n",
    "\n"
   ]
  },
  {
   "cell_type": "code",
   "execution_count": null,
   "metadata": {},
   "outputs": [],
   "source": [
    "queries.to_csv(f'{QUERY_PATH}{FILE}_with_stats.csv')\n",
    "queries.to_csv(f'{QUERY_DIR}{FILE}_with_stats.csv')"
   ]
  },
  {
   "cell_type": "code",
   "execution_count": null,
   "metadata": {},
   "outputs": [],
   "source": []
  }
 ],
 "metadata": {
  "kernelspec": {
   "display_name": ".venv",
   "language": "python",
   "name": "python3"
  },
  "language_info": {
   "codemirror_mode": {
    "name": "ipython",
    "version": 3
   },
   "file_extension": ".py",
   "mimetype": "text/x-python",
   "name": "python",
   "nbconvert_exporter": "python",
   "pygments_lexer": "ipython3",
   "version": "3.9.16"
  },
  "orig_nbformat": 4
 },
 "nbformat": 4,
 "nbformat_minor": 2
}
