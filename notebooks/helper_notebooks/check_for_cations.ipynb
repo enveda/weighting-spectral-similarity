{
 "cells": [
  {
   "cell_type": "code",
   "execution_count": 2,
   "metadata": {},
   "outputs": [],
   "source": [
    "import pandas as pd\n",
    "from ms_entropy.file_io.msp_file import read_one_spectrum\n",
    "from tqdm import tqdm\n",
    "import numba as nb\n",
    "import numpy as np\n",
    "\n",
    "import pyteomics.mgf"
   ]
  },
  {
   "cell_type": "markdown",
   "metadata": {},
   "source": [
    "# Get NIST data"
   ]
  },
  {
   "cell_type": "code",
   "execution_count": 3,
   "metadata": {},
   "outputs": [
    {
     "name": "stderr",
     "output_type": "stream",
     "text": [
      "0it [00:00, ?it/s]"
     ]
    },
    {
     "name": "stderr",
     "output_type": "stream",
     "text": [
      "1934658it [03:22, 9567.44it/s] \n"
     ]
    }
   ],
   "source": [
    "# Get NIST23 library\n",
    "# Get data from s3://enveda-data-user/chloe.engler/cosine_similarity/NIST_data/NIST23-HR-MSMS.MSP\n",
    "spectra_list = []\n",
    "for i,spectrum in tqdm(enumerate(read_one_spectrum('../../data/NIST23-HR-MSMS.MSP'))):\n",
    "    spectra_list.append(spectrum)"
   ]
  },
  {
   "cell_type": "code",
   "execution_count": 4,
   "metadata": {},
   "outputs": [],
   "source": [
    "# Create NIST dataframe\n",
    "nist_df = pd.DataFrame(spectra_list)\n",
    "nist_df = nist_df[nist_df['precursor_type'] == '[M+H]+' ]"
   ]
  },
  {
   "cell_type": "code",
   "execution_count": 5,
   "metadata": {},
   "outputs": [
    {
     "name": "stdout",
     "output_type": "stream",
     "text": [
      "Num Cations:  0\n"
     ]
    }
   ],
   "source": [
    "print('Num Cations: ', len(nist_df.loc[nist_df.formula.apply(lambda x: '+' in x)]))"
   ]
  },
  {
   "cell_type": "markdown",
   "metadata": {},
   "source": [
    "# Get wout data"
   ]
  },
  {
   "cell_type": "code",
   "execution_count": 6,
   "metadata": {},
   "outputs": [],
   "source": [
    "# Get filtered wout data with ppm \n",
    "# Get data from \n",
    "wout_ppm = pd.read_csv('s3://enveda-data-user/chloe.engler/cosine_similarity/Wout_data/wout_ppm_corrected.csv')\n",
    "wout_ppm.set_index('spectrumid', inplace=True)"
   ]
  },
  {
   "cell_type": "code",
   "execution_count": 7,
   "metadata": {},
   "outputs": [
    {
     "name": "stdout",
     "output_type": "stream",
     "text": [
      "Num Cations:  0\n"
     ]
    }
   ],
   "source": [
    "print('Num Cations: ', len(wout_ppm.loc[wout_ppm.formula.apply(lambda x: '+' in x)]))"
   ]
  },
  {
   "cell_type": "code",
   "execution_count": null,
   "metadata": {},
   "outputs": [],
   "source": []
  }
 ],
 "metadata": {
  "kernelspec": {
   "display_name": "ms-similarity-metrics-QwKkXoqv-py3.9",
   "language": "python",
   "name": "python3"
  },
  "language_info": {
   "codemirror_mode": {
    "name": "ipython",
    "version": 3
   },
   "file_extension": ".py",
   "mimetype": "text/x-python",
   "name": "python",
   "nbconvert_exporter": "python",
   "pygments_lexer": "ipython3",
   "version": "3.9.16"
  },
  "orig_nbformat": 4
 },
 "nbformat": 4,
 "nbformat_minor": 2
}
