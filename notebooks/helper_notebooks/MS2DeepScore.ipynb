{
 "cells": [
  {
   "cell_type": "code",
   "execution_count": 1,
   "metadata": {},
   "outputs": [
    {
     "name": "stderr",
     "output_type": "stream",
     "text": [
      "2023-08-01 22:44:54.411673: I tensorflow/core/util/port.cc:110] oneDNN custom operations are on. You may see slightly different numerical results due to floating-point round-off errors from different computation orders. To turn them off, set the environment variable `TF_ENABLE_ONEDNN_OPTS=0`.\n",
      "2023-08-01 22:44:54.479960: I tensorflow/tsl/cuda/cudart_stub.cc:28] Could not find cuda drivers on your machine, GPU will not be used.\n",
      "2023-08-01 22:44:54.958016: I tensorflow/tsl/cuda/cudart_stub.cc:28] Could not find cuda drivers on your machine, GPU will not be used.\n",
      "2023-08-01 22:44:54.961069: I tensorflow/core/platform/cpu_feature_guard.cc:182] This TensorFlow binary is optimized to use available CPU instructions in performance-critical operations.\n",
      "To enable the following instructions: AVX2 AVX512F AVX512_VNNI FMA, in other operations, rebuild TensorFlow with the appropriate compiler flags.\n",
      "2023-08-01 22:44:56.505663: W tensorflow/compiler/tf2tensorrt/utils/py_utils.cc:38] TF-TRT Warning: Could not find TensorRT\n"
     ]
    }
   ],
   "source": [
    "from matchms import calculate_scores\n",
    "from matchms.importing import load_from_msp, load_from_mgf\n",
    "from ms2deepscore import MS2DeepScore\n",
    "from ms2deepscore.models import load_model"
   ]
  },
  {
   "cell_type": "code",
   "execution_count": 4,
   "metadata": {},
   "outputs": [],
   "source": [
    "# Import data\n",
    "# these are just examples (we need mgf files for the nist23 data and the wout data \n",
    "# (and they need to be filtered (with wout filters, inchikeys, etc.)))\n",
    "# Get data from s3://enveda-data-user/chloe.engler/cosine_similarity/MS2DeepScore/slide_15_better_with_weights.mgf\n",
    "references = list(load_from_mgf(\"../../data/slide_15_better_with_weights.mgf\"))\n",
    "queries = references.copy()"
   ]
  },
  {
   "cell_type": "code",
   "execution_count": 6,
   "metadata": {},
   "outputs": [],
   "source": [
    "\n",
    "# Load pretrained models\n",
    "# Get data from s3://enveda-data-user/chloe.engler/cosine_similarity/MS2DeepScore/MS2DeepScore_allGNPSpositive_10k_500_500_200.hdf5\n",
    "model = load_model(\"../../data/MS2DeepScore_allGNPSpositive_10k_500_500_200.hdf5\")\n"
   ]
  },
  {
   "cell_type": "code",
   "execution_count": 7,
   "metadata": {},
   "outputs": [
    {
     "name": "stderr",
     "output_type": "stream",
     "text": [
      "Spectrum binning: 100%|██████████| 10/10 [00:00<00:00, 1428.97it/s]\n",
      "Create BinnedSpectrum instances: 100%|██████████| 10/10 [00:00<00:00, 7485.82it/s]\n",
      "Calculating vectors of reference spectrums: 100%|██████████| 10/10 [00:00<00:00, 14.21it/s]\n",
      "Spectrum binning: 100%|██████████| 10/10 [00:00<00:00, 1617.42it/s]\n",
      "Create BinnedSpectrum instances: 100%|██████████| 10/10 [00:00<00:00, 7804.81it/s]\n",
      "Calculating vectors of reference spectrums: 100%|██████████| 10/10 [00:00<00:00, 22.63it/s]\n"
     ]
    }
   ],
   "source": [
    "\n",
    "# Calculate scores and get matchms.Scores object\n",
    "similarity_measure = MS2DeepScore(model)\n",
    "scores = calculate_scores(references, queries, similarity_measure)"
   ]
  },
  {
   "cell_type": "code",
   "execution_count": 12,
   "metadata": {},
   "outputs": [
    {
     "name": "stdout",
     "output_type": "stream",
     "text": [
      "[[1.         0.9955222  0.76344508 0.72001854 0.26737041 0.23318813\n",
      "  0.27018075 0.20940814 0.23112053 0.22983951]\n",
      " [0.9955222  1.         0.77561389 0.73183364 0.26702922 0.24857881\n",
      "  0.26819956 0.22460427 0.23644712 0.22735269]\n",
      " [0.76344508 0.77561389 1.         0.93275947 0.28800794 0.24696007\n",
      "  0.27658683 0.23049174 0.23510843 0.25773264]\n",
      " [0.72001854 0.73183364 0.93275947 1.         0.33497914 0.29690581\n",
      "  0.31619947 0.27260817 0.26798662 0.28862744]\n",
      " [0.26737041 0.26702922 0.28800794 0.33497914 1.         0.36759176\n",
      "  0.89582023 0.32663058 0.82079    0.91744935]\n",
      " [0.23318813 0.24857881 0.24696007 0.29690581 0.36759176 1.\n",
      "  0.30095428 0.93834174 0.33663436 0.29851947]\n",
      " [0.27018075 0.26819956 0.27658683 0.31619947 0.89582023 0.30095428\n",
      "  1.         0.27454705 0.76376387 0.9063869 ]\n",
      " [0.20940814 0.22460427 0.23049174 0.27260817 0.32663058 0.93834174\n",
      "  0.27454705 1.         0.30998761 0.26758027]\n",
      " [0.23112053 0.23644712 0.23510843 0.26798662 0.82079    0.33663436\n",
      "  0.76376387 0.30998761 1.         0.76000506]\n",
      " [0.22983951 0.22735269 0.25773264 0.28862744 0.91744935 0.29851947\n",
      "  0.9063869  0.26758027 0.76000506 1.        ]]\n"
     ]
    }
   ],
   "source": [
    "print(scores.to_array())"
   ]
  },
  {
   "cell_type": "code",
   "execution_count": null,
   "metadata": {},
   "outputs": [],
   "source": []
  }
 ],
 "metadata": {
  "kernelspec": {
   "display_name": "ms-similarity-metrics-QwKkXoqv-py3.9",
   "language": "python",
   "name": "python3"
  },
  "language_info": {
   "codemirror_mode": {
    "name": "ipython",
    "version": 3
   },
   "file_extension": ".py",
   "mimetype": "text/x-python",
   "name": "python",
   "nbconvert_exporter": "python",
   "pygments_lexer": "ipython3",
   "version": "3.9.16"
  },
  "orig_nbformat": 4
 },
 "nbformat": 4,
 "nbformat_minor": 2
}
