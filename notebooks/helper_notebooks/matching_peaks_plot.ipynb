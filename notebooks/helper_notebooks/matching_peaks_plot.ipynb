{
 "cells": [
  {
   "cell_type": "code",
   "execution_count": 1,
   "metadata": {},
   "outputs": [],
   "source": [
    "from molmass import Formula\n",
    "import numba as nb\n",
    "import numpy as np\n",
    "import pyteomics.mgf\n",
    "from tqdm import tqdm\n",
    "import pandas as pd\n",
    "\n",
    "from rdkit import Chem\n",
    "from rdkit.Chem.rdMolDescriptors import CalcMolFormula\n",
    "\n",
    "# Remove\n",
    "import sys \n",
    "import importlib\n",
    "from itertools import combinations\n",
    "\n",
    "sys.path.append(\"../src/\")\n",
    "from ms_similarity_metrics import frequency\n",
    "from ms_similarity_metrics import similarity_weighted as similarity\n",
    "importlib.reload(frequency)\n",
    "importlib.reload(similarity)\n",
    "\n",
    "import spectrum_utils.plot as sup\n",
    "import spectrum_utils.spectrum as sus"
   ]
  },
  {
   "cell_type": "markdown",
   "metadata": {},
   "source": [
    "# Get Wout data"
   ]
  },
  {
   "cell_type": "code",
   "execution_count": 2,
   "metadata": {},
   "outputs": [],
   "source": [
    "# Profile spectra contain 0 intensity values.\n",
    "@nb.njit\n",
    "def is_centroid(intensity_array):\n",
    "    return np.all(intensity_array > 0)"
   ]
  },
  {
   "cell_type": "code",
   "execution_count": 2,
   "metadata": {},
   "outputs": [
    {
     "name": "stderr",
     "output_type": "stream",
     "text": [
      "10it [00:00, 482.09it/s]\n"
     ]
    }
   ],
   "source": [
    "# Read all spectra from the MGF.\n",
    "spectra = []\n",
    "\n",
    "# Download from https://zenodo.org/record/6829249/files/ALL_GNPS_NO_PROPOGATED.mgf?download=1\n",
    "filename = (\"/Users/danieldomingo/Downloads/slide_15_better_with_weights.mgf\")\n",
    "\n",
    "# Get wout spectra\n",
    "with pyteomics.mgf.MGF(filename) as f_in:\n",
    "    for spectrum_dict in tqdm(f_in):\n",
    "        spectra.append(spectrum_dict)"
   ]
  },
  {
   "cell_type": "code",
   "execution_count": 18,
   "metadata": {},
   "outputs": [],
   "source": [
    "def prepare_spectrum(spectrum):\n",
    "\n",
    "    spec = sus.MsmsSpectrum(\n",
    "        spectrum[\"params\"][\"spectrumid\"],\n",
    "        float(spectrum[\"params\"][\"pepmass\"][0]),\n",
    "        # Re-assign charge 0 to 1.\n",
    "        max(int(spectrum[\"params\"][\"charge\"][0]), 1),\n",
    "        spectrum[\"m/z array\"],\n",
    "        spectrum[\"intensity array\"] / spectrum[\"intensity array\"].sum(),\n",
    "    )\n",
    "    spec.library = spectrum[\"params\"][\"organism\"]\n",
    "    spec.inchi = spectrum[\"params\"][\"inchi\"]\n",
    "    spec.smiles = spectrum[\"params\"][\"smiles\"]\n",
    "    # spec.remove_precursor_peak(0.1, \"Da\")\n",
    "    # spec.filter_intensity(0.01)\n",
    "    return spec"
   ]
  },
  {
   "cell_type": "code",
   "execution_count": 19,
   "metadata": {},
   "outputs": [
    {
     "name": "stdout",
     "output_type": "stream",
     "text": [
      "0.9925367876183069 0.09328507743191783\n",
      "0.06930093637545554 0.004128863280617678\n",
      "0.05190528753337276 0.003947580907291415\n",
      "0.022551410388302884 0.0021886183709192153\n",
      "0.004333320557179832 0.0009008675452548687\n",
      "0.03414350365254393 0.0025242168174699486\n",
      "0.001142886554589495 0.00023388383306155447\n",
      "0.04687660991078246 0.003965099165824881\n",
      "0.01791026283649444 0.002015984268624038\n",
      "0.08073137461951863 0.0042748870518673765\n",
      "0.060088586780916664 0.00406891526545658\n",
      "0.025316239210596336 0.0021834345893818607\n",
      "0.003263920172997814 0.0006030097204643425\n",
      "0.03851256345343046 0.00253026291962799\n",
      "0.0008700867974766879 0.0001582356529183926\n",
      "0.05185200941673429 0.0038976971996973475\n",
      "0.02074579066379556 0.0020751994067111923\n",
      "0.9723601388428698 0.04188305236593179\n",
      "0.04302859079732002 0.002357008314650244\n",
      "0.009073302514281067 0.001064665451471214\n",
      "0.10133544402552275 0.004228512276561958\n",
      "0.0008790453102847096 0.00010153505718335509\n",
      "0.0930049175646559 0.00444029081957531\n",
      "0.06635175674080074 0.004215462718995866\n",
      "0.030221207502194147 0.0021163662872503153\n",
      "0.010701221904355407 0.0016052831819983737\n",
      "0.06704723281807645 0.003576696777287225\n",
      "0.0013020045867051522 0.000192261494532886\n",
      "0.06821735753521807 0.004163661738392221\n",
      "0.04586391255219269 0.003725108748657391\n",
      "0.031624266239987264 0.006033036830501715\n",
      "0.3294947733140816 0.022288915218020122\n",
      "0.006573646307515446 0.0012344651158855413\n",
      "0.11649093316464132 0.008996349140801385\n",
      "0.2748713721111926 0.028327800449005736\n",
      "0.05796142019960371 0.008423193411317698\n",
      "0.023438111071300227 0.009428419361938722\n",
      "0.011702539275574964 0.001945795314213683\n",
      "0.015009689070211607 0.003321055051856092\n",
      "0.009772827121196315 0.0013980250550957862\n",
      "0.18357456778494452 0.01080161739608343\n",
      "0.8494838176338817 0.06681232178760865\n",
      "0.0033640337642282248 0.0005505976732820272\n",
      "0.0008784716483205557 0.0001913326486828737\n",
      "0.11814207418865408 0.010530621507086835\n"
     ]
    }
   ],
   "source": [
    "# iterate over all combinations of spectra\n",
    "for spec1, spec2 in combinations(spectra, 2):\n",
    "\n",
    "    spec1 = prepare_spectrum(spec1)\n",
    "    spec2 = prepare_spectrum(spec2)\n",
    "\n",
    "    score1 = similarity.modified_cosine(\n",
    "        spectrum1=spec1,\n",
    "        spectrum2=spec2,\n",
    "        fragment_mz_tolerance=0.1,\n",
    "    )\n",
    "\n",
    "    score2 = cosine(\n",
    "        spec=spec1,\n",
    "        spec_other=spec2,\n",
    "        fragment_mz_tolerance=0.1,\n",
    "        allow_shift=True,\n",
    "    )\n",
    "\n",
    "    print(score1.score, score2[0])"
   ]
  },
  {
   "cell_type": "code",
   "execution_count": 20,
   "metadata": {},
   "outputs": [
    {
     "data": {
      "text/plain": [
       "array([0.00256679, 0.00190163, 0.00326252, 0.00930169, 0.00529017,\n",
       "       0.00310903, 0.02056985, 0.00110793, 0.00868265, 0.01664406,\n",
       "       0.02674256, 0.00205296, 0.02276764, 0.00409858, 0.00166966,\n",
       "       0.0020874 , 0.00196534, 0.01518294, 0.05482521, 0.0115183 ,\n",
       "       0.01145045, 0.00781291, 0.00291442, 0.00869065, 0.01850005,\n",
       "       0.01644069, 0.00246901, 0.00695596, 0.00813203, 0.0021401 ,\n",
       "       0.03587467, 0.01602897, 0.0044639 , 0.00850535, 0.00168829,\n",
       "       0.00093552, 0.0010988 , 0.00317952, 0.0078561 , 0.00821315,\n",
       "       0.00535105, 0.00126274, 0.01645377, 0.23867196, 0.0024149 ,\n",
       "       0.00534588, 0.00502704, 0.00807848, 0.00855382, 0.00270597,\n",
       "       0.00638435, 0.00211253, 0.00168199, 0.00389474, 0.00745257,\n",
       "       0.00516303, 0.00401623, 0.0011228 , 0.00770224, 0.00470745,\n",
       "       0.00642746, 0.00340133, 0.00571083, 0.00148483, 0.00604425,\n",
       "       0.00600068, 0.00164707, 0.00138319, 0.00341328, 0.00228729,\n",
       "       0.00183275, 0.00347737, 0.00124768, 0.00516604, 0.00441506,\n",
       "       0.002953  , 0.00456648, 0.00232888, 0.00104968, 0.00440998,\n",
       "       0.00433968, 0.0053088 , 0.00658471, 0.0047002 , 0.00323344,\n",
       "       0.0018111 , 0.00147627, 0.00306537, 0.00353892, 0.01122327,\n",
       "       0.00220918, 0.0034689 , 0.01365708, 0.00380976, 0.0021306 ,\n",
       "       0.00415532, 0.00202482, 0.00181167, 0.00231147, 0.00243663,\n",
       "       0.00347982, 0.00194887, 0.00609639, 0.00436622, 0.00314884,\n",
       "       0.00166194, 0.0119048 , 0.00610683, 0.00198492, 0.00256933,\n",
       "       0.00955079, 0.00372534, 0.00097834, 0.00325462, 0.00149725,\n",
       "       0.00906765, 0.00867795, 0.00169968, 0.00344773, 0.0026783 ,\n",
       "       0.00284365, 0.0099978 , 0.00223468, 0.00505988, 0.0017473 ,\n",
       "       0.00158807, 0.00227091, 0.00226574, 0.00480109], dtype=float32)"
      ]
     },
     "execution_count": 20,
     "metadata": {},
     "output_type": "execute_result"
    }
   ],
   "source": [
    "spec1.intensity"
   ]
  },
  {
   "cell_type": "code",
   "execution_count": 21,
   "metadata": {},
   "outputs": [
    {
     "data": {
      "text/plain": [
       "1.0"
      ]
     },
     "execution_count": 21,
     "metadata": {},
     "output_type": "execute_result"
    }
   ],
   "source": [
    "spec1.intensity.sum()"
   ]
  },
  {
   "cell_type": "code",
   "execution_count": 14,
   "metadata": {},
   "outputs": [
    {
     "data": {
      "text/plain": [
       "0.735365267843008"
      ]
     },
     "execution_count": 14,
     "metadata": {},
     "output_type": "execute_result"
    }
   ],
   "source": [
    "sum(spec2.intensity)"
   ]
  },
  {
   "cell_type": "code",
   "execution_count": 20,
   "metadata": {},
   "outputs": [],
   "source": [
    "assert score.matched_indices.size == score.matched_indices_other.size, 'same size'"
   ]
  },
  {
   "cell_type": "code",
   "execution_count": 21,
   "metadata": {},
   "outputs": [
    {
     "data": {
      "text/plain": [
       "array([ 81.070053,  83.049316,  85.06501 ,  95.08564 ,  97.064796,\n",
       "       107.085472, 109.064697, 109.101196, 119.085533, 121.064789,\n",
       "       121.100922, 123.080368, 131.085617, 133.101257, 135.080246,\n",
       "       135.116577, 137.096161, 143.085587, 145.101044, 147.080261,\n",
       "       147.116653, 149.096176, 157.101044, 159.116928, 161.096146,\n",
       "       163.111725, 171.116653, 173.095673, 173.132431, 175.111771,\n",
       "       177.127274, 183.116776, 185.132431, 187.112076, 187.147705,\n",
       "       189.126984, 195.116791, 197.132507, 199.112732, 199.14769 ,\n",
       "       201.127197, 211.147736, 213.127609, 213.163849, 215.179993,\n",
       "       217.158112, 225.127151, 225.163437, 227.143402, 229.158646,\n",
       "       231.174133, 237.16362 , 239.142685, 243.173477, 251.179077,\n",
       "       253.159958, 253.19458 , 255.173889, 267.17392 , 267.21051 ,\n",
       "       269.189392, 271.205475, 285.185516, 295.205261, 313.215729])"
      ]
     },
     "execution_count": 21,
     "metadata": {},
     "output_type": "execute_result"
    }
   ],
   "source": [
    "spec1.mz[score.matched_indices]"
   ]
  },
  {
   "cell_type": "code",
   "execution_count": 22,
   "metadata": {},
   "outputs": [
    {
     "data": {
      "text/plain": [
       "array([ 81.070099,  83.049316,  85.064957,  95.085587,  97.064796,\n",
       "        79.054443, 109.101143, 109.064796,  91.054222,  93.069931,\n",
       "       121.064781, 123.080353, 131.08551 , 105.069817, 135.116516,\n",
       "       107.085442, 137.096039, 143.08548 , 145.101074, 147.116669,\n",
       "       119.085457, 121.101089, 157.10112 , 159.116699, 133.101135,\n",
       "       135.080368, 171.116638, 173.096298, 173.132339, 175.111664,\n",
       "       177.127228, 155.085312, 185.095703, 187.111618, 159.080353,\n",
       "       161.096054, 195.116745, 169.101212, 199.111389, 199.147522,\n",
       "       201.12793 , 183.116455, 213.163651, 185.132431, 187.147858,\n",
       "       189.127319, 225.126831, 197.132187, 227.143204, 201.163681,\n",
       "       203.142624, 209.132385, 211.147552, 215.142578, 251.178864,\n",
       "       253.158707, 225.163544, 227.179092, 267.173889, 239.178101,\n",
       "       269.18924 , 243.174301, 257.153595, 267.210083, 285.220673])"
      ]
     },
     "execution_count": 22,
     "metadata": {},
     "output_type": "execute_result"
    }
   ],
   "source": [
    "spec2.mz[score.matched_indices_other]"
   ]
  },
  {
   "cell_type": "code",
   "execution_count": 33,
   "metadata": {},
   "outputs": [],
   "source": [
    "spec1_aligned = sus.MsmsSpectrum(\n",
    "    identifier=spec1.identifier,\n",
    "    precursor_mz=spec1.precursor_mz,\n",
    "    precursor_charge=spec1.precursor_charge,\n",
    "    mz=spec1.mz[score.matched_indices],\n",
    "    intensity=spec1.intensity[score.matched_indices],\n",
    "    retention_time=spec1.retention_time,\n",
    ")\n",
    "\n",
    "spec2_aligned = sus.MsmsSpectrum(\n",
    "    identifier=spec2.identifier,\n",
    "    precursor_mz=spec2.precursor_mz,\n",
    "    precursor_charge=spec2.precursor_charge,\n",
    "    # mz=spec1.mz[score.matched_indices],\n",
    "    mz=spec2.mz[score.matched_indices_other],\n",
    "    intensity=spec2.intensity[score.matched_indices_other],\n",
    "    retention_time=spec2.retention_time,\n",
    ")"
   ]
  },
  {
   "cell_type": "code",
   "execution_count": 34,
   "metadata": {},
   "outputs": [
    {
     "data": {
      "text/plain": [
       "<Axes: xlabel='m/z', ylabel='Intensity'>"
      ]
     },
     "execution_count": 34,
     "metadata": {},
     "output_type": "execute_result"
    },
    {
     "data": {
      "image/png": "[encoded data removed]",
      "text/plain": [
       "<Figure size 432x288 with 1 Axes>"
      ]
     },
     "metadata": {
      "needs_background": "light"
     },
     "output_type": "display_data"
    }
   ],
   "source": [
    "sup.mirror(spec1_aligned, spec2_aligned)"
   ]
  },
  {
   "cell_type": "code",
   "execution_count": 28,
   "metadata": {},
   "outputs": [
    {
     "data": {
      "text/plain": [
       "<Axes: xlabel='m/z', ylabel='Intensity'>"
      ]
     },
     "execution_count": 28,
     "metadata": {},
     "output_type": "execute_result"
    },
    {
     "data": {
      "image/png": "[encoded data removed]",
      "text/plain": [
       "<Figure size 432x288 with 1 Axes>"
      ]
     },
     "metadata": {
      "needs_background": "light"
     },
     "output_type": "display_data"
    }
   ],
   "source": [
    "sup.mirror(spec1, spec2)"
   ]
  },
  {
   "cell_type": "code",
   "execution_count": 5,
   "metadata": {},
   "outputs": [],
   "source": [
    "import collections\n",
    "from typing import List, Tuple\n",
    "\n",
    "import numba as nb\n",
    "import numpy as np\n",
    "import pandas as pd\n",
    "\n",
    "PSEUDO_CHARGE = 1\n",
    "\n",
    "##### Numpy-enabled spectra\n",
    "SpectrumTuple = collections.namedtuple(\n",
    "    \"SpectrumTuple\", [\"precursor_mz\", \"precursor_charge\", \"mz\", \"intensity\"]\n",
    ")\n",
    "\n",
    "\n",
    "##### Cosine Metric\n",
    "def _norm_intensity(spectrum_intensity: np.ndarray) -> np.ndarray:\n",
    "    \"\"\"\n",
    "    Normalize spectrum peak intensities by their vector norm.\n",
    "    Parameters\n",
    "    ----------\n",
    "    spectrum_intensity : np.ndarray\n",
    "        The spectrum peak intensities to be normalized.\n",
    "    Returns\n",
    "    -------\n",
    "    np.ndarray\n",
    "        The normalized peak intensities.\n",
    "    \"\"\"\n",
    "    return spectrum_intensity / np.linalg.norm(spectrum_intensity)\n",
    "\n",
    "\n",
    "def mass_diff(mz1, mz2, mode_is_da):\n",
    "    \"\"\"\n",
    "    Calculate the mass difference(s).\n",
    "    Parameters\n",
    "    ----------\n",
    "    mz1\n",
    "        First m/z value(s).\n",
    "    mz2\n",
    "        Second m/z value(s).\n",
    "    mode_is_da : bool\n",
    "        Mass difference in Dalton (True) or in ppm (False).\n",
    "    Returns\n",
    "    -------\n",
    "        The mass difference(s) between the given m/z values.\n",
    "    \"\"\"\n",
    "    return mz1 - mz2 if mode_is_da else (mz1 - mz2) / mz2 * 10**6\n",
    "\n",
    "\n",
    "def cosine(\n",
    "    spec: SpectrumTuple,\n",
    "    spec_other: SpectrumTuple,\n",
    "    fragment_mz_tolerance: float,\n",
    "    allow_shift: bool,\n",
    ") -> Tuple[float, List[Tuple[int, int]]]:\n",
    "    \"\"\"\n",
    "    Compute the cosine similarity between the given spectra.\n",
    "    Parameters\n",
    "    ----------\n",
    "    spec : SpectrumTuple\n",
    "        Numba-compatible tuple containing information from the first spectrum.\n",
    "    spec_other : SpectrumTuple\n",
    "        Numba-compatible tuple containing information from the second spectrum.\n",
    "    fragment_mz_tolerance : float\n",
    "        The fragment m/z tolerance used to match peaks in both spectra with\n",
    "        each other.\n",
    "    allow_shift : bool\n",
    "        Boolean flag indicating whether to allow peak shifts or not.\n",
    "    Returns\n",
    "    -------\n",
    "    Tuple[float, List[Tuple[int, int]]]\n",
    "        A tuple consisting of (i) the cosine similarity between both spectra,\n",
    "        and (ii) the indexes of matching peaks in both spectra.\n",
    "    \"\"\"\n",
    "\n",
    "    # Find the matching peaks between both spectra, optionally allowing for\n",
    "    # shifted peaks.\n",
    "    # Candidate peak indices depend on whether we allow shifts\n",
    "    # (check all shifted peaks as well) or not.\n",
    "    # Account for unknown precursor charge (default: 1).\n",
    "    precursor_charge = max(abs(spec.precursor_charge), 1)\n",
    "    precursor_mass_diff = (\n",
    "        spec.precursor_mz - spec_other.precursor_mz\n",
    "    ) * precursor_charge\n",
    "    # Only take peak shifts into account if the mass difference is relevant.\n",
    "    num_shifts = 1\n",
    "    if allow_shift and abs(precursor_mass_diff) >= fragment_mz_tolerance:\n",
    "        num_shifts += precursor_charge\n",
    "    other_peak_index = np.zeros(num_shifts, np.uint16)\n",
    "    mass_diff = np.zeros(num_shifts, np.float32)\n",
    "    for charge in range(1, num_shifts):\n",
    "        mass_diff[charge] = precursor_mass_diff / charge\n",
    "\n",
    "    # Find the matching peaks between both spectra.\n",
    "    peak_match_scores, peak_match_idx = [], []\n",
    "    for peak_index, (peak_mz, peak_intensity) in enumerate(\n",
    "        zip(spec.mz, spec.intensity)\n",
    "    ):\n",
    "        # Advance while there is an excessive mass difference.\n",
    "        for cpi in range(num_shifts):\n",
    "            while other_peak_index[cpi] < len(spec_other.mz) - 1 and (\n",
    "                peak_mz - fragment_mz_tolerance\n",
    "                > spec_other.mz[other_peak_index[cpi]] + mass_diff[cpi]\n",
    "            ):\n",
    "                other_peak_index[cpi] += 1\n",
    "        # Match the peaks within the fragment mass window if possible.\n",
    "        for cpi in range(num_shifts):\n",
    "            index = 0\n",
    "            other_peak_i = other_peak_index[cpi] + index\n",
    "            while (\n",
    "                other_peak_i < len(spec_other.mz)\n",
    "                and abs(peak_mz - (spec_other.mz[other_peak_i] + mass_diff[cpi]))\n",
    "                <= fragment_mz_tolerance\n",
    "            ):\n",
    "                peak_match_scores.append(\n",
    "                    peak_intensity * spec_other.intensity[other_peak_i]\n",
    "                )\n",
    "                peak_match_idx.append((peak_index, other_peak_i))\n",
    "                index += 1\n",
    "                other_peak_i = other_peak_index[cpi] + index\n",
    "\n",
    "    score, peak_matches = 0.0, []\n",
    "    if len(peak_match_scores) > 0:\n",
    "        # Use the most prominent peak matches to compute the score (sort in\n",
    "        # descending order).\n",
    "        peak_match_scores_arr = np.asarray(peak_match_scores)\n",
    "        peak_match_order = np.argsort(peak_match_scores_arr)[::-1]\n",
    "        peak_match_scores_arr = peak_match_scores_arr[peak_match_order]\n",
    "        peak_match_idx_arr = np.asarray(peak_match_idx)[peak_match_order]\n",
    "        peaks_used, other_peaks_used = set(), set()\n",
    "        for peak_match_score, peak_i, other_peak_i in zip(\n",
    "            peak_match_scores_arr, peak_match_idx_arr[:, 0], peak_match_idx_arr[:, 1]\n",
    "        ):\n",
    "            if peak_i not in peaks_used and other_peak_i not in other_peaks_used:\n",
    "                score += peak_match_score\n",
    "                # Save the matched peaks.\n",
    "                peak_matches.append((peak_i, other_peak_i))\n",
    "                # Make sure these peaks are not used anymore.\n",
    "                peaks_used.add(peak_i)\n",
    "                other_peaks_used.add(other_peak_i)\n",
    "\n",
    "    return score, peak_matches\n"
   ]
  },
  {
   "cell_type": "code",
   "execution_count": 41,
   "metadata": {},
   "outputs": [],
   "source": []
  },
  {
   "cell_type": "code",
   "execution_count": 43,
   "metadata": {},
   "outputs": [
    {
     "data": {
      "text/plain": [
       "(0.206759283944848,\n",
       " [(72, 107),\n",
       "  (5, 14),\n",
       "  (2, 9),\n",
       "  (71, 102),\n",
       "  (13, 27),\n",
       "  (28, 33),\n",
       "  (11, 11),\n",
       "  (18, 36),\n",
       "  (4, 13),\n",
       "  (63, 86),\n",
       "  (15, 16),\n",
       "  (32, 40),\n",
       "  (10, 24),\n",
       "  (30, 56),\n",
       "  (26, 51),\n",
       "  (68, 95),\n",
       "  (27, 32),\n",
       "  (8, 6),\n",
       "  (7, 18),\n",
       "  (34, 61),\n",
       "  (14, 30),\n",
       "  (1, 7),\n",
       "  (33, 42),\n",
       "  (25, 48),\n",
       "  (59, 79),\n",
       "  (39, 68),\n",
       "  (46, 63),\n",
       "  (20, 23),\n",
       "  (23, 26),\n",
       "  (67, 103),\n",
       "  (41, 55),\n",
       "  (48, 65),\n",
       "  (56, 76),\n",
       "  (31, 58),\n",
       "  (12, 25),\n",
       "  (9, 20),\n",
       "  (19, 38),\n",
       "  (43, 74),\n",
       "  (64, 88),\n",
       "  (22, 41),\n",
       "  (37, 66),\n",
       "  (58, 78),\n",
       "  (54, 72),\n",
       "  (17, 34),\n",
       "  (38, 67),\n",
       "  (57, 77),\n",
       "  (61, 97),\n",
       "  (47, 81),\n",
       "  (65, 101),\n",
       "  (40, 70),\n",
       "  (62, 98),\n",
       "  (70, 99),\n",
       "  (50, 82),\n",
       "  (35, 46),\n",
       "  (44, 57),\n",
       "  (55, 87),\n",
       "  (36, 64),\n",
       "  (51, 83),\n",
       "  (16, 17),\n",
       "  (66, 93),\n",
       "  (53, 85),\n",
       "  (42, 73)])"
      ]
     },
     "execution_count": 43,
     "metadata": {},
     "output_type": "execute_result"
    }
   ],
   "source": [
    "score"
   ]
  },
  {
   "cell_type": "code",
   "execution_count": null,
   "metadata": {},
   "outputs": [],
   "source": []
  }
 ],
 "metadata": {
  "kernelspec": {
   "display_name": ".venv",
   "language": "python",
   "name": "python3"
  },
  "language_info": {
   "codemirror_mode": {
    "name": "ipython",
    "version": 3
   },
   "file_extension": ".py",
   "mimetype": "text/x-python",
   "name": "python",
   "nbconvert_exporter": "python",
   "pygments_lexer": "ipython3",
   "version": "3.9.12"
  },
  "orig_nbformat": 4
 },
 "nbformat": 4,
 "nbformat_minor": 2
}
