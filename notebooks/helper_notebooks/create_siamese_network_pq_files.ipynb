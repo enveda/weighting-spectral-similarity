{
 "cells": [
  {
   "cell_type": "code",
   "execution_count": 1,
   "metadata": {},
   "outputs": [],
   "source": [
    "import pandas as pd\n",
    "from tqdm.notebook import tqdm\n",
    "from ms_entropy.file_io.msp_file import read_one_spectrum\n",
    "import random\n",
    "import numpy as np\n",
    "\n",
    "from rdkit import RDLogger\n",
    "import importlib\n",
    "\n",
    "import sys\n",
    "sys.path.append('../src/')\n",
    "from ms_similarity_metrics.hash_utils import hash_spectrum\n",
    "from ms_similarity_metrics.create_spectrum import create_spectra_NIST23, create_spectra_wout\n",
    "from ms_similarity_metrics.query_pool import query, call_modified_cosine\n",
    "from ms_similarity_metrics.frequency import get_weights\n",
    "importlib.reload(sys.modules['ms_similarity_metrics.hash_utils'])\n",
    "importlib.reload(sys.modules['ms_similarity_metrics.create_spectrum'])\n",
    "importlib.reload(sys.modules['ms_similarity_metrics.query_pool'])\n",
    "importlib.reload(sys.modules['ms_similarity_metrics.frequency'])\n",
    "from ms_similarity_metrics.hash_utils import hash_spectrum\n",
    "from ms_similarity_metrics.create_spectrum import create_spectra_NIST23, create_spectra_wout\n",
    "from ms_similarity_metrics.create_spectrum import weight_NIST23_spectra, weight_wout_spectra\n",
    "from ms_similarity_metrics.query_pool import query, call_modified_cosine\n",
    "from ms_similarity_metrics.frequency import get_weights\n"
   ]
  },
  {
   "cell_type": "code",
   "execution_count": 2,
   "metadata": {},
   "outputs": [],
   "source": [
    "RDLogger.DisableLog('rdApp.*')"
   ]
  },
  {
   "cell_type": "code",
   "execution_count": 3,
   "metadata": {},
   "outputs": [],
   "source": [
    "%matplotlib inline"
   ]
  },
  {
   "attachments": {},
   "cell_type": "markdown",
   "metadata": {},
   "source": [
    "# Get NIST data"
   ]
  },
  {
   "cell_type": "code",
   "execution_count": 4,
   "metadata": {},
   "outputs": [
    {
     "data": {
      "application/vnd.jupyter.widget-view+json": {
       "model_id": "541ae62b6d05456a8171c96b31178f35",
       "version_major": 2,
       "version_minor": 0
      },
      "text/plain": [
       "0it [00:00, ?it/s]"
      ]
     },
     "metadata": {},
     "output_type": "display_data"
    }
   ],
   "source": [
    "# Get NIST23 library\n",
    "spectra_list = []\n",
    "\n",
    "# Get data from s3://enveda-data-user/chloe.engler/cosine_similarity/NIST_data/NIST23-HR-MSMS.MSP\n",
    "for i,spectrum in tqdm(enumerate(read_one_spectrum('../../data/NIST23-HR-MSMS.MSP'))):\n",
    "    spectra_list.append(spectrum)"
   ]
  },
  {
   "cell_type": "code",
   "execution_count": 5,
   "metadata": {},
   "outputs": [],
   "source": [
    "# read tsv file\n",
    "inchikey_nist23_to_smiles = pd.read_csv(\n",
    "    's3://enveda-datascience/daniel_domingo/random/nist23_resolver_inchikeys_to_smiles.tsv.gz',\n",
    "    sep='\\t',\n",
    "    compression='gzip',\n",
    ")"
   ]
  },
  {
   "cell_type": "code",
   "execution_count": 6,
   "metadata": {},
   "outputs": [],
   "source": [
    "# remove rows where smiles is nan\n",
    "inchikey_nist23_to_smiles = inchikey_nist23_to_smiles.dropna(subset=['smiles'])\n",
    "\n",
    "# make a dict from inchikey to smiles\n",
    "inchikey_to_smiles = dict(zip(inchikey_nist23_to_smiles['inchikey'], inchikey_nist23_to_smiles['smiles']))"
   ]
  },
  {
   "cell_type": "code",
   "execution_count": 8,
   "metadata": {},
   "outputs": [
    {
     "name": "stderr",
     "output_type": "stream",
     "text": [
      "1934658it [01:08, 28384.32it/s] \n"
     ]
    }
   ],
   "source": [
    "# Convert spectra to right format and filter\n",
    "# See create_spectrum.py for more filtering information\n",
    "nist_spectra, info_dict, nist_inchi_dict = create_spectra_NIST23(spectra_list, inchikey_to_smiles, min_n_peaks=6)"
   ]
  },
  {
   "attachments": {},
   "cell_type": "markdown",
   "metadata": {},
   "source": [
    "# Get Wout data"
   ]
  },
  {
   "cell_type": "code",
   "execution_count": 10,
   "metadata": {},
   "outputs": [
    {
     "name": "stderr",
     "output_type": "stream",
     "text": [
      "0it [00:00, ?it/s]"
     ]
    },
    {
     "name": "stderr",
     "output_type": "stream",
     "text": [
      "495600it [01:28, 5605.32it/s] \n"
     ]
    }
   ],
   "source": [
    "# Covert Wout spectra to right format and filter\n",
    "# Get data from s3://enveda-data-user/chloe.engler/cosine_similarity/Wout_data/ALL_GNPS_NO_PROPOGATED.mgf\n",
    "wout_spectra, wout_info_dict = create_spectra_wout(\n",
    "    '../../data/ALL_GNPS_NO_PROPOGATED.mgf',\n",
    "    min_n_peaks=6,\n",
    ")"
   ]
  },
  {
   "cell_type": "code",
   "execution_count": 11,
   "metadata": {},
   "outputs": [],
   "source": [
    "# Get wout metadata\n",
    "metadata = pd.read_csv(\n",
    "    'https://zenodo.org/record/6829249/files/gnps_libraries_metadata.csv?download=1'\n",
    ")\n",
    "metadata.set_index('id', inplace=True)"
   ]
  },
  {
   "attachments": {},
   "cell_type": "markdown",
   "metadata": {},
   "source": [
    "# Get overlapping spectra"
   ]
  },
  {
   "cell_type": "code",
   "execution_count": 12,
   "metadata": {},
   "outputs": [
    {
     "data": {
      "application/vnd.jupyter.widget-view+json": {
       "model_id": "d90c3ded63fb41efa80e76a41929471a",
       "version_major": 2,
       "version_minor": 0
      },
      "text/plain": [
       "  0%|          | 0/402412 [00:00<?, ?it/s]"
      ]
     },
     "metadata": {},
     "output_type": "display_data"
    }
   ],
   "source": [
    "# Get set with all inchis from nist spectra\n",
    "nist_inchis = {\n",
    "    spectra.partial_inchikey\n",
    "    for spectra in tqdm(nist_spectra)\n",
    "}"
   ]
  },
  {
   "cell_type": "code",
   "execution_count": 13,
   "metadata": {},
   "outputs": [
    {
     "data": {
      "application/vnd.jupyter.widget-view+json": {
       "model_id": "6e8b96f1e030404f831abeb81550dca8",
       "version_major": 2,
       "version_minor": 0
      },
      "text/plain": [
       "  0%|          | 0/59165 [00:00<?, ?it/s]"
      ]
     },
     "metadata": {},
     "output_type": "display_data"
    }
   ],
   "source": [
    "# Check for matching spectra in NIST23 and wout\n",
    "matching_inchis = []\n",
    "for i,spectra in enumerate(tqdm(wout_spectra)):\n",
    "    current_inchi = spectra.partial_inchikey\n",
    "    if current_inchi != None and current_inchi in nist_inchis:\n",
    "        matching_inchis.append(current_inchi)"
   ]
  },
  {
   "cell_type": "code",
   "execution_count": 14,
   "metadata": {},
   "outputs": [],
   "source": [
    "with open('../../data/matching_inchis.txt', 'w') as f:\n",
    "    for inchi in matching_inchis:\n",
    "        f.write(inchi + '\\n')"
   ]
  },
  {
   "cell_type": "code",
   "execution_count": 15,
   "metadata": {},
   "outputs": [
    {
     "name": "stdout",
     "output_type": "stream",
     "text": [
      "Number of overlapping spectra:  30100\n",
      "Number of overlapping structures:  3193\n"
     ]
    }
   ],
   "source": [
    "print('Number of overlapping spectra: ', len(matching_inchis))\n",
    "print('Number of overlapping structures: ', len(set(matching_inchis)))"
   ]
  },
  {
   "cell_type": "markdown",
   "metadata": {},
   "source": [
    "# Create NIST parquet file"
   ]
  },
  {
   "cell_type": "code",
   "execution_count": 22,
   "metadata": {},
   "outputs": [
    {
     "data": {
      "application/vnd.jupyter.widget-view+json": {
       "model_id": "f49012d6e75c42b7883cbefbee765457",
       "version_major": 2,
       "version_minor": 0
      },
      "text/plain": [
       "  0%|          | 0/402412 [00:00<?, ?it/s]"
      ]
     },
     "metadata": {},
     "output_type": "display_data"
    }
   ],
   "source": [
    "# Create nist df with mz, intensities, precursor_mz\n",
    "nist_df = pd.DataFrame(columns=['identifier','mz_values', 'intensites', 'precursor_mz'])\n",
    "for s in tqdm(nist_spectra):\n",
    "    nist_df.loc[len(nist_df)] = [s.identifier, s.mz, s.intensity, s.precursor_mz]\n"
   ]
  },
  {
   "cell_type": "code",
   "execution_count": 24,
   "metadata": {},
   "outputs": [],
   "source": [
    "# Save NIST df\n",
    "nist_df.to_parquet('../data/nist_df.parquet')"
   ]
  },
  {
   "cell_type": "markdown",
   "metadata": {},
   "source": [
    "# Create wout parquet file"
   ]
  },
  {
   "cell_type": "code",
   "execution_count": 17,
   "metadata": {},
   "outputs": [
    {
     "data": {
      "application/vnd.jupyter.widget-view+json": {
       "model_id": "f13b798a22c443c2a03062cbf17ff33e",
       "version_major": 2,
       "version_minor": 0
      },
      "text/plain": [
       "  0%|          | 0/59165 [00:00<?, ?it/s]"
      ]
     },
     "metadata": {},
     "output_type": "display_data"
    }
   ],
   "source": [
    "# create wout df with mz, intensities, precursor_mz\n",
    "wout_df = pd.DataFrame(columns=['identifier', 'mz_values', 'intensities', 'precursor_mz'])\n",
    "for s in tqdm(wout_spectra):\n",
    "    wout_df.loc[len(wout_df)] = [s.identifier, s.mz, s.intensity, s.precursor_mz]"
   ]
  },
  {
   "cell_type": "code",
   "execution_count": 19,
   "metadata": {},
   "outputs": [],
   "source": [
    "# Save Wout dataframe\n",
    "wout_df.to_parquet('../../data/wout_GNPS_df.parquet')"
   ]
  },
  {
   "cell_type": "code",
   "execution_count": null,
   "metadata": {},
   "outputs": [],
   "source": []
  }
 ],
 "metadata": {
  "kernelspec": {
   "display_name": ".venv",
   "language": "python",
   "name": "python3"
  },
  "language_info": {
   "codemirror_mode": {
    "name": "ipython",
    "version": 3
   },
   "file_extension": ".py",
   "mimetype": "text/x-python",
   "name": "python",
   "nbconvert_exporter": "python",
   "pygments_lexer": "ipython3",
   "version": "3.9.16"
  },
  "orig_nbformat": 4
 },
 "nbformat": 4,
 "nbformat_minor": 2
}
