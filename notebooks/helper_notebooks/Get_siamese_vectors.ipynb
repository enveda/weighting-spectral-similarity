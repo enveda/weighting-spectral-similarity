{
 "cells": [
  {
   "cell_type": "code",
   "execution_count": 3,
   "metadata": {},
   "outputs": [],
   "source": [
    "# This notebook was created by Gennady\n",
    "import os\n",
    "import json\n",
    "import awswrangler\n",
    "\n",
    "from metabolomics.utils.spectrum import Spectra\n",
    "\n",
    "from numerical_mz.factory import model_factory"
   ]
  },
  {
   "cell_type": "code",
   "execution_count": 2,
   "metadata": {},
   "outputs": [],
   "source": [
    "work_dir = os.path.join(\n",
    "    's3://', 'enveda-data-user', 'chloe.engler', 'cosine_similarity'\n",
    ")\n",
    "nist_source_path = os.path.join(work_dir, 'NIST_data/nist_df.parquet')\n",
    "gnps_source_path = os.path.join(work_dir, 'Wout_data/wout_GNPS_df.parquet')\n",
    "nist_target_path = os.path.join(work_dir, 'NIST_data/nist_df_w_siamese_vecs.parquet')\n",
    "gnps_target_path = os.path.join(work_dir, 'Wout_data/wout_GNPS_df_w_siamese_vecs.parquet')"
   ]
  },
  {
   "cell_type": "code",
   "execution_count": 4,
   "metadata": {},
   "outputs": [],
   "source": [
    "config_path = os.path.join(\n",
    "    '/', 'efs', 'gennadyvoronov', 'spectral-similarity', 'numerical-mz',\n",
    "    'model_config', 'siamese', 'dataset-7.0.0', \n",
    "    'transformer.depth6.width512.sin_mz.all.json',\n",
    ")\n",
    "with open(config_path) as fid:\n",
    "    config = json.load(fid)\n",
    "\n",
    "model = model_factory(\n",
    "    config, \n",
    "    accelerator='gpu', \n",
    "    devices=1, \n",
    "    num_workers=16, \n",
    "    precision=32, \n",
    "    prefetch_factor=32, \n",
    "    batch_size=64\n",
    ")\n",
    "model.load_base_model()"
   ]
  },
  {
   "cell_type": "code",
   "execution_count": 6,
   "metadata": {},
   "outputs": [
    {
     "name": "stderr",
     "output_type": "stream",
     "text": [
      "/home/ubuntu/.cache/pypoetry/virtualenvs/poetry-science-env-QGY1HkyA-py3.9/lib/python3.9/site-packages/torch/utils/data/dataloader.py:560: UserWarning: This DataLoader will create 16 worker processes in total. Our suggested max number of worker in current system is 8, which is smaller than what this DataLoader is going to create. Please be aware that excessive worker creation might get DataLoader running slow or even freeze, lower the worker number to avoid potential slowness/freeze if necessary.\n",
      "  warnings.warn(_create_warning_msg(\n",
      "GPU available: True (cuda), used: True\n",
      "TPU available: False, using: 0 TPU cores\n",
      "IPU available: False, using: 0 IPUs\n",
      "HPU available: False, using: 0 HPUs\n",
      "LOCAL_RANK: 0 - CUDA_VISIBLE_DEVICES: [0]\n"
     ]
    },
    {
     "data": {
      "application/vnd.jupyter.widget-view+json": {
       "model_id": "30a06c6ff8fa40b5ad51700d66aec4c9",
       "version_major": 2,
       "version_minor": 0
      },
      "text/plain": [
       "Predicting: 0it [00:00, ?it/s]"
      ]
     },
     "metadata": {},
     "output_type": "display_data"
    }
   ],
   "source": [
    "nist_df = awswrangler.s3.read_parquet(nist_source_path)\n",
    "\n",
    "spectra = Spectra.from_pandas(nist_df, peak_columns=['mz_values', 'intensites'])\n",
    "data = model.get_data_loader(model.create_dataset(spectra))\n",
    "vectors = model.eval_embd_vectors(data)\n",
    "\n",
    "nist_df['siamese_vector'] = [\n",
    "    [float(element) for element in vector] \n",
    "    for vector in vectors\n",
    "]\n",
    "\n",
    "_ = awswrangler.s3.to_parquet(nist_df, nist_target_path)"
   ]
  },
  {
   "cell_type": "code",
   "execution_count": 8,
   "metadata": {},
   "outputs": [
    {
     "name": "stderr",
     "output_type": "stream",
     "text": [
      "/home/ubuntu/.cache/pypoetry/virtualenvs/poetry-science-env-QGY1HkyA-py3.9/lib/python3.9/site-packages/torch/utils/data/dataloader.py:560: UserWarning: This DataLoader will create 16 worker processes in total. Our suggested max number of worker in current system is 8, which is smaller than what this DataLoader is going to create. Please be aware that excessive worker creation might get DataLoader running slow or even freeze, lower the worker number to avoid potential slowness/freeze if necessary.\n",
      "  warnings.warn(_create_warning_msg(\n",
      "GPU available: True (cuda), used: True\n",
      "TPU available: False, using: 0 TPU cores\n",
      "IPU available: False, using: 0 IPUs\n",
      "HPU available: False, using: 0 HPUs\n",
      "LOCAL_RANK: 0 - CUDA_VISIBLE_DEVICES: [0]\n"
     ]
    },
    {
     "data": {
      "application/vnd.jupyter.widget-view+json": {
       "model_id": "f5676d4d90c14630be0ec16303e99bc0",
       "version_major": 2,
       "version_minor": 0
      },
      "text/plain": [
       "Predicting: 0it [00:00, ?it/s]"
      ]
     },
     "metadata": {},
     "output_type": "display_data"
    }
   ],
   "source": [
    "gnps_df = awswrangler.s3.read_parquet(gnps_source_path)\n",
    "\n",
    "spectra = Spectra.from_pandas(gnps_df, peak_columns=['mz_values', 'intensities'])\n",
    "data = model.get_data_loader(model.create_dataset(spectra))\n",
    "vectors = model.eval_embd_vectors(data)\n",
    "\n",
    "gnps_df['siamese_vector'] = [\n",
    "    [float(element) for element in vector] \n",
    "    for vector in vectors\n",
    "]\n",
    "\n",
    "_ = awswrangler.s3.to_parquet(gnps_df, gnps_target_path)"
   ]
  }
 ],
 "metadata": {
  "kernelspec": {
   "display_name": ".venv",
   "language": "python",
   "name": "python3"
  },
  "language_info": {
   "codemirror_mode": {
    "name": "ipython",
    "version": 3
   },
   "file_extension": ".py",
   "mimetype": "text/x-python",
   "name": "python",
   "nbconvert_exporter": "python",
   "pygments_lexer": "ipython3",
   "version": "3.9.16"
  },
  "orig_nbformat": 4
 },
 "nbformat": 4,
 "nbformat_minor": 2
}
