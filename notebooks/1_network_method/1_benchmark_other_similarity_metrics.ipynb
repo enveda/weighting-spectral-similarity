{
 "cells": [
  {
   "cell_type": "code",
   "execution_count": 1,
   "id": "859b8d98",
   "metadata": {},
   "outputs": [],
   "source": [
    "import numpy as np\n",
    "import numba as nb\n",
    "import pandas as pd\n",
    "import pyteomics.mgf\n",
    "import seaborn as sns\n",
    "from matplotlib import pyplot as plt\n",
    "import spectrum_utils.spectrum as sus\n",
    "import sys\n",
    "import importlib\n",
    "\n",
    "from tqdm import tqdm\n",
    "\n",
    "sys.path.append(\"../../src/\")\n",
    "from ms_similarity_metrics import frequency\n",
    "from ms_similarity_metrics import similarity_2 as similarity\n",
    "importlib.reload(frequency)\n",
    "importlib.reload(similarity)\n",
    "\n",
    "tqdm.pandas()"
   ]
  },
  {
   "attachments": {},
   "cell_type": "markdown",
   "id": "1ef38a61",
   "metadata": {},
   "source": [
    "## Analysis settings"
   ]
  },
  {
   "cell_type": "code",
   "execution_count": 2,
   "id": "b2dac316",
   "metadata": {},
   "outputs": [],
   "source": [
    "# Spectra and spectrum pairs to include with the following settings.\n",
    "charges = 0, 1\n",
    "min_n_peaks = 6\n",
    "fragment_mz_tolerance = 0.1\n",
    "min_mass_diff = 1    # Da\n",
    "max_mass_diff = 200    # Da"
   ]
  },
  {
   "attachments": {},
   "cell_type": "markdown",
   "id": "5d1387e4",
   "metadata": {},
   "source": [
    "### Load Utils"
   ]
  },
  {
   "cell_type": "code",
   "execution_count": 3,
   "id": "0593a1f6",
   "metadata": {},
   "outputs": [],
   "source": [
    "# Profile spectra contain 0 intensity values.\n",
    "@nb.njit\n",
    "def is_centroid(intensity_array):\n",
    "    return np.all(intensity_array > 0)\n",
    "\n",
    "# Assumes that the spectra are sorted by ascending precusor m/z.\n",
    "@nb.njit\n",
    "def generate_pairs(\n",
    "    spectrum_indexes, masses, min_mass_diff, max_mass_diff\n",
    "):\n",
    "    for i in range(len(spectrum_indexes)):\n",
    "        j = i + 1\n",
    "        while (\n",
    "            j < len(spectrum_indexes) and\n",
    "            masses[j] - masses[i] < min_mass_diff\n",
    "        ):\n",
    "            j += 1\n",
    "        while (\n",
    "            j < len(spectrum_indexes) and\n",
    "            masses[j] - masses[i] < max_mass_diff\n",
    "        ):\n",
    "            yield spectrum_indexes[i]\n",
    "            yield spectrum_indexes[j]\n",
    "            j += 1"
   ]
  },
  {
   "attachments": {},
   "cell_type": "markdown",
   "id": "7fb7447a",
   "metadata": {},
   "source": [
    "## Data IO"
   ]
  },
  {
   "cell_type": "code",
   "execution_count": 4,
   "id": "aa3d236a",
   "metadata": {},
   "outputs": [
    {
     "name": "stderr",
     "output_type": "stream",
     "text": [
      "0it [00:00, ?it/s]"
     ]
    },
    {
     "name": "stderr",
     "output_type": "stream",
     "text": [
      "495600it [01:12, 6824.21it/s] \n"
     ]
    }
   ],
   "source": [
    "# Read all spectra from the MGF.\n",
    "# ALL_GNPS_NO_PROPOGATED (retrieved on 2022-05-12) downloaded from\n",
    "# https://gnps-external.ucsd.edu/gnpslibrary\n",
    "\n",
    "# Spectrum quality filtering:\n",
    "#   - Don't include propagated spectra (LIBRARYQUALITY==4).\n",
    "#   - Don't include multiply charged molecules.\n",
    "#   - Don't include spectra with invalid precursor m/z (0).\n",
    "#   - Don't include spectra with too few peaks (minimum 6).\n",
    "#   - Only include positive ion mode spectra.\n",
    "#   - Only include spectra with [M+H]+ adducts.\n",
    "#   - Only include centroid data (does not contain zero intensity values).\n",
    "#   - Only include spectra with InChI and/or SMILES specified.\n",
    "\n",
    "spectra = []\n",
    "\n",
    "# Download from https://zenodo.org/record/6829249/files/ALL_GNPS_NO_PROPOGATED.mgf?download=1\n",
    "filename = (\"../data/ALL_GNPS_NO_PROPOGATED.mgf\")\n",
    "\n",
    "with pyteomics.mgf.MGF(filename) as f_in:\n",
    "    for spectrum_dict in tqdm(f_in):\n",
    "        if (\n",
    "            int(spectrum_dict[\"params\"][\"libraryquality\"]) <= 3 and\n",
    "            int(spectrum_dict[\"params\"][\"charge\"][0]) in charges and\n",
    "            float(spectrum_dict[\"params\"][\"pepmass\"][0]) > 0 and\n",
    "            len(spectrum_dict[\"m/z array\"]) >= min_n_peaks and\n",
    "            spectrum_dict[\"params\"][\"ionmode\"] == \"Positive\" and\n",
    "            spectrum_dict[\"params\"][\"name\"].rstrip().endswith(\" M+H\") and\n",
    "            is_centroid(spectrum_dict[\"intensity array\"]) and\n",
    "            (\n",
    "                spectrum_dict[\"params\"][\"inchi\"] != \"N/A\" or\n",
    "                spectrum_dict[\"params\"][\"smiles\"] != \"N/A\"\n",
    "            )\n",
    "        ):\n",
    "            spec = sus.MsmsSpectrum(\n",
    "                spectrum_dict[\"params\"][\"spectrumid\"],\n",
    "                float(spectrum_dict[\"params\"][\"pepmass\"][0]),\n",
    "                # Re-assign charge 0 to 1.\n",
    "                max(int(spectrum_dict[\"params\"][\"charge\"][0]), 1),\n",
    "                spectrum_dict[\"m/z array\"],\n",
    "                spectrum_dict[\"intensity array\"]/max(spectrum_dict[\"intensity array\"]),\n",
    "            )\n",
    "            spec.library = spectrum_dict[\"params\"][\"organism\"]\n",
    "            spec.inchi = spectrum_dict[\"params\"][\"inchi\"]\n",
    "            spec.smiles = spectrum_dict[\"params\"][\"smiles\"]\n",
    "            spec.remove_precursor_peak(0.1, \"Da\")\n",
    "            spec.filter_intensity(0.01, max_num_peaks=200)\n",
    "            spectra.append(spec)\n"
   ]
  },
  {
   "cell_type": "code",
   "execution_count": 5,
   "id": "74becd34",
   "metadata": {},
   "outputs": [],
   "source": [
    "# Round spectra m/z to one decimal\n",
    "for s in spectra:\n",
    "    s.mz.round(1, out=s.mz)"
   ]
  },
  {
   "attachments": {},
   "cell_type": "markdown",
   "id": "ddcfe90e",
   "metadata": {},
   "source": [
    "This takes a bit... (3 min in my laptop)"
   ]
  },
  {
   "attachments": {},
   "cell_type": "markdown",
   "id": "1307e1e0",
   "metadata": {},
   "source": [
    "### Load the metadata"
   ]
  },
  {
   "cell_type": "code",
   "execution_count": 6,
   "id": "0bf7a46c",
   "metadata": {},
   "outputs": [],
   "source": [
    "metadata = pd.read_csv(\n",
    "    'https://zenodo.org/record/6829249/files/gnps_libraries_metadata.csv?download=1'\n",
    ")"
   ]
  },
  {
   "attachments": {},
   "cell_type": "markdown",
   "id": "93531bc2",
   "metadata": {},
   "source": [
    "## Get pairs"
   ]
  },
  {
   "cell_type": "code",
   "execution_count": 8,
   "id": "70d60c87",
   "metadata": {},
   "outputs": [],
   "source": [
    "# Get pair subset that Wout used\n",
    "# Download file from s3://enveda-data-user/chloe.engler/cosine_similarity/Wout_data/pairs_subset.txt\n",
    "with open('../../data/pairs_subset.txt', 'r') as f:\n",
    "    pairs_subset = f.read().splitlines()\n",
    "    pairs_subset = pairs_subset[1:]\n",
    "    pairs_subset = [np.array(pair.split(' ')).astype(int) for pair in pairs_subset]\n",
    "pairs_subset = np.array(pairs_subset)"
   ]
  },
  {
   "cell_type": "code",
   "execution_count": 9,
   "id": "92f385a0",
   "metadata": {},
   "outputs": [],
   "source": [
    "# Get dataframe containing m/z frequency information\n",
    "frequency_df = pd.read_csv('s3://enveda-data-user/chloe.engler/cosine_similarity/Wout_data/frequency_df.csv')\n",
    "\n",
    "# Get number of spectra used to generate the frequency_df\n",
    "# Get file from s3://enveda-data-user/chloe.engler/cosine_similarity/Wout_data/num_spectra.txt\n",
    "with open('../../data/num_spectra.txt', 'r') as f:\n",
    "    num_spectra = int(f.read())"
   ]
  },
  {
   "cell_type": "code",
   "execution_count": 10,
   "id": "dda4f420",
   "metadata": {},
   "outputs": [],
   "source": [
    "# Get frequency counts\n",
    "# Get file from s3://enveda-data-user/chloe.engler/cosine_similarity/Wout_data/frequency_count.txt\n",
    "with open('../../data/frequency_count.txt', 'r') as f:\n",
    "    frequency_count = f.read().splitlines()\n",
    "    frequency_count = frequency_count[1:]\n",
    "    frequency_count = [float(x) for x in frequency_count]"
   ]
  },
  {
   "cell_type": "code",
   "execution_count": 11,
   "id": "b6cc561c",
   "metadata": {},
   "outputs": [],
   "source": [
    "# np.random.seed(1)\n",
    "#pairs = pairs_subset[np.random.choice(pairs_subset.shape[0], 1_000, replace=False)]\n",
    "pairs = pairs_subset.copy()"
   ]
  },
  {
   "cell_type": "code",
   "execution_count": 12,
   "id": "d8585b6c",
   "metadata": {},
   "outputs": [],
   "source": [
    "# Save core information about the pairs.\n",
    "similarities_df = pd.DataFrame(\n",
    "    {\n",
    "        \"pair1\": pairs[:, 0],\n",
    "        \"pair2\": pairs[:, 1],\n",
    "        \"id1\": metadata.loc[pairs[:, 0], \"id\"].values,\n",
    "        \"id2\": metadata.loc[pairs[:, 1], \"id\"].values,\n",
    "    }\n",
    ")"
   ]
  },
  {
   "attachments": {},
   "cell_type": "markdown",
   "id": "9c5fb399",
   "metadata": {},
   "source": [
    "# Get weights"
   ]
  },
  {
   "cell_type": "code",
   "execution_count": 13,
   "id": "b4d0df85",
   "metadata": {},
   "outputs": [],
   "source": [
    "# Define weight functions\n",
    "#idf_dict = frequency.idf(frequency_df, num_spectra, frequency_col='frequency')\n",
    "weight_func = lambda x: x**(1/4)\n",
    "intensity_weight_func = lambda x: x**(1/4)"
   ]
  },
  {
   "cell_type": "code",
   "execution_count": 14,
   "id": "82f51cd3",
   "metadata": {},
   "outputs": [
    {
     "data": {
      "text/html": [
       "<div>\n",
       "<style scoped>\n",
       "    .dataframe tbody tr th:only-of-type {\n",
       "        vertical-align: middle;\n",
       "    }\n",
       "\n",
       "    .dataframe tbody tr th {\n",
       "        vertical-align: top;\n",
       "    }\n",
       "\n",
       "    .dataframe thead th {\n",
       "        text-align: right;\n",
       "    }\n",
       "</style>\n",
       "<table border=\"1\" class=\"dataframe\">\n",
       "  <thead>\n",
       "    <tr style=\"text-align: right;\">\n",
       "      <th></th>\n",
       "      <th>Unnamed: 0</th>\n",
       "      <th>frequency</th>\n",
       "      <th>prob</th>\n",
       "      <th>weight</th>\n",
       "    </tr>\n",
       "    <tr>\n",
       "      <th>mz</th>\n",
       "      <th></th>\n",
       "      <th></th>\n",
       "      <th></th>\n",
       "      <th></th>\n",
       "    </tr>\n",
       "  </thead>\n",
       "  <tbody>\n",
       "    <tr>\n",
       "      <th>4.6</th>\n",
       "      <td>0</td>\n",
       "      <td>1</td>\n",
       "      <td>4.805324e-07</td>\n",
       "      <td>0.026329</td>\n",
       "    </tr>\n",
       "    <tr>\n",
       "      <th>9.0</th>\n",
       "      <td>1</td>\n",
       "      <td>1</td>\n",
       "      <td>4.805324e-07</td>\n",
       "      <td>0.026329</td>\n",
       "    </tr>\n",
       "    <tr>\n",
       "      <th>10.2</th>\n",
       "      <td>2</td>\n",
       "      <td>1</td>\n",
       "      <td>4.805324e-07</td>\n",
       "      <td>0.026329</td>\n",
       "    </tr>\n",
       "    <tr>\n",
       "      <th>14.2</th>\n",
       "      <td>3</td>\n",
       "      <td>1</td>\n",
       "      <td>4.805324e-07</td>\n",
       "      <td>0.026329</td>\n",
       "    </tr>\n",
       "    <tr>\n",
       "      <th>15.0</th>\n",
       "      <td>4</td>\n",
       "      <td>6</td>\n",
       "      <td>2.883195e-06</td>\n",
       "      <td>0.041207</td>\n",
       "    </tr>\n",
       "  </tbody>\n",
       "</table>\n",
       "</div>"
      ],
      "text/plain": [
       "      Unnamed: 0  frequency          prob    weight\n",
       "mz                                                 \n",
       "4.6            0          1  4.805324e-07  0.026329\n",
       "9.0            1          1  4.805324e-07  0.026329\n",
       "10.2           2          1  4.805324e-07  0.026329\n",
       "14.2           3          1  4.805324e-07  0.026329\n",
       "15.0           4          6  2.883195e-06  0.041207"
      ]
     },
     "execution_count": 14,
     "metadata": {},
     "output_type": "execute_result"
    }
   ],
   "source": [
    "# Get m/z frequency weight df\n",
    "weight_df = frequency.get_weights(frequency_df, weight_func, weight_col='prob')\n",
    "weight_df = weight_df.set_index('mz', drop=True)\n",
    "weight_df.head()"
   ]
  },
  {
   "attachments": {},
   "cell_type": "markdown",
   "id": "0663604b",
   "metadata": {},
   "source": [
    "# Calculate similarities"
   ]
  },
  {
   "cell_type": "code",
   "execution_count": 15,
   "id": "24ad0daf",
   "metadata": {},
   "outputs": [],
   "source": [
    "# To run this code you need to import the functions from https://github.com/YuanyueLi/SpectralEntropy/tree/master/spectral_entropy (not packaged)\n",
    "# Simply copy the spectral_entropy.py file in the same folder as this notebook\n",
    "import spectral_entropy"
   ]
  },
  {
   "cell_type": "code",
   "execution_count": 17,
   "id": "1a6295c9",
   "metadata": {},
   "outputs": [
    {
     "name": "stderr",
     "output_type": "stream",
     "text": [
      " 55%|█████▍    | 5482479/10000000 [3:41:20<2:21:02, 533.84it/s]   "
     ]
    },
    {
     "ename": "",
     "evalue": "",
     "output_type": "error",
     "traceback": [
      "\u001b[1;31mCannot execute code, session has been disposed. Please try restarting the Kernel."
     ]
    },
    {
     "ename": "",
     "evalue": "",
     "output_type": "error",
     "traceback": [
      "\u001b[1;31mThe Kernel crashed while executing code in the the current cell or a previous cell. Please review the code in the cell(s) to identify a possible cause of the failure. Click <a href='https://aka.ms/vscodeJupyterKernelCrash'>here</a> for more info. View Jupyter <a href='command:jupyter.viewOutput'>log</a> for further details."
     ]
    }
   ],
   "source": [
    "# Create lists\n",
    "metrics = []\n",
    "weighted_metrics = []\n",
    "\n",
    "for i, j in tqdm(pairs, total=pairs.shape[0]):\n",
    "\n",
    "    # Add unweighted results\n",
    "    metrics.append(\n",
    "        spectral_entropy.all_similarity(\n",
    "            np.array(list(zip(list(spectra[i].mz), list(spectra[i].intensity))), dtype=np.float32),\n",
    "            np.array(list(zip(list(spectra[j].mz), list(spectra[j].intensity))), dtype=np.float32),\n",
    "            ms2_da=0.1,  # Same as Wout's paper\n",
    "        )\n",
    "    )\n",
    "    \n",
    "    # Add weighted results\n",
    "    weighted_intensity1 = intensity_weight_func(spectra[i].intensity)*weight_df.loc[spectra[i].mz, 'weight']\n",
    "    weighted_intensity2 = intensity_weight_func(spectra[j].intensity)*weight_df.loc[spectra[j].mz, 'weight']\n",
    "    current_dict = spectral_entropy.all_similarity(\n",
    "            np.array(list(zip(list(spectra[i].mz), \n",
    "                              list(weighted_intensity1))), dtype=np.float32),\n",
    "            np.array(list(zip(list(spectra[j].mz), \n",
    "                              list(weighted_intensity2))), dtype=np.float32),\n",
    "            ms2_da=0.1,  # Same as Wout's paper \n",
    "        )\n",
    "    renamed_dict = {'adjusted_'+key:current_dict[key] for key in current_dict.keys()}\n",
    "    weighted_metrics.append(\n",
    "        renamed_dict\n",
    "    )"
   ]
  },
  {
   "cell_type": "code",
   "execution_count": null,
   "id": "fab17e3a",
   "metadata": {},
   "outputs": [],
   "source": [
    "# Concatenate both dataframes.\n",
    "final_df = pd.concat(\n",
    "    [\n",
    "        similarities_df,\n",
    "        pd.DataFrame(metrics),\n",
    "    ],\n",
    "    axis=1,\n",
    ")\n",
    "\n",
    "final_weighted_df = pd.concat(\n",
    "    [\n",
    "        similarities_df,\n",
    "        pd.DataFrame(weighted_metrics)\n",
    "    ],\n",
    "    axis=1,\n",
    ")"
   ]
  },
  {
   "cell_type": "code",
   "execution_count": null,
   "id": "bbada582",
   "metadata": {},
   "outputs": [],
   "source": [
    "# Export dataframe as parquet\n",
    "final_df.to_parquet(\"../../data/benchmark_metrics.parquet\")\n",
    "final_weighted_df.to_parquet('../../data/weighted_benchmark_metrics.parquet')"
   ]
  },
  {
   "cell_type": "code",
   "execution_count": null,
   "id": "55bdbb25",
   "metadata": {},
   "outputs": [],
   "source": []
  }
 ],
 "metadata": {
  "kernelspec": {
   "display_name": "Python 3 (ipykernel)",
   "language": "python",
   "name": "python3"
  },
  "language_info": {
   "codemirror_mode": {
    "name": "ipython",
    "version": 3
   },
   "file_extension": ".py",
   "mimetype": "text/x-python",
   "name": "python",
   "nbconvert_exporter": "python",
   "pygments_lexer": "ipython3",
   "version": "3.9.16"
  }
 },
 "nbformat": 4,
 "nbformat_minor": 5
}
